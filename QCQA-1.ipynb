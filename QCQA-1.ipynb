{
 "cells": [
  {
   "cell_type": "code",
   "execution_count": 1,
   "id": "db0b26ee",
   "metadata": {},
   "outputs": [
    {
     "name": "stdout",
     "output_type": "stream",
     "text": [
      "QC - Number of defective items: 86\n",
      "QA - Average quality score: 50.95\n",
      "QA - Suggest process improvement to increase average quality.\n"
     ]
    }
   ],
   "source": [
    "import random\n",
    "\n",
    "# Simulate a manufacturing process that produces items with random quality scores\n",
    "def produce_items(num_items):\n",
    "    return [random.uniform(0, 100) for _ in range(num_items)]\n",
    "\n",
    "# Quality Control: Inspect items and identify defects\n",
    "def quality_control(items, threshold=90):\n",
    "    defects = [item for item in items if item < threshold]\n",
    "    print(f\"QC - Number of defective items: {len(defects)}\")\n",
    "    return defects\n",
    "\n",
    "# Quality Assurance: Analyze process and suggest improvements\n",
    "def quality_assurance(items):\n",
    "    average_quality = sum(items) / len(items)\n",
    "    print(f\"QA - Average quality score: {average_quality:.2f}\")\n",
    "    if average_quality < 95:\n",
    "        print(\"QA - Suggest process improvement to increase average quality.\")\n",
    "\n",
    "# Example usage\n",
    "items = produce_items(100)  # Produce 100 items\n",
    "defects = quality_control(items)  # Perform QC\n",
    "quality_assurance(items)  # Perform QA"
   ]
  }
 ],
 "metadata": {
  "kernelspec": {
   "display_name": "base",
   "language": "python",
   "name": "python3"
  },
  "language_info": {
   "codemirror_mode": {
    "name": "ipython",
    "version": 3
   },
   "file_extension": ".py",
   "mimetype": "text/x-python",
   "name": "python",
   "nbconvert_exporter": "python",
   "pygments_lexer": "ipython3",
   "version": "3.9.12"
  }
 },
 "nbformat": 4,
 "nbformat_minor": 5
}

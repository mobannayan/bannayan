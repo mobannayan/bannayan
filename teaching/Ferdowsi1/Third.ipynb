{
 "cells": [
  {
   "cell_type": "markdown",
   "id": "70c96dc2",
   "metadata": {},
   "source": [
    "Conditional statements"
   ]
  },
  {
   "cell_type": "code",
   "execution_count": 2,
   "id": "93a6c97b",
   "metadata": {},
   "outputs": [
    {
     "name": "stdout",
     "output_type": "stream",
     "text": [
      "Thank you\n"
     ]
    }
   ],
   "source": [
    "x = 6\n",
    "y = 8\n",
    "# if condition:\n",
    "if x < y:\n",
    " print('Thank you')"
   ]
  },
  {
   "cell_type": "code",
   "execution_count": 3,
   "id": "97c4b455",
   "metadata": {},
   "outputs": [],
   "source": [
    "x = 6\n",
    "y = 8\n",
    "# if condition:\n",
    "if x > y:\n",
    " print('Thank you')"
   ]
  },
  {
   "cell_type": "code",
   "execution_count": 4,
   "id": "3341c4f8",
   "metadata": {},
   "outputs": [
    {
     "name": "stdout",
     "output_type": "stream",
     "text": [
      "wrong\n"
     ]
    }
   ],
   "source": [
    "x = 6\n",
    "y = 8\n",
    "\n",
    "if x > y:\n",
    " print('Thank you')\n",
    "else:\n",
    " print('wrong')"
   ]
  },
  {
   "cell_type": "code",
   "execution_count": 6,
   "id": "ec58a1a0",
   "metadata": {},
   "outputs": [
    {
     "name": "stdout",
     "output_type": "stream",
     "text": [
      "Thank you\n"
     ]
    }
   ],
   "source": [
    "# Nested if\n",
    "x = 6\n",
    "y = 8\n",
    "\n",
    "if x < y:\n",
    " print('Thank you')\n",
    "elif x == y:\n",
    " print('Bye')\n",
    "else:\n",
    " print('Done')"
   ]
  },
  {
   "cell_type": "code",
   "execution_count": 9,
   "id": "45b1a4bf",
   "metadata": {},
   "outputs": [
    {
     "name": "stdout",
     "output_type": "stream",
     "text": [
      "check\n"
     ]
    }
   ],
   "source": [
    "x = 2\n",
    "if x<1:\n",
    "    print('ok')\n",
    "    print('check2')\n",
    "print('check')"
   ]
  },
  {
   "cell_type": "code",
   "execution_count": 11,
   "id": "86b9dbe6",
   "metadata": {},
   "outputs": [
    {
     "name": "stdout",
     "output_type": "stream",
     "text": [
      "positive\n"
     ]
    }
   ],
   "source": [
    "a = int(input('your number'))\n",
    "if a>=0:\n",
    "    print('positive')\n",
    "else:\n",
    "    print('Negative')"
   ]
  },
  {
   "cell_type": "code",
   "execution_count": 13,
   "id": "39f58c28",
   "metadata": {},
   "outputs": [
    {
     "name": "stdout",
     "output_type": "stream",
     "text": [
      "odd\n"
     ]
    }
   ],
   "source": [
    "a = int(input('your age'))\n",
    "if a%2 == 0:\n",
    "    print('even')\n",
    "else:\n",
    "    print('odd')"
   ]
  },
  {
   "cell_type": "markdown",
   "id": "0729106f",
   "metadata": {},
   "source": [
    "For Loops\n",
    "\n",
    "for 'counter' in range('number')"
   ]
  },
  {
   "cell_type": "code",
   "execution_count": 14,
   "id": "e200330c",
   "metadata": {},
   "outputs": [
    {
     "name": "stdout",
     "output_type": "stream",
     "text": [
      "0\n",
      "1\n",
      "2\n",
      "3\n"
     ]
    }
   ],
   "source": [
    "num = int(input('type a number'))\n",
    "for i in range(num):\n",
    "    print(i)"
   ]
  },
  {
   "cell_type": "code",
   "execution_count": 16,
   "id": "76b189a6",
   "metadata": {},
   "outputs": [
    {
     "name": "stdout",
     "output_type": "stream",
     "text": [
      "1\n",
      "2\n",
      "3\n",
      "4\n",
      "5\n"
     ]
    }
   ],
   "source": [
    "mylist = [1, 2, 3, 4, 5]\n",
    "for items in mylist:\n",
    "    print(items)\n",
    "#mylist"
   ]
  },
  {
   "cell_type": "code",
   "execution_count": 18,
   "id": "19c81549",
   "metadata": {},
   "outputs": [
    {
     "name": "stdout",
     "output_type": "stream",
     "text": [
      "apple\n",
      "orange\n",
      "peer\n",
      "melon\n"
     ]
    }
   ],
   "source": [
    "fruits = ['apple', 'orange', 'peer', 'melon']\n",
    "\n",
    "for fruit in fruits:\n",
    "    print(fruit)"
   ]
  },
  {
   "cell_type": "code",
   "execution_count": 20,
   "id": "1f02d375",
   "metadata": {},
   "outputs": [],
   "source": [
    "import random"
   ]
  },
  {
   "cell_type": "code",
   "execution_count": 23,
   "id": "fc601dc1",
   "metadata": {},
   "outputs": [
    {
     "name": "stdout",
     "output_type": "stream",
     "text": [
      "['apple18', 'orange14', 'peer17', 'melon15']\n"
     ]
    }
   ],
   "source": [
    "fruits = ['apple', 'orange', 'peer', 'melon']\n",
    "\n",
    "for i in range(len(fruits)):\n",
    "    number = random.randint(10,20)\n",
    "    fruits[i] = fruits[i] + str(number)\n",
    "\n",
    "print(fruits)"
   ]
  },
  {
   "cell_type": "code",
   "execution_count": 24,
   "id": "4b1e6705",
   "metadata": {},
   "outputs": [
    {
     "name": "stdout",
     "output_type": "stream",
     "text": [
      "['apple---->18', 'orange---->14', 'peer---->20', 'melon---->10']\n"
     ]
    }
   ],
   "source": [
    "fruits = ['apple', 'orange', 'peer', 'melon']\n",
    "\n",
    "for i in range(len(fruits)):\n",
    "    number = random.randint(10,20)\n",
    "    fruits[i] = fruits[i] + '---->'+str(number)\n",
    "\n",
    "print(fruits)"
   ]
  },
  {
   "cell_type": "code",
   "execution_count": 25,
   "id": "b4f9a5ff",
   "metadata": {},
   "outputs": [
    {
     "data": {
      "text/plain": [
       "list"
      ]
     },
     "execution_count": 25,
     "metadata": {},
     "output_type": "execute_result"
    }
   ],
   "source": [
    "type(fruits)"
   ]
  },
  {
   "cell_type": "markdown",
   "id": "56de40ce",
   "metadata": {},
   "source": [
    "Files"
   ]
  },
  {
   "cell_type": "code",
   "execution_count": 26,
   "id": "5a3d0a05",
   "metadata": {},
   "outputs": [],
   "source": [
    "import pandas as pd"
   ]
  },
  {
   "cell_type": "code",
   "execution_count": 34,
   "id": "8d48acf9",
   "metadata": {},
   "outputs": [],
   "source": [
    "df1 = pd.read_csv('weather_2.csv')\n",
    "#df1.head(16)"
   ]
  },
  {
   "cell_type": "code",
   "execution_count": 35,
   "id": "6db61715",
   "metadata": {},
   "outputs": [
    {
     "data": {
      "text/html": [
       "<div>\n",
       "<style scoped>\n",
       "    .dataframe tbody tr th:only-of-type {\n",
       "        vertical-align: middle;\n",
       "    }\n",
       "\n",
       "    .dataframe tbody tr th {\n",
       "        vertical-align: top;\n",
       "    }\n",
       "\n",
       "    .dataframe thead th {\n",
       "        text-align: right;\n",
       "    }\n",
       "</style>\n",
       "<table border=\"1\" class=\"dataframe\">\n",
       "  <thead>\n",
       "    <tr style=\"text-align: right;\">\n",
       "      <th></th>\n",
       "      <th>apple</th>\n",
       "      <th>Banana</th>\n",
       "    </tr>\n",
       "  </thead>\n",
       "  <tbody>\n",
       "    <tr>\n",
       "      <th>0</th>\n",
       "      <td>30</td>\n",
       "      <td>15</td>\n",
       "    </tr>\n",
       "  </tbody>\n",
       "</table>\n",
       "</div>"
      ],
      "text/plain": [
       "   apple  Banana\n",
       "0     30      15"
      ]
     },
     "execution_count": 35,
     "metadata": {},
     "output_type": "execute_result"
    }
   ],
   "source": [
    "# Dictionary: key & value\n",
    "fruits = pd.DataFrame({'apple':[30], 'Banana':[15]})\n",
    "fruits"
   ]
  },
  {
   "cell_type": "code",
   "execution_count": 36,
   "id": "139cf070",
   "metadata": {},
   "outputs": [
    {
     "data": {
      "text/html": [
       "<div>\n",
       "<style scoped>\n",
       "    .dataframe tbody tr th:only-of-type {\n",
       "        vertical-align: middle;\n",
       "    }\n",
       "\n",
       "    .dataframe tbody tr th {\n",
       "        vertical-align: top;\n",
       "    }\n",
       "\n",
       "    .dataframe thead th {\n",
       "        text-align: right;\n",
       "    }\n",
       "</style>\n",
       "<table border=\"1\" class=\"dataframe\">\n",
       "  <thead>\n",
       "    <tr style=\"text-align: right;\">\n",
       "      <th></th>\n",
       "      <th>apple</th>\n",
       "      <th>Banana</th>\n",
       "    </tr>\n",
       "  </thead>\n",
       "  <tbody>\n",
       "    <tr>\n",
       "      <th>2017</th>\n",
       "      <td>30</td>\n",
       "      <td>21</td>\n",
       "    </tr>\n",
       "    <tr>\n",
       "      <th>2018</th>\n",
       "      <td>41</td>\n",
       "      <td>15</td>\n",
       "    </tr>\n",
       "  </tbody>\n",
       "</table>\n",
       "</div>"
      ],
      "text/plain": [
       "      apple  Banana\n",
       "2017     30      21\n",
       "2018     41      15"
      ]
     },
     "execution_count": 36,
     "metadata": {},
     "output_type": "execute_result"
    }
   ],
   "source": [
    "fruits_sale =pd.DataFrame({'apple':[30, 41], 'Banana':[21, 15]}, index = [2017, 2018])\n",
    "fruits_sale"
   ]
  },
  {
   "cell_type": "code",
   "execution_count": null,
   "id": "3437fe7f",
   "metadata": {},
   "outputs": [
    {
     "data": {
      "text/html": [
       "<div>\n",
       "<style scoped>\n",
       "    .dataframe tbody tr th:only-of-type {\n",
       "        vertical-align: middle;\n",
       "    }\n",
       "\n",
       "    .dataframe tbody tr th {\n",
       "        vertical-align: top;\n",
       "    }\n",
       "\n",
       "    .dataframe thead th {\n",
       "        text-align: right;\n",
       "    }\n",
       "</style>\n",
       "<table border=\"1\" class=\"dataframe\">\n",
       "  <thead>\n",
       "    <tr style=\"text-align: right;\">\n",
       "      <th></th>\n",
       "      <th>A</th>\n",
       "      <th>B</th>\n",
       "      <th>C</th>\n",
       "    </tr>\n",
       "  </thead>\n",
       "  <tbody>\n",
       "    <tr>\n",
       "      <th>0</th>\n",
       "      <td>1</td>\n",
       "      <td>2</td>\n",
       "      <td>3</td>\n",
       "    </tr>\n",
       "    <tr>\n",
       "      <th>1</th>\n",
       "      <td>4</td>\n",
       "      <td>5</td>\n",
       "      <td>6</td>\n",
       "    </tr>\n",
       "    <tr>\n",
       "      <th>2</th>\n",
       "      <td>7</td>\n",
       "      <td>8</td>\n",
       "      <td>9</td>\n",
       "    </tr>\n",
       "  </tbody>\n",
       "</table>\n",
       "</div>"
      ],
      "text/plain": [
       "   A  B  C\n",
       "0  1  2  3\n",
       "1  4  5  6\n",
       "2  7  8  9"
      ]
     },
     "execution_count": 37,
     "metadata": {},
     "output_type": "execute_result"
    }
   ],
   "source": [
    "df2 = pd.DataFrame([[1,2,3], [4, 5, 6], [7,8,9]], columns = ['A', 'B', 'C'])\n",
    "df2"
   ]
  },
  {
   "cell_type": "code",
   "execution_count": 38,
   "id": "44267a66",
   "metadata": {},
   "outputs": [
    {
     "data": {
      "text/html": [
       "<div>\n",
       "<style scoped>\n",
       "    .dataframe tbody tr th:only-of-type {\n",
       "        vertical-align: middle;\n",
       "    }\n",
       "\n",
       "    .dataframe tbody tr th {\n",
       "        vertical-align: top;\n",
       "    }\n",
       "\n",
       "    .dataframe thead th {\n",
       "        text-align: right;\n",
       "    }\n",
       "</style>\n",
       "<table border=\"1\" class=\"dataframe\">\n",
       "  <thead>\n",
       "    <tr style=\"text-align: right;\">\n",
       "      <th></th>\n",
       "      <th>A</th>\n",
       "      <th>B</th>\n",
       "      <th>C</th>\n",
       "    </tr>\n",
       "  </thead>\n",
       "  <tbody>\n",
       "    <tr>\n",
       "      <th>X</th>\n",
       "      <td>1</td>\n",
       "      <td>2</td>\n",
       "      <td>3</td>\n",
       "    </tr>\n",
       "    <tr>\n",
       "      <th>Y</th>\n",
       "      <td>4</td>\n",
       "      <td>5</td>\n",
       "      <td>6</td>\n",
       "    </tr>\n",
       "    <tr>\n",
       "      <th>Z</th>\n",
       "      <td>7</td>\n",
       "      <td>8</td>\n",
       "      <td>9</td>\n",
       "    </tr>\n",
       "  </tbody>\n",
       "</table>\n",
       "</div>"
      ],
      "text/plain": [
       "   A  B  C\n",
       "X  1  2  3\n",
       "Y  4  5  6\n",
       "Z  7  8  9"
      ]
     },
     "execution_count": 38,
     "metadata": {},
     "output_type": "execute_result"
    }
   ],
   "source": [
    "df2 = pd.DataFrame([[1,2,3], [4, 5, 6], [7,8,9]], columns = ['A', 'B', 'C'], index = ['X', 'Y', 'Z'])\n",
    "df2"
   ]
  },
  {
   "cell_type": "code",
   "execution_count": 39,
   "id": "3c5b139d",
   "metadata": {},
   "outputs": [
    {
     "name": "stdout",
     "output_type": "stream",
     "text": [
      "<class 'pandas.core.frame.DataFrame'>\n",
      "RangeIndex: 366 entries, 0 to 365\n",
      "Data columns (total 7 columns):\n",
      " #   Column     Non-Null Count  Dtype  \n",
      "---  ------     --------------  -----  \n",
      " 0   t          366 non-null    int64  \n",
      " 1   hum%       366 non-null    float64\n",
      " 2   Tmax       366 non-null    float64\n",
      " 3   Tmin       366 non-null    float64\n",
      " 4   Rain       366 non-null    float64\n",
      " 5   rainydays  366 non-null    int64  \n",
      " 6   Hum        366 non-null    float64\n",
      "dtypes: float64(5), int64(2)\n",
      "memory usage: 20.1 KB\n"
     ]
    }
   ],
   "source": [
    "df1.info()"
   ]
  },
  {
   "cell_type": "code",
   "execution_count": 40,
   "id": "8160f211",
   "metadata": {},
   "outputs": [
    {
     "data": {
      "text/html": [
       "<div>\n",
       "<style scoped>\n",
       "    .dataframe tbody tr th:only-of-type {\n",
       "        vertical-align: middle;\n",
       "    }\n",
       "\n",
       "    .dataframe tbody tr th {\n",
       "        vertical-align: top;\n",
       "    }\n",
       "\n",
       "    .dataframe thead th {\n",
       "        text-align: right;\n",
       "    }\n",
       "</style>\n",
       "<table border=\"1\" class=\"dataframe\">\n",
       "  <thead>\n",
       "    <tr style=\"text-align: right;\">\n",
       "      <th></th>\n",
       "      <th>t</th>\n",
       "      <th>hum%</th>\n",
       "      <th>Tmax</th>\n",
       "      <th>Tmin</th>\n",
       "      <th>Rain</th>\n",
       "      <th>rainydays</th>\n",
       "      <th>Hum</th>\n",
       "    </tr>\n",
       "  </thead>\n",
       "  <tbody>\n",
       "    <tr>\n",
       "      <th>count</th>\n",
       "      <td>366.000000</td>\n",
       "      <td>366.000000</td>\n",
       "      <td>366.000000</td>\n",
       "      <td>366.000000</td>\n",
       "      <td>366.000000</td>\n",
       "      <td>366.000000</td>\n",
       "      <td>366.000000</td>\n",
       "    </tr>\n",
       "    <tr>\n",
       "      <th>mean</th>\n",
       "      <td>183.500000</td>\n",
       "      <td>56.836066</td>\n",
       "      <td>22.382514</td>\n",
       "      <td>9.032787</td>\n",
       "      <td>0.872678</td>\n",
       "      <td>0.226776</td>\n",
       "      <td>0.568361</td>\n",
       "    </tr>\n",
       "    <tr>\n",
       "      <th>std</th>\n",
       "      <td>105.799338</td>\n",
       "      <td>18.368751</td>\n",
       "      <td>11.081262</td>\n",
       "      <td>8.393590</td>\n",
       "      <td>3.163450</td>\n",
       "      <td>0.419320</td>\n",
       "      <td>0.183688</td>\n",
       "    </tr>\n",
       "    <tr>\n",
       "      <th>min</th>\n",
       "      <td>1.000000</td>\n",
       "      <td>20.000000</td>\n",
       "      <td>-1.500000</td>\n",
       "      <td>-16.500000</td>\n",
       "      <td>0.000000</td>\n",
       "      <td>0.000000</td>\n",
       "      <td>0.200000</td>\n",
       "    </tr>\n",
       "    <tr>\n",
       "      <th>25%</th>\n",
       "      <td>92.250000</td>\n",
       "      <td>43.725000</td>\n",
       "      <td>12.750000</td>\n",
       "      <td>2.500000</td>\n",
       "      <td>0.000000</td>\n",
       "      <td>0.000000</td>\n",
       "      <td>0.437250</td>\n",
       "    </tr>\n",
       "    <tr>\n",
       "      <th>50%</th>\n",
       "      <td>183.500000</td>\n",
       "      <td>57.600000</td>\n",
       "      <td>23.500000</td>\n",
       "      <td>9.500000</td>\n",
       "      <td>0.000000</td>\n",
       "      <td>0.000000</td>\n",
       "      <td>0.576000</td>\n",
       "    </tr>\n",
       "    <tr>\n",
       "      <th>75%</th>\n",
       "      <td>274.750000</td>\n",
       "      <td>71.650000</td>\n",
       "      <td>32.500000</td>\n",
       "      <td>15.500000</td>\n",
       "      <td>0.000000</td>\n",
       "      <td>0.000000</td>\n",
       "      <td>0.716500</td>\n",
       "    </tr>\n",
       "    <tr>\n",
       "      <th>max</th>\n",
       "      <td>366.000000</td>\n",
       "      <td>92.800000</td>\n",
       "      <td>41.500000</td>\n",
       "      <td>24.500000</td>\n",
       "      <td>39.000000</td>\n",
       "      <td>1.000000</td>\n",
       "      <td>0.928000</td>\n",
       "    </tr>\n",
       "  </tbody>\n",
       "</table>\n",
       "</div>"
      ],
      "text/plain": [
       "                t        hum%        Tmax        Tmin       Rain    rainydays  \\\n",
       "count  366.000000  366.000000  366.000000  366.000000  366.000000  366.000000   \n",
       "mean   183.500000   56.836066   22.382514    9.032787    0.872678    0.226776   \n",
       "std    105.799338   18.368751   11.081262    8.393590    3.163450    0.419320   \n",
       "min      1.000000   20.000000   -1.500000  -16.500000    0.000000    0.000000   \n",
       "25%     92.250000   43.725000   12.750000    2.500000    0.000000    0.000000   \n",
       "50%    183.500000   57.600000   23.500000    9.500000    0.000000    0.000000   \n",
       "75%    274.750000   71.650000   32.500000   15.500000    0.000000    0.000000   \n",
       "max    366.000000   92.800000   41.500000   24.500000   39.000000    1.000000   \n",
       "\n",
       "              Hum  \n",
       "count  366.000000  \n",
       "mean     0.568361  \n",
       "std      0.183688  \n",
       "min      0.200000  \n",
       "25%      0.437250  \n",
       "50%      0.576000  \n",
       "75%      0.716500  \n",
       "max      0.928000  "
      ]
     },
     "execution_count": 40,
     "metadata": {},
     "output_type": "execute_result"
    }
   ],
   "source": [
    "df1.describe()"
   ]
  },
  {
   "cell_type": "code",
   "execution_count": 41,
   "id": "27b9770c",
   "metadata": {},
   "outputs": [
    {
     "data": {
      "text/html": [
       "<div>\n",
       "<style scoped>\n",
       "    .dataframe tbody tr th:only-of-type {\n",
       "        vertical-align: middle;\n",
       "    }\n",
       "\n",
       "    .dataframe tbody tr th {\n",
       "        vertical-align: top;\n",
       "    }\n",
       "\n",
       "    .dataframe thead th {\n",
       "        text-align: right;\n",
       "    }\n",
       "</style>\n",
       "<table border=\"1\" class=\"dataframe\">\n",
       "  <thead>\n",
       "    <tr style=\"text-align: right;\">\n",
       "      <th></th>\n",
       "      <th>count</th>\n",
       "      <th>mean</th>\n",
       "      <th>std</th>\n",
       "      <th>min</th>\n",
       "      <th>25%</th>\n",
       "      <th>50%</th>\n",
       "      <th>75%</th>\n",
       "      <th>max</th>\n",
       "    </tr>\n",
       "  </thead>\n",
       "  <tbody>\n",
       "    <tr>\n",
       "      <th>t</th>\n",
       "      <td>366.0</td>\n",
       "      <td>183.500000</td>\n",
       "      <td>105.799338</td>\n",
       "      <td>1.0</td>\n",
       "      <td>92.25000</td>\n",
       "      <td>183.500</td>\n",
       "      <td>274.7500</td>\n",
       "      <td>366.000</td>\n",
       "    </tr>\n",
       "    <tr>\n",
       "      <th>hum%</th>\n",
       "      <td>366.0</td>\n",
       "      <td>56.836066</td>\n",
       "      <td>18.368751</td>\n",
       "      <td>20.0</td>\n",
       "      <td>43.72500</td>\n",
       "      <td>57.600</td>\n",
       "      <td>71.6500</td>\n",
       "      <td>92.800</td>\n",
       "    </tr>\n",
       "    <tr>\n",
       "      <th>Tmax</th>\n",
       "      <td>366.0</td>\n",
       "      <td>22.382514</td>\n",
       "      <td>11.081262</td>\n",
       "      <td>-1.5</td>\n",
       "      <td>12.75000</td>\n",
       "      <td>23.500</td>\n",
       "      <td>32.5000</td>\n",
       "      <td>41.500</td>\n",
       "    </tr>\n",
       "    <tr>\n",
       "      <th>Tmin</th>\n",
       "      <td>366.0</td>\n",
       "      <td>9.032787</td>\n",
       "      <td>8.393590</td>\n",
       "      <td>-16.5</td>\n",
       "      <td>2.50000</td>\n",
       "      <td>9.500</td>\n",
       "      <td>15.5000</td>\n",
       "      <td>24.500</td>\n",
       "    </tr>\n",
       "    <tr>\n",
       "      <th>Rain</th>\n",
       "      <td>366.0</td>\n",
       "      <td>0.872678</td>\n",
       "      <td>3.163450</td>\n",
       "      <td>0.0</td>\n",
       "      <td>0.00000</td>\n",
       "      <td>0.000</td>\n",
       "      <td>0.0000</td>\n",
       "      <td>39.000</td>\n",
       "    </tr>\n",
       "    <tr>\n",
       "      <th>rainydays</th>\n",
       "      <td>366.0</td>\n",
       "      <td>0.226776</td>\n",
       "      <td>0.419320</td>\n",
       "      <td>0.0</td>\n",
       "      <td>0.00000</td>\n",
       "      <td>0.000</td>\n",
       "      <td>0.0000</td>\n",
       "      <td>1.000</td>\n",
       "    </tr>\n",
       "    <tr>\n",
       "      <th>Hum</th>\n",
       "      <td>366.0</td>\n",
       "      <td>0.568361</td>\n",
       "      <td>0.183688</td>\n",
       "      <td>0.2</td>\n",
       "      <td>0.43725</td>\n",
       "      <td>0.576</td>\n",
       "      <td>0.7165</td>\n",
       "      <td>0.928</td>\n",
       "    </tr>\n",
       "  </tbody>\n",
       "</table>\n",
       "</div>"
      ],
      "text/plain": [
       "           count        mean         std   min       25%      50%       75%  \\\n",
       "t          366.0  183.500000  105.799338   1.0  92.25000  183.500  274.7500   \n",
       "hum%       366.0   56.836066   18.368751  20.0  43.72500   57.600   71.6500   \n",
       "Tmax       366.0   22.382514   11.081262  -1.5  12.75000   23.500   32.5000   \n",
       "Tmin       366.0    9.032787    8.393590 -16.5   2.50000    9.500   15.5000   \n",
       "Rain       366.0    0.872678    3.163450   0.0   0.00000    0.000    0.0000   \n",
       "rainydays  366.0    0.226776    0.419320   0.0   0.00000    0.000    0.0000   \n",
       "Hum        366.0    0.568361    0.183688   0.2   0.43725    0.576    0.7165   \n",
       "\n",
       "               max  \n",
       "t          366.000  \n",
       "hum%        92.800  \n",
       "Tmax        41.500  \n",
       "Tmin        24.500  \n",
       "Rain        39.000  \n",
       "rainydays    1.000  \n",
       "Hum          0.928  "
      ]
     },
     "execution_count": 41,
     "metadata": {},
     "output_type": "execute_result"
    }
   ],
   "source": [
    "df1.describe().transpose()"
   ]
  },
  {
   "cell_type": "code",
   "execution_count": 42,
   "id": "664e70b1",
   "metadata": {},
   "outputs": [
    {
     "data": {
      "text/plain": [
       "(366, 7)"
      ]
     },
     "execution_count": 42,
     "metadata": {},
     "output_type": "execute_result"
    }
   ],
   "source": [
    "df1.shape"
   ]
  },
  {
   "cell_type": "code",
   "execution_count": 44,
   "id": "d37d87e7",
   "metadata": {},
   "outputs": [
    {
     "data": {
      "text/html": [
       "<div>\n",
       "<style scoped>\n",
       "    .dataframe tbody tr th:only-of-type {\n",
       "        vertical-align: middle;\n",
       "    }\n",
       "\n",
       "    .dataframe tbody tr th {\n",
       "        vertical-align: top;\n",
       "    }\n",
       "\n",
       "    .dataframe thead th {\n",
       "        text-align: right;\n",
       "    }\n",
       "</style>\n",
       "<table border=\"1\" class=\"dataframe\">\n",
       "  <thead>\n",
       "    <tr style=\"text-align: right;\">\n",
       "      <th></th>\n",
       "      <th>sepal_length</th>\n",
       "      <th>sepal_width</th>\n",
       "      <th>petal_length</th>\n",
       "      <th>petal_width</th>\n",
       "      <th>species</th>\n",
       "    </tr>\n",
       "  </thead>\n",
       "  <tbody>\n",
       "    <tr>\n",
       "      <th>0</th>\n",
       "      <td>5.1</td>\n",
       "      <td>3.5</td>\n",
       "      <td>1.4</td>\n",
       "      <td>0.2</td>\n",
       "      <td>setosa</td>\n",
       "    </tr>\n",
       "    <tr>\n",
       "      <th>1</th>\n",
       "      <td>4.9</td>\n",
       "      <td>3.0</td>\n",
       "      <td>1.4</td>\n",
       "      <td>0.2</td>\n",
       "      <td>setosa</td>\n",
       "    </tr>\n",
       "    <tr>\n",
       "      <th>2</th>\n",
       "      <td>4.7</td>\n",
       "      <td>3.2</td>\n",
       "      <td>1.3</td>\n",
       "      <td>0.2</td>\n",
       "      <td>setosa</td>\n",
       "    </tr>\n",
       "    <tr>\n",
       "      <th>3</th>\n",
       "      <td>4.6</td>\n",
       "      <td>3.1</td>\n",
       "      <td>1.5</td>\n",
       "      <td>0.2</td>\n",
       "      <td>setosa</td>\n",
       "    </tr>\n",
       "    <tr>\n",
       "      <th>4</th>\n",
       "      <td>5.0</td>\n",
       "      <td>3.6</td>\n",
       "      <td>1.4</td>\n",
       "      <td>0.2</td>\n",
       "      <td>setosa</td>\n",
       "    </tr>\n",
       "  </tbody>\n",
       "</table>\n",
       "</div>"
      ],
      "text/plain": [
       "   sepal_length  sepal_width  petal_length  petal_width species\n",
       "0           5.1          3.5           1.4          0.2  setosa\n",
       "1           4.9          3.0           1.4          0.2  setosa\n",
       "2           4.7          3.2           1.3          0.2  setosa\n",
       "3           4.6          3.1           1.5          0.2  setosa\n",
       "4           5.0          3.6           1.4          0.2  setosa"
      ]
     },
     "execution_count": 44,
     "metadata": {},
     "output_type": "execute_result"
    }
   ],
   "source": [
    "url = \"https://raw.githubusercontent.com/mwaskom/seaborn-data/master/iris.csv\"\n",
    "web_df =pd.read_csv(url)\n",
    "web_df.head()"
   ]
  }
 ],
 "metadata": {
  "kernelspec": {
   "display_name": "Python 3",
   "language": "python",
   "name": "python3"
  },
  "language_info": {
   "codemirror_mode": {
    "name": "ipython",
    "version": 3
   },
   "file_extension": ".py",
   "mimetype": "text/x-python",
   "name": "python",
   "nbconvert_exporter": "python",
   "pygments_lexer": "ipython3",
   "version": "3.12.6"
  }
 },
 "nbformat": 4,
 "nbformat_minor": 5
}

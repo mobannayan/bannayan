{
 "cells": [
  {
   "cell_type": "code",
   "execution_count": null,
   "id": "00e792c9",
   "metadata": {},
   "outputs": [],
   "source": [
    "# pip install pandas or pip3 install pandas\n",
    "import pandas as pd"
   ]
  },
  {
   "cell_type": "markdown",
   "id": "40ba1698",
   "metadata": {},
   "source": [
    "Data types: simple, complex, custome: simple>>>> float, int, None, Boolean (bool)\n",
    "\n",
    "comlex: string (str), list, dictionary, tuple, set"
   ]
  },
  {
   "cell_type": "markdown",
   "id": "6bd7904c",
   "metadata": {},
   "source": [
    "+, -, *, /, //, %"
   ]
  },
  {
   "cell_type": "code",
   "execution_count": 3,
   "id": "6412525e",
   "metadata": {},
   "outputs": [
    {
     "data": {
      "text/plain": [
       "-3"
      ]
     },
     "execution_count": 3,
     "metadata": {},
     "output_type": "execute_result"
    }
   ],
   "source": [
    "b = 13\n",
    "a = 10\n",
    "c = a-b\n",
    "c"
   ]
  },
  {
   "cell_type": "code",
   "execution_count": 7,
   "id": "c5a01d34",
   "metadata": {},
   "outputs": [
    {
     "name": "stdout",
     "output_type": "stream",
     "text": [
      "sallam\n"
     ]
    }
   ],
   "source": [
    "print('sallam')"
   ]
  },
  {
   "cell_type": "code",
   "execution_count": 9,
   "id": "2077387c",
   "metadata": {},
   "outputs": [
    {
     "name": "stdout",
     "output_type": "stream",
     "text": [
      "10,100\n"
     ]
    }
   ],
   "source": [
    "print(10, 100, sep=',')"
   ]
  },
  {
   "cell_type": "code",
   "execution_count": 11,
   "id": "def3c859",
   "metadata": {},
   "outputs": [
    {
     "name": "stdout",
     "output_type": "stream",
     "text": [
      "10\n",
      "100\n"
     ]
    }
   ],
   "source": [
    "print(10, 100, sep='\\n')"
   ]
  },
  {
   "cell_type": "code",
   "execution_count": 12,
   "id": "e352e75a",
   "metadata": {},
   "outputs": [
    {
     "name": "stdout",
     "output_type": "stream",
     "text": [
      "200\t300\t400\n"
     ]
    }
   ],
   "source": [
    "print(200, 300, 400, sep='\\t')"
   ]
  },
  {
   "cell_type": "code",
   "execution_count": 13,
   "id": "ad81d8ee",
   "metadata": {},
   "outputs": [
    {
     "name": "stdout",
     "output_type": "stream",
     "text": [
      "12345678910\n",
      "2468101214161820\n",
      "36912151821242730\n",
      "481216202428323640\n",
      "5101520253035404550\n",
      "6121824303642485460\n",
      "7142128354249566370\n",
      "8162432404856647280\n",
      "9182736455463728190\n",
      "102030405060708090100\n"
     ]
    }
   ],
   "source": [
    "# for countervariable in range(int):\n",
    "for i in range(1,11):\n",
    "    for j in range(1,11):\n",
    "        print(i * j, end='')\n",
    "    print()\n"
   ]
  },
  {
   "cell_type": "code",
   "execution_count": 14,
   "id": "62ef5ea9",
   "metadata": {},
   "outputs": [
    {
     "name": "stdout",
     "output_type": "stream",
     "text": [
      "1\t2\t3\t4\t5\t6\t7\t8\t9\t10\t\n",
      "2\t4\t6\t8\t10\t12\t14\t16\t18\t20\t\n",
      "3\t6\t9\t12\t15\t18\t21\t24\t27\t30\t\n",
      "4\t8\t12\t16\t20\t24\t28\t32\t36\t40\t\n",
      "5\t10\t15\t20\t25\t30\t35\t40\t45\t50\t\n",
      "6\t12\t18\t24\t30\t36\t42\t48\t54\t60\t\n",
      "7\t14\t21\t28\t35\t42\t49\t56\t63\t70\t\n",
      "8\t16\t24\t32\t40\t48\t56\t64\t72\t80\t\n",
      "9\t18\t27\t36\t45\t54\t63\t72\t81\t90\t\n",
      "10\t20\t30\t40\t50\t60\t70\t80\t90\t100\t\n"
     ]
    }
   ],
   "source": [
    "for i in range(1,11):\n",
    "    for j in range(1,11):\n",
    "        print(i * j, end='\\t')\n",
    "    print()\n"
   ]
  },
  {
   "cell_type": "code",
   "execution_count": null,
   "id": "c5822843",
   "metadata": {},
   "outputs": [],
   "source": [
    "mylist = [1, 2, 3, 'ali', 134]"
   ]
  }
 ],
 "metadata": {
  "kernelspec": {
   "display_name": "Python 3",
   "language": "python",
   "name": "python3"
  },
  "language_info": {
   "codemirror_mode": {
    "name": "ipython",
    "version": 3
   },
   "file_extension": ".py",
   "mimetype": "text/x-python",
   "name": "python",
   "nbconvert_exporter": "python",
   "pygments_lexer": "ipython3",
   "version": "3.12.6"
  }
 },
 "nbformat": 4,
 "nbformat_minor": 5
}

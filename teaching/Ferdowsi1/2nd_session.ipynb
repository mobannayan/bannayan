{
 "cells": [
  {
   "cell_type": "code",
   "execution_count": null,
   "id": "00e792c9",
   "metadata": {},
   "outputs": [],
   "source": [
    "# pip install pandas or pip3 install pandas\n",
    "import pandas as pd"
   ]
  },
  {
   "cell_type": "markdown",
   "id": "40ba1698",
   "metadata": {},
   "source": [
    "Data types: simple, complex, custome: simple>>>> float, int, None, Boolean (bool)\n",
    "\n",
    "comlex: string (str), list, dictionary, tuple, set"
   ]
  },
  {
   "cell_type": "markdown",
   "id": "6bd7904c",
   "metadata": {},
   "source": [
    "+, -, *, /, //, %"
   ]
  },
  {
   "cell_type": "code",
   "execution_count": 3,
   "id": "6412525e",
   "metadata": {},
   "outputs": [
    {
     "data": {
      "text/plain": [
       "-3"
      ]
     },
     "execution_count": 3,
     "metadata": {},
     "output_type": "execute_result"
    }
   ],
   "source": [
    "b = 13\n",
    "a = 10\n",
    "c = a-b\n",
    "c"
   ]
  },
  {
   "cell_type": "code",
   "execution_count": 7,
   "id": "c5a01d34",
   "metadata": {},
   "outputs": [
    {
     "name": "stdout",
     "output_type": "stream",
     "text": [
      "sallam\n"
     ]
    }
   ],
   "source": [
    "print('sallam')"
   ]
  },
  {
   "cell_type": "code",
   "execution_count": 9,
   "id": "2077387c",
   "metadata": {},
   "outputs": [
    {
     "name": "stdout",
     "output_type": "stream",
     "text": [
      "10,100\n"
     ]
    }
   ],
   "source": [
    "print(10, 100, sep=',')"
   ]
  },
  {
   "cell_type": "code",
   "execution_count": 11,
   "id": "def3c859",
   "metadata": {},
   "outputs": [
    {
     "name": "stdout",
     "output_type": "stream",
     "text": [
      "10\n",
      "100\n"
     ]
    }
   ],
   "source": [
    "print(10, 100, sep='\\n')"
   ]
  },
  {
   "cell_type": "code",
   "execution_count": 12,
   "id": "e352e75a",
   "metadata": {},
   "outputs": [
    {
     "name": "stdout",
     "output_type": "stream",
     "text": [
      "200\t300\t400\n"
     ]
    }
   ],
   "source": [
    "print(200, 300, 400, sep='\\t')"
   ]
  },
  {
   "cell_type": "code",
   "execution_count": null,
   "id": "ad81d8ee",
   "metadata": {},
   "outputs": [
    {
     "name": "stdout",
     "output_type": "stream",
     "text": [
      "12345678910\n",
      "2468101214161820\n",
      "36912151821242730\n",
      "481216202428323640\n",
      "5101520253035404550\n",
      "6121824303642485460\n",
      "7142128354249566370\n",
      "8162432404856647280\n",
      "9182736455463728190\n",
      "102030405060708090100\n"
     ]
    }
   ],
   "source": [
    "# for counter variable in range(int):\n",
    "for i in range(1,11):\n",
    "    for j in range(1,11):\n",
    "        print(i * j, end='')\n",
    "    print()\n"
   ]
  },
  {
   "cell_type": "code",
   "execution_count": 14,
   "id": "62ef5ea9",
   "metadata": {},
   "outputs": [
    {
     "name": "stdout",
     "output_type": "stream",
     "text": [
      "1\t2\t3\t4\t5\t6\t7\t8\t9\t10\t\n",
      "2\t4\t6\t8\t10\t12\t14\t16\t18\t20\t\n",
      "3\t6\t9\t12\t15\t18\t21\t24\t27\t30\t\n",
      "4\t8\t12\t16\t20\t24\t28\t32\t36\t40\t\n",
      "5\t10\t15\t20\t25\t30\t35\t40\t45\t50\t\n",
      "6\t12\t18\t24\t30\t36\t42\t48\t54\t60\t\n",
      "7\t14\t21\t28\t35\t42\t49\t56\t63\t70\t\n",
      "8\t16\t24\t32\t40\t48\t56\t64\t72\t80\t\n",
      "9\t18\t27\t36\t45\t54\t63\t72\t81\t90\t\n",
      "10\t20\t30\t40\t50\t60\t70\t80\t90\t100\t\n"
     ]
    }
   ],
   "source": [
    "for i in range(1,11):\n",
    "    for j in range(1,11):\n",
    "        print(i * j, end='\\t')\n",
    "    print()\n"
   ]
  },
  {
   "cell_type": "code",
   "execution_count": null,
   "id": "c5822843",
   "metadata": {},
   "outputs": [
    {
     "data": {
      "text/plain": [
       "'hi'"
      ]
     },
     "execution_count": 3,
     "metadata": {},
     "output_type": "execute_result"
    }
   ],
   "source": [
    "\"hi  thsui is my first string\""
   ]
  },
  {
   "cell_type": "code",
   "execution_count": null,
   "id": "9f341ab1",
   "metadata": {},
   "outputs": [
    {
     "data": {
      "text/plain": [
       "'\\nashdhjdghjd\\naHDGSAHDGSHAD\\nASKJDHSJDH\\n'"
      ]
     },
     "execution_count": 5,
     "metadata": {},
     "output_type": "execute_result"
    }
   ],
   "source": [
    "# docstring\n",
    "\"\"\"\n",
    "ashdhjdghjd\n",
    "aHDGSAHDGSHAD\n",
    "ASKJDHSJDH\n",
    "\"\"\"\n"
   ]
  },
  {
   "cell_type": "code",
   "execution_count": 6,
   "id": "63218c05",
   "metadata": {},
   "outputs": [
    {
     "data": {
      "text/plain": [
       "1.6666666666666667"
      ]
     },
     "execution_count": 6,
     "metadata": {},
     "output_type": "execute_result"
    }
   ],
   "source": [
    "aa = 5/3\n",
    "aa"
   ]
  },
  {
   "cell_type": "code",
   "execution_count": 7,
   "id": "e1126ae7",
   "metadata": {},
   "outputs": [
    {
     "data": {
      "text/plain": [
       "1.6667"
      ]
     },
     "execution_count": 7,
     "metadata": {},
     "output_type": "execute_result"
    }
   ],
   "source": [
    "b = round(5/3, 4)\n",
    "b"
   ]
  },
  {
   "cell_type": "code",
   "execution_count": 8,
   "id": "2f349454",
   "metadata": {},
   "outputs": [
    {
     "data": {
      "text/plain": [
       "float"
      ]
     },
     "execution_count": 8,
     "metadata": {},
     "output_type": "execute_result"
    }
   ],
   "source": [
    "type(b)"
   ]
  },
  {
   "cell_type": "code",
   "execution_count": 9,
   "id": "e1c3687a",
   "metadata": {},
   "outputs": [
    {
     "name": "stdout",
     "output_type": "stream",
     "text": [
      "3\n",
      "5.0\n",
      "5\n",
      "3\n"
     ]
    }
   ],
   "source": [
    "print(10 // 3)\n",
    "print(20 / 4)\n",
    "print(20 // 4)\n",
    "print(7 // 2)"
   ]
  },
  {
   "cell_type": "code",
   "execution_count": 10,
   "id": "37d48962",
   "metadata": {},
   "outputs": [
    {
     "name": "stdout",
     "output_type": "stream",
     "text": [
      "1\n",
      "0\n",
      "1\n"
     ]
    }
   ],
   "source": [
    "# Gives you the remainder\n",
    "print(10 % 3)\n",
    "print(20 % 4)\n",
    "print(7 % 2)"
   ]
  },
  {
   "cell_type": "code",
   "execution_count": null,
   "id": "9fba8d8a",
   "metadata": {},
   "outputs": [
    {
     "ename": "SyntaxError",
     "evalue": "invalid decimal literal (3478777125.py, line 1)",
     "output_type": "error",
     "traceback": [
      "  \u001b[36mCell\u001b[39m\u001b[36m \u001b[39m\u001b[32mIn[11]\u001b[39m\u001b[32m, line 1\u001b[39m\n\u001b[31m    \u001b[39m\u001b[31m2b =14\u001b[39m\n    ^\n\u001b[31mSyntaxError\u001b[39m\u001b[31m:\u001b[39m invalid decimal literal\n"
     ]
    }
   ],
   "source": [
    "2b = 14"
   ]
  },
  {
   "cell_type": "code",
   "execution_count": 14,
   "id": "c4a2add2",
   "metadata": {},
   "outputs": [
    {
     "data": {
      "text/plain": [
       "int"
      ]
     },
     "execution_count": 14,
     "metadata": {},
     "output_type": "execute_result"
    }
   ],
   "source": [
    "b2 = 14\n",
    "type(b2)"
   ]
  },
  {
   "cell_type": "markdown",
   "id": "18b0e923",
   "metadata": {},
   "source": [
    "Variables coversion"
   ]
  },
  {
   "cell_type": "code",
   "execution_count": 19,
   "id": "31a03381",
   "metadata": {},
   "outputs": [
    {
     "data": {
      "text/plain": [
       "'14'"
      ]
     },
     "execution_count": 19,
     "metadata": {},
     "output_type": "execute_result"
    }
   ],
   "source": [
    "b2 = str(b2)\n",
    "b2"
   ]
  },
  {
   "cell_type": "code",
   "execution_count": 20,
   "id": "3b72c09c",
   "metadata": {},
   "outputs": [
    {
     "data": {
      "text/plain": [
       "'14tom'"
      ]
     },
     "execution_count": 20,
     "metadata": {},
     "output_type": "execute_result"
    }
   ],
   "source": [
    "z = 'tom'\n",
    "bb = b2 + z\n",
    "bb"
   ]
  },
  {
   "cell_type": "code",
   "execution_count": 22,
   "id": "1762bad6",
   "metadata": {},
   "outputs": [
    {
     "data": {
      "text/plain": [
       "25"
      ]
     },
     "execution_count": 22,
     "metadata": {},
     "output_type": "execute_result"
    }
   ],
   "source": [
    "y1 = '23'\n",
    "y1 = int(y1)\n",
    "y1 = y1 + 2\n",
    "y1"
   ]
  },
  {
   "cell_type": "code",
   "execution_count": 23,
   "id": "c3764c73",
   "metadata": {},
   "outputs": [
    {
     "data": {
      "text/plain": [
       "25.0"
      ]
     },
     "execution_count": 23,
     "metadata": {},
     "output_type": "execute_result"
    }
   ],
   "source": [
    "y1 = float(y1)\n",
    "y1"
   ]
  },
  {
   "cell_type": "code",
   "execution_count": 24,
   "id": "d8497f7f",
   "metadata": {},
   "outputs": [
    {
     "data": {
      "text/plain": [
       "'20'"
      ]
     },
     "execution_count": 24,
     "metadata": {},
     "output_type": "execute_result"
    }
   ],
   "source": [
    "age = input('please input your age')\n",
    "age"
   ]
  },
  {
   "cell_type": "code",
   "execution_count": 25,
   "id": "f61abc72",
   "metadata": {},
   "outputs": [
    {
     "data": {
      "text/plain": [
       "20"
      ]
     },
     "execution_count": 25,
     "metadata": {},
     "output_type": "execute_result"
    }
   ],
   "source": [
    "age = int(input('please input your age'))\n",
    "age"
   ]
  },
  {
   "cell_type": "code",
   "execution_count": 26,
   "id": "c3b269f1",
   "metadata": {},
   "outputs": [
    {
     "name": "stdout",
     "output_type": "stream",
     "text": [
      "Ali\n",
      "22\n"
     ]
    }
   ],
   "source": [
    "name = input('your name?')\n",
    "age = input('your age?')\n",
    "print(name)\n",
    "print(age)"
   ]
  },
  {
   "cell_type": "code",
   "execution_count": 27,
   "id": "b065ae7d",
   "metadata": {},
   "outputs": [
    {
     "name": "stdout",
     "output_type": "stream",
     "text": [
      "Ali22\n"
     ]
    }
   ],
   "source": [
    "print(name + age)"
   ]
  },
  {
   "cell_type": "code",
   "execution_count": 28,
   "id": "6ce1fbab",
   "metadata": {},
   "outputs": [
    {
     "name": "stdout",
     "output_type": "stream",
     "text": [
      "Ali 22\n"
     ]
    }
   ],
   "source": [
    "print(name + ' ' + age)"
   ]
  },
  {
   "cell_type": "markdown",
   "id": "953603d8",
   "metadata": {},
   "source": [
    "strip() → cleans unwanted spaces or characters at the start and end. \n",
    "split() → divides a string into a list of parts."
   ]
  },
  {
   "cell_type": "code",
   "execution_count": 30,
   "id": "cc6d1045",
   "metadata": {},
   "outputs": [
    {
     "data": {
      "text/plain": [
       "'hello world'"
      ]
     },
     "execution_count": 30,
     "metadata": {},
     "output_type": "execute_result"
    }
   ],
   "source": [
    "text = '  hello world '\n",
    "text2 = text.strip()\n",
    "text2"
   ]
  },
  {
   "cell_type": "code",
   "execution_count": 31,
   "id": "b5c171f3",
   "metadata": {},
   "outputs": [
    {
     "data": {
      "text/plain": [
       "['hello', 'world']"
      ]
     },
     "execution_count": 31,
     "metadata": {},
     "output_type": "execute_result"
    }
   ],
   "source": [
    "words = text2.split()\n",
    "words"
   ]
  },
  {
   "cell_type": "code",
   "execution_count": null,
   "id": "d8fb8a5f",
   "metadata": {},
   "outputs": [
    {
     "data": {
      "text/plain": [
       "list"
      ]
     },
     "execution_count": 34,
     "metadata": {},
     "output_type": "execute_result"
    }
   ],
   "source": [
    "mail = 'students@university.edu'\n",
    "parts = mail.split('@')\n",
    "parts\n",
    "#type(parts)"
   ]
  },
  {
   "cell_type": "code",
   "execution_count": 36,
   "id": "171dfedd",
   "metadata": {},
   "outputs": [
    {
     "name": "stdout",
     "output_type": "stream",
     "text": [
      "username: students\n",
      "[psswprd]: university.edu\n"
     ]
    }
   ],
   "source": [
    "mail = 'students@university.edu'\n",
    "parts = mail.split('@')\n",
    "print('username:', parts[0])\n",
    "print('[psswprd]:', parts[1])"
   ]
  },
  {
   "cell_type": "code",
   "execution_count": 37,
   "id": "2c5484b0",
   "metadata": {},
   "outputs": [],
   "source": [
    "xx = 2\n",
    "yy = 3\n",
    "zz = 4\n",
    "kk = 2"
   ]
  },
  {
   "cell_type": "code",
   "execution_count": 40,
   "id": "52380d0f",
   "metadata": {},
   "outputs": [
    {
     "data": {
      "text/plain": [
       "True"
      ]
     },
     "execution_count": 40,
     "metadata": {},
     "output_type": "execute_result"
    }
   ],
   "source": [
    "xx != yy"
   ]
  },
  {
   "cell_type": "code",
   "execution_count": 41,
   "id": "f2b59973",
   "metadata": {},
   "outputs": [
    {
     "data": {
      "text/plain": [
       "False"
      ]
     },
     "execution_count": 41,
     "metadata": {},
     "output_type": "execute_result"
    }
   ],
   "source": [
    "xx == yy"
   ]
  },
  {
   "cell_type": "code",
   "execution_count": 42,
   "id": "6a76240e",
   "metadata": {},
   "outputs": [
    {
     "data": {
      "text/plain": [
       "3"
      ]
     },
     "execution_count": 42,
     "metadata": {},
     "output_type": "execute_result"
    }
   ],
   "source": [
    "xx = yy\n",
    "xx"
   ]
  },
  {
   "cell_type": "code",
   "execution_count": 44,
   "id": "d69d1d45",
   "metadata": {},
   "outputs": [
    {
     "data": {
      "text/plain": [
       "False"
      ]
     },
     "execution_count": 44,
     "metadata": {},
     "output_type": "execute_result"
    }
   ],
   "source": [
    "x = 3>6\n",
    "x"
   ]
  },
  {
   "cell_type": "code",
   "execution_count": 45,
   "id": "93acaca7",
   "metadata": {},
   "outputs": [
    {
     "data": {
      "text/plain": [
       "True"
      ]
     },
     "execution_count": 45,
     "metadata": {},
     "output_type": "execute_result"
    }
   ],
   "source": [
    "bool('Hassan')"
   ]
  },
  {
   "cell_type": "code",
   "execution_count": 46,
   "id": "1b2c00b7",
   "metadata": {},
   "outputs": [
    {
     "data": {
      "text/plain": [
       "False"
      ]
     },
     "execution_count": 46,
     "metadata": {},
     "output_type": "execute_result"
    }
   ],
   "source": [
    "bool()"
   ]
  },
  {
   "cell_type": "code",
   "execution_count": 47,
   "id": "a89731ac",
   "metadata": {},
   "outputs": [
    {
     "data": {
      "text/plain": [
       "'TomTomTom'"
      ]
     },
     "execution_count": 47,
     "metadata": {},
     "output_type": "execute_result"
    }
   ],
   "source": [
    "'Tom' * 3"
   ]
  },
  {
   "cell_type": "code",
   "execution_count": 48,
   "id": "3b32c7ac",
   "metadata": {},
   "outputs": [
    {
     "ename": "TypeError",
     "evalue": "can't multiply sequence by non-int of type 'float'",
     "output_type": "error",
     "traceback": [
      "\u001b[31m---------------------------------------------------------------------------\u001b[39m",
      "\u001b[31mTypeError\u001b[39m                                 Traceback (most recent call last)",
      "\u001b[36mCell\u001b[39m\u001b[36m \u001b[39m\u001b[32mIn[48]\u001b[39m\u001b[32m, line 1\u001b[39m\n\u001b[32m----> \u001b[39m\u001b[32m1\u001b[39m \u001b[33;43m'\u001b[39;49m\u001b[33;43mTom\u001b[39;49m\u001b[33;43m'\u001b[39;49m\u001b[43m \u001b[49m\u001b[43m*\u001b[49m\u001b[43m \u001b[49m\u001b[32;43m3.1\u001b[39;49m\n",
      "\u001b[31mTypeError\u001b[39m: can't multiply sequence by non-int of type 'float'"
     ]
    }
   ],
   "source": [
    "'Tom' * 3.1"
   ]
  },
  {
   "cell_type": "code",
   "execution_count": 49,
   "id": "d192f466",
   "metadata": {},
   "outputs": [
    {
     "data": {
      "text/plain": [
       "'AB'"
      ]
     },
     "execution_count": 49,
     "metadata": {},
     "output_type": "execute_result"
    }
   ],
   "source": [
    "str1 = 'A'\n",
    "str2 = 'B'\n",
    "str3 = str1 + str2\n",
    "str3"
   ]
  },
  {
   "cell_type": "markdown",
   "id": "e1ffc252",
   "metadata": {},
   "source": [
    "For loop"
   ]
  },
  {
   "cell_type": "code",
   "execution_count": 52,
   "id": "85c7f978",
   "metadata": {},
   "outputs": [
    {
     "name": "stdout",
     "output_type": "stream",
     "text": [
      "0\n",
      "1\n",
      "2\n",
      "3\n",
      "4\n"
     ]
    }
   ],
   "source": [
    "# for \"counter\" in range('number'):\n",
    "\n",
    "for i in range(5):\n",
    "    print(i)\n",
    "\n",
    "\n"
   ]
  },
  {
   "cell_type": "code",
   "execution_count": 56,
   "id": "11e56407",
   "metadata": {},
   "outputs": [
    {
     "name": "stdout",
     "output_type": "stream",
     "text": [
      "*\n",
      "***\n",
      "*****\n",
      "*******\n",
      "*********\n",
      "***********\n",
      "*************\n",
      "***************\n",
      "done\n"
     ]
    }
   ],
   "source": [
    "for i in range(1, 16, 2): # range(start, end, step)\n",
    "    print('*' * i)\n",
    "\n",
    "print('done')"
   ]
  }
 ],
 "metadata": {
  "kernelspec": {
   "display_name": "Python 3",
   "language": "python",
   "name": "python3"
  },
  "language_info": {
   "codemirror_mode": {
    "name": "ipython",
    "version": 3
   },
   "file_extension": ".py",
   "mimetype": "text/x-python",
   "name": "python",
   "nbconvert_exporter": "python",
   "pygments_lexer": "ipython3",
   "version": "3.12.6"
  }
 },
 "nbformat": 4,
 "nbformat_minor": 5
}

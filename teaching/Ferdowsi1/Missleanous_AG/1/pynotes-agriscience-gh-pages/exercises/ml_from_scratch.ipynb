{
 "cells": [
  {
   "cell_type": "code",
   "execution_count": null,
   "id": "b2888184-36ce-4663-bed8-3661c9de2957",
   "metadata": {},
   "outputs": [],
   "source": []
  },
  {
   "cell_type": "code",
   "execution_count": 1,
   "id": "4dba2f3b-ead9-46da-9215-74e9176f3fd3",
   "metadata": {
    "tags": []
   },
   "outputs": [],
   "source": [
    "# Import modules\n",
    "import numpy as np\n",
    "import pandas as pd\n",
    "import matplotlib.pyplot as plt\n"
   ]
  },
  {
   "cell_type": "code",
   "execution_count": 5,
   "id": "abfb330e-2a63-41b6-ac58-91b1ae1174e8",
   "metadata": {
    "tags": []
   },
   "outputs": [],
   "source": [
    "# Create scaler\n",
    "\n",
    "scaler = lambda x: (x - np.mean(x, axis=0))/np.std(x, axis=0)"
   ]
  },
  {
   "cell_type": "code",
   "execution_count": 6,
   "id": "2c55ad0e-8840-4628-a404-db059e91e5d8",
   "metadata": {
    "tags": []
   },
   "outputs": [
    {
     "data": {
      "text/html": [
       "<div>\n",
       "<style scoped>\n",
       "    .dataframe tbody tr th:only-of-type {\n",
       "        vertical-align: middle;\n",
       "    }\n",
       "\n",
       "    .dataframe tbody tr th {\n",
       "        vertical-align: top;\n",
       "    }\n",
       "\n",
       "    .dataframe thead th {\n",
       "        text-align: right;\n",
       "    }\n",
       "</style>\n",
       "<table border=\"1\" class=\"dataframe\">\n",
       "  <thead>\n",
       "    <tr style=\"text-align: right;\">\n",
       "      <th></th>\n",
       "      <th>id</th>\n",
       "      <th>longitude</th>\n",
       "      <th>latitude</th>\n",
       "      <th>timestamp</th>\n",
       "      <th>doy</th>\n",
       "      <th>pr</th>\n",
       "      <th>rmax</th>\n",
       "      <th>rmin</th>\n",
       "      <th>sph</th>\n",
       "      <th>srad</th>\n",
       "      <th>...</th>\n",
       "      <th>tmmn</th>\n",
       "      <th>tmmx</th>\n",
       "      <th>vs</th>\n",
       "      <th>erc</th>\n",
       "      <th>eto</th>\n",
       "      <th>bi</th>\n",
       "      <th>fm100</th>\n",
       "      <th>fm1000</th>\n",
       "      <th>etr</th>\n",
       "      <th>vpd</th>\n",
       "    </tr>\n",
       "  </thead>\n",
       "  <tbody>\n",
       "    <tr>\n",
       "      <th>0</th>\n",
       "      <td>19800101</td>\n",
       "      <td>-94.822258</td>\n",
       "      <td>38.883761</td>\n",
       "      <td>1980-01-01</td>\n",
       "      <td>1</td>\n",
       "      <td>0.0</td>\n",
       "      <td>77.683876</td>\n",
       "      <td>43.286247</td>\n",
       "      <td>0.002620</td>\n",
       "      <td>8.263647</td>\n",
       "      <td>...</td>\n",
       "      <td>-3.557654</td>\n",
       "      <td>7.847253</td>\n",
       "      <td>2.192723</td>\n",
       "      <td>40.656410</td>\n",
       "      <td>1.040586</td>\n",
       "      <td>29.367460</td>\n",
       "      <td>13.726248</td>\n",
       "      <td>13.835570</td>\n",
       "      <td>1.627161</td>\n",
       "      <td>0.353715</td>\n",
       "    </tr>\n",
       "    <tr>\n",
       "      <th>1</th>\n",
       "      <td>19800102</td>\n",
       "      <td>-94.822258</td>\n",
       "      <td>38.883761</td>\n",
       "      <td>1980-01-02</td>\n",
       "      <td>2</td>\n",
       "      <td>0.0</td>\n",
       "      <td>78.571579</td>\n",
       "      <td>35.635567</td>\n",
       "      <td>0.002420</td>\n",
       "      <td>7.208553</td>\n",
       "      <td>...</td>\n",
       "      <td>-3.577643</td>\n",
       "      <td>5.967126</td>\n",
       "      <td>3.296802</td>\n",
       "      <td>41.918404</td>\n",
       "      <td>1.219669</td>\n",
       "      <td>35.399471</td>\n",
       "      <td>13.522950</td>\n",
       "      <td>13.820871</td>\n",
       "      <td>1.931061</td>\n",
       "      <td>0.320570</td>\n",
       "    </tr>\n",
       "    <tr>\n",
       "      <th>2</th>\n",
       "      <td>19800103</td>\n",
       "      <td>-94.822258</td>\n",
       "      <td>38.883761</td>\n",
       "      <td>1980-01-03</td>\n",
       "      <td>3</td>\n",
       "      <td>0.0</td>\n",
       "      <td>82.316978</td>\n",
       "      <td>39.000980</td>\n",
       "      <td>0.001985</td>\n",
       "      <td>5.930851</td>\n",
       "      <td>...</td>\n",
       "      <td>-7.448096</td>\n",
       "      <td>0.307275</td>\n",
       "      <td>3.042193</td>\n",
       "      <td>40.172096</td>\n",
       "      <td>0.770442</td>\n",
       "      <td>32.923172</td>\n",
       "      <td>13.797589</td>\n",
       "      <td>13.864967</td>\n",
       "      <td>1.172392</td>\n",
       "      <td>0.174911</td>\n",
       "    </tr>\n",
       "  </tbody>\n",
       "</table>\n",
       "<p>3 rows × 21 columns</p>\n",
       "</div>"
      ],
      "text/plain": [
       "         id  longitude   latitude  timestamp  doy   pr       rmax       rmin  \\\n",
       "0  19800101 -94.822258  38.883761 1980-01-01    1  0.0  77.683876  43.286247   \n",
       "1  19800102 -94.822258  38.883761 1980-01-02    2  0.0  78.571579  35.635567   \n",
       "2  19800103 -94.822258  38.883761 1980-01-03    3  0.0  82.316978  39.000980   \n",
       "\n",
       "        sph      srad  ...      tmmn      tmmx        vs        erc       eto  \\\n",
       "0  0.002620  8.263647  ... -3.557654  7.847253  2.192723  40.656410  1.040586   \n",
       "1  0.002420  7.208553  ... -3.577643  5.967126  3.296802  41.918404  1.219669   \n",
       "2  0.001985  5.930851  ... -7.448096  0.307275  3.042193  40.172096  0.770442   \n",
       "\n",
       "          bi      fm100     fm1000       etr       vpd  \n",
       "0  29.367460  13.726248  13.835570  1.627161  0.353715  \n",
       "1  35.399471  13.522950  13.820871  1.931061  0.320570  \n",
       "2  32.923172  13.797589  13.864967  1.172392  0.174911  \n",
       "\n",
       "[3 rows x 21 columns]"
      ]
     },
     "execution_count": 6,
     "metadata": {},
     "output_type": "execute_result"
    }
   ],
   "source": [
    "df = pd.read_csv('../datasets/Johnson_Kansas.csv', parse_dates=['timestamp'])\n",
    "df.head(3)\n"
   ]
  },
  {
   "cell_type": "code",
   "execution_count": 7,
   "id": "3f957c1d-ec91-4f39-b5ba-ca5e16142e1e",
   "metadata": {
    "tags": []
   },
   "outputs": [],
   "source": [
    "X = df[['srad','tmmn','tmmx']].values\n",
    "y = df['eto'].values\n",
    "numHid = 10\n",
    "\n",
    "X = scaler(X)"
   ]
  },
  {
   "cell_type": "code",
   "execution_count": 42,
   "id": "baee0199-7a7b-43f8-9ea5-d0c40aba0dd9",
   "metadata": {
    "tags": []
   },
   "outputs": [
    {
     "ename": "ValueError",
     "evalue": "shapes (14976,) and (10,) not aligned: 14976 (dim 0) != 10 (dim 0)",
     "output_type": "error",
     "traceback": [
      "\u001b[1;31m---------------------------------------------------------------------------\u001b[0m",
      "\u001b[1;31mValueError\u001b[0m                                Traceback (most recent call last)",
      "Cell \u001b[1;32mIn[42], line 38\u001b[0m\n\u001b[0;32m     35\u001b[0m gradientOutput \u001b[38;5;241m=\u001b[39m error \u001b[38;5;241m*\u001b[39m f1output(OutputSum)\n\u001b[0;32m     36\u001b[0m deltaW2 \u001b[38;5;241m=\u001b[39m learningRate \u001b[38;5;241m*\u001b[39m np\u001b[38;5;241m.\u001b[39mdot(HiddenOut\u001b[38;5;241m.\u001b[39mT, gradientOutput) \u001b[38;5;241m+\u001b[39m momentum \u001b[38;5;241m*\u001b[39m deltaW2\n\u001b[1;32m---> 38\u001b[0m gradientHidden \u001b[38;5;241m=\u001b[39m f1hidden(HiddenSum) \u001b[38;5;241m*\u001b[39m np\u001b[38;5;241m.\u001b[39mdot(gradientOutput, W2[:numHid]\u001b[38;5;241m.\u001b[39mT)\n\u001b[0;32m     39\u001b[0m deltaW1 \u001b[38;5;241m=\u001b[39m learningRate \u001b[38;5;241m*\u001b[39m np\u001b[38;5;241m.\u001b[39mdot(InputOut\u001b[38;5;241m.\u001b[39mT, gradientHidden) \u001b[38;5;241m+\u001b[39m momentum \u001b[38;5;241m*\u001b[39m deltaW1\n\u001b[0;32m     41\u001b[0m W2 \u001b[38;5;241m=\u001b[39m deltaW2 \u001b[38;5;241m/\u001b[39m rowIn \u001b[38;5;241m+\u001b[39m W2\n",
      "File \u001b[1;32m<__array_function__ internals>:200\u001b[0m, in \u001b[0;36mdot\u001b[1;34m(*args, **kwargs)\u001b[0m\n",
      "\u001b[1;31mValueError\u001b[0m: shapes (14976,) and (10,) not aligned: 14976 (dim 0) != 10 (dim 0)"
     ]
    }
   ],
   "source": [
    "stopping = 10\n",
    "#def NeuralNetTrain(X, y, numHid, stopping, activation):\n",
    "\n",
    "\n",
    "fhidden = sigmoid\n",
    "f1hidden = sigmoid_derivative\n",
    "foutput = sigmoid\n",
    "f1output = sigmoid_derivative\n",
    "\n",
    "rowIn, colIn = X.shape\n",
    "colOut = 1\n",
    "Bias = np.ones((X.shape[0], 1))\n",
    "W1 = -1 + (1 - (-1)) * np.random.rand(colIn + 1, numHid)\n",
    "W2 = -1 + (1 - (-1)) * np.random.rand(numHid + 1,)\n",
    "learningRate = 0.6\n",
    "momentum = 0.3\n",
    "OutputCalib = np.empty_like(y)\n",
    "deltaW1 = np.zeros_like(W1)\n",
    "deltaW2 = np.zeros_like(W2)\n",
    "rmse = np.empty(stopping)\n",
    "\n",
    "InputOut = np.hstack((X, Bias))\n",
    "for i in range(stopping):\n",
    "    HiddenSum = np.dot(InputOut, W1)\n",
    "    HiddenLayer = fhidden(HiddenSum)\n",
    "    HiddenOut = np.hstack((HiddenLayer, Bias))\n",
    "    OutputSum = np.dot(HiddenOut, W2)\n",
    "    OutputCalib = foutput(OutputSum)\n",
    "\n",
    "    error = y - OutputCalib\n",
    "    gradientOutput = error * f1output(OutputSum)\n",
    "    deltaW2 = learningRate * np.dot(HiddenOut.T, gradientOutput) + momentum * deltaW2\n",
    "\n",
    "    gradientHidden = f1hidden(HiddenSum) * np.dot(gradientOutput, W2[:numHid].T)\n",
    "    deltaW1 = learningRate * np.dot(InputOut.T, gradientHidden) + momentum * deltaW1\n",
    "\n",
    "    W2 = deltaW2 / rowIn + W2\n",
    "    W1 = deltaW1 / rowIn + W1\n",
    "\n",
    "    rmse[i] = np.sqrt(np.mean(error**2))\n",
    "\n",
    "    #if rmse[i] < stopping:\n",
    "    #    break\n",
    "\n",
    "#TrainParam = {\n",
    "#    'W1': W1,\n",
    "#    'W2': W2,\n",
    "#    'activation': activation,\n",
    "#    'rmse': rmse\n",
    "#}\n",
    "\n",
    "#return OutputCalib, TrainParam\n"
   ]
  },
  {
   "cell_type": "code",
   "execution_count": 43,
   "id": "de37cb7a-d8bf-48cb-89f7-212b0fbe289c",
   "metadata": {
    "tags": []
   },
   "outputs": [
    {
     "data": {
      "text/plain": [
       "(14976,)"
      ]
     },
     "execution_count": 43,
     "metadata": {},
     "output_type": "execute_result"
    }
   ],
   "source": [
    "gradientOutput.shape"
   ]
  },
  {
   "cell_type": "code",
   "execution_count": 39,
   "id": "140449d8-56aa-4bcc-9524-d35e02dd4a41",
   "metadata": {
    "tags": []
   },
   "outputs": [
    {
     "data": {
      "text/plain": [
       "(14976,)"
      ]
     },
     "execution_count": 39,
     "metadata": {},
     "output_type": "execute_result"
    }
   ],
   "source": [
    "OutputCalib.shape"
   ]
  },
  {
   "cell_type": "code",
   "execution_count": 40,
   "id": "532bd750-0d27-490f-ba23-0f356e8eb203",
   "metadata": {
    "tags": []
   },
   "outputs": [
    {
     "data": {
      "text/plain": [
       "(14976,)"
      ]
     },
     "execution_count": 40,
     "metadata": {},
     "output_type": "execute_result"
    }
   ],
   "source": [
    "y.shape"
   ]
  },
  {
   "cell_type": "code",
   "execution_count": 41,
   "id": "9b19fc97-21e3-4c8b-8850-2f6c8fd6cdd5",
   "metadata": {
    "tags": []
   },
   "outputs": [
    {
     "data": {
      "text/plain": [
       "(14976,)"
      ]
     },
     "execution_count": 41,
     "metadata": {},
     "output_type": "execute_result"
    }
   ],
   "source": [
    "(y - OutputCalib).shape"
   ]
  },
  {
   "cell_type": "code",
   "execution_count": 22,
   "id": "190b4c8f-f18a-490a-99d2-70aac1a3361e",
   "metadata": {
    "tags": []
   },
   "outputs": [
    {
     "data": {
      "text/plain": [
       "(14976, 14976)"
      ]
     },
     "execution_count": 22,
     "metadata": {},
     "output_type": "execute_result"
    }
   ],
   "source": [
    "def NeuralNetPredict(Input, CalibSet, TrainParam):\n",
    "    sigmoid = lambda x: 1 / (1 + np.exp(-x))\n",
    "    tanh lambda: x:np.tanh(x)\n",
    "\n",
    "    activation = TrainParam['activation']\n",
    "    Bias = np.ones((Input.shape[0], 1))\n",
    "    W1 = TrainParam['W1']\n",
    "    W2 = TrainParam['W2']\n",
    "\n",
    "    if activation == 'sigmoid-sigmoid':\n",
    "        fhidden = sigmoid\n",
    "        foutput = fhidden\n",
    "    elif activation == 'tanh-sigmoid':\n",
    "        fhidden = tanh\n",
    "        foutput = sigmoid\n",
    "    elif activation == 'tanh-tanh':\n",
    "        fhidden = tanh\n",
    "        foutput = fhidden\n",
    "\n",
    "    InputOut = np.hstack((Input, Bias))\n",
    "\n",
    "    HiddenSum = np.dot(InputOut, W1)\n",
    "    HiddenLayer = fhidden(HiddenSum)\n",
    "    HiddenOut = np.hstack((HiddenLayer, Bias))\n",
    "\n",
    "    OutputSum = np.dot(HiddenOut, W2)\n",
    "    OutputLayer = foutput(OutputSum)\n",
    "\n",
    "    OutputPrediction = {'Prediction': OutputLayer}\n",
    "\n",
    "    if CalibSet.size != 0:\n",
    "        error = CalibSet - OutputLayer\n",
    "        rmse = np.sqrt(np.mean(error**2))\n",
    "        OutputPrediction['rmse'] = rmse\n",
    "\n",
    "    return OutputPrediction\n"
   ]
  },
  {
   "cell_type": "code",
   "execution_count": 4,
   "id": "b0498e51-0a9d-41cf-900c-eb798440cf95",
   "metadata": {},
   "outputs": [],
   "source": [
    "# Import modules\n",
    "import numpy as np\n",
    "import pandas as pd\n",
    "import matplotlib.pyplot as plt\n"
   ]
  },
  {
   "cell_type": "code",
   "execution_count": 90,
   "id": "253128d7-316c-4055-bcf3-38f8ee54acb9",
   "metadata": {},
   "outputs": [
    {
     "data": {
      "text/plain": [
       "array([0, 1, 2, ..., 8, 9, 8])"
      ]
     },
     "execution_count": 90,
     "metadata": {},
     "output_type": "execute_result"
    }
   ],
   "source": []
  },
  {
   "cell_type": "code",
   "execution_count": 5,
   "id": "ee7ca62a-7e8a-4139-9837-5256827baeb7",
   "metadata": {},
   "outputs": [],
   "source": [
    "# Create scaler\n",
    "scaler = lambda x: (x - np.mean(x, axis=0))/np.std(x, axis=0)\n",
    "\n",
    "# Define the activation function (sigmoid)\n",
    "sigmoid = lambda x: 1 / (1 + np.exp(-x))\n",
    "\n",
    "# Define the derivative of the activation function\n",
    "sigmoid_derivative = lambda x: x * (1 - x)\n",
    "\n",
    "sigmoid = lambda x: 1 / (1 + np.exp(-x))\n",
    "sigmoid_derivative = lambda x: np.exp(x) / (np.exp(2*x) + 2*np.exp(x) + 1)\n",
    "\n",
    "tanh = lambda x: np.tanh(x)\n",
    "tanh_derivative = lambda x: 1 - np.tanh(x)**2\n",
    "\n"
   ]
  },
  {
   "cell_type": "code",
   "execution_count": 6,
   "id": "e88a1ae5-4253-441b-abdb-133c54c31e9c",
   "metadata": {},
   "outputs": [
    {
     "data": {
      "text/html": [
       "<div>\n",
       "<style scoped>\n",
       "    .dataframe tbody tr th:only-of-type {\n",
       "        vertical-align: middle;\n",
       "    }\n",
       "\n",
       "    .dataframe tbody tr th {\n",
       "        vertical-align: top;\n",
       "    }\n",
       "\n",
       "    .dataframe thead th {\n",
       "        text-align: right;\n",
       "    }\n",
       "</style>\n",
       "<table border=\"1\" class=\"dataframe\">\n",
       "  <thead>\n",
       "    <tr style=\"text-align: right;\">\n",
       "      <th></th>\n",
       "      <th>datetime</th>\n",
       "      <th>pressure</th>\n",
       "      <th>tavg</th>\n",
       "      <th>rhavg</th>\n",
       "      <th>prcp</th>\n",
       "      <th>srad</th>\n",
       "      <th>wspd</th>\n",
       "      <th>wdir</th>\n",
       "      <th>vpd</th>\n",
       "      <th>vwc_5cm</th>\n",
       "      <th>vwc_20cm</th>\n",
       "      <th>vwc_40cm</th>\n",
       "      <th>soiltemp_5cm</th>\n",
       "      <th>soiltemp_20cm</th>\n",
       "      <th>soiltemp_40cm</th>\n",
       "      <th>battv</th>\n",
       "      <th>discharge</th>\n",
       "    </tr>\n",
       "  </thead>\n",
       "  <tbody>\n",
       "    <tr>\n",
       "      <th>0</th>\n",
       "      <td>2022-01-01 00:00:00</td>\n",
       "      <td>96.40</td>\n",
       "      <td>-4.4</td>\n",
       "      <td>98.012</td>\n",
       "      <td>0.0</td>\n",
       "      <td>NaN</td>\n",
       "      <td>5.94</td>\n",
       "      <td>0.717</td>\n",
       "      <td>0.01</td>\n",
       "      <td>0.257</td>\n",
       "      <td>0.307</td>\n",
       "      <td>0.359</td>\n",
       "      <td>5.2</td>\n",
       "      <td>6.7</td>\n",
       "      <td>7.6</td>\n",
       "      <td>8745.0</td>\n",
       "      <td>0.0</td>\n",
       "    </tr>\n",
       "    <tr>\n",
       "      <th>1</th>\n",
       "      <td>2022-01-01 01:00:00</td>\n",
       "      <td>96.39</td>\n",
       "      <td>-5.2</td>\n",
       "      <td>97.873</td>\n",
       "      <td>0.0</td>\n",
       "      <td>NaN</td>\n",
       "      <td>6.22</td>\n",
       "      <td>4.717</td>\n",
       "      <td>0.01</td>\n",
       "      <td>0.257</td>\n",
       "      <td>0.307</td>\n",
       "      <td>0.359</td>\n",
       "      <td>4.9</td>\n",
       "      <td>6.6</td>\n",
       "      <td>7.6</td>\n",
       "      <td>8719.0</td>\n",
       "      <td>0.0</td>\n",
       "    </tr>\n",
       "    <tr>\n",
       "      <th>2</th>\n",
       "      <td>2022-01-01 02:00:00</td>\n",
       "      <td>96.44</td>\n",
       "      <td>-6.1</td>\n",
       "      <td>95.025</td>\n",
       "      <td>0.0</td>\n",
       "      <td>NaN</td>\n",
       "      <td>5.56</td>\n",
       "      <td>0.717</td>\n",
       "      <td>0.02</td>\n",
       "      <td>0.257</td>\n",
       "      <td>0.307</td>\n",
       "      <td>0.359</td>\n",
       "      <td>4.7</td>\n",
       "      <td>6.5</td>\n",
       "      <td>7.6</td>\n",
       "      <td>8719.0</td>\n",
       "      <td>0.0</td>\n",
       "    </tr>\n",
       "  </tbody>\n",
       "</table>\n",
       "</div>"
      ],
      "text/plain": [
       "             datetime  pressure  tavg   rhavg  prcp  srad  wspd   wdir   vpd  \\\n",
       "0 2022-01-01 00:00:00     96.40  -4.4  98.012   0.0   NaN  5.94  0.717  0.01   \n",
       "1 2022-01-01 01:00:00     96.39  -5.2  97.873   0.0   NaN  6.22  4.717  0.01   \n",
       "2 2022-01-01 02:00:00     96.44  -6.1  95.025   0.0   NaN  5.56  0.717  0.02   \n",
       "\n",
       "   vwc_5cm  vwc_20cm  vwc_40cm  soiltemp_5cm  soiltemp_20cm  soiltemp_40cm  \\\n",
       "0    0.257     0.307     0.359           5.2            6.7            7.6   \n",
       "1    0.257     0.307     0.359           4.9            6.6            7.6   \n",
       "2    0.257     0.307     0.359           4.7            6.5            7.6   \n",
       "\n",
       "    battv  discharge  \n",
       "0  8745.0        0.0  \n",
       "1  8719.0        0.0  \n",
       "2  8719.0        0.0  "
      ]
     },
     "execution_count": 6,
     "metadata": {},
     "output_type": "execute_result"
    }
   ],
   "source": [
    "# Read some data\n",
    "df = pd.read_csv('../datasets/kings_creek_2022_2023_hourly.csv', parse_dates=['datetime'])\n",
    "df.head(3)\n"
   ]
  },
  {
   "cell_type": "code",
   "execution_count": 7,
   "id": "1833c388-4a36-4553-abb1-452e933edfcc",
   "metadata": {},
   "outputs": [
    {
     "data": {
      "image/png": "[encoded data removed]",
      "text/plain": [
       "<Figure size 800x500 with 3 Axes>"
      ]
     },
     "metadata": {},
     "output_type": "display_data"
    }
   ],
   "source": [
    "# Inspect input data\n",
    "plt.figure(figsize=(8,5))\n",
    "\n",
    "plt.subplot(3,1,1)\n",
    "plt.title('Kings Creek Watershed')\n",
    "plt.plot(df['datetime'], df['tavg'], linewidth=1)\n",
    "plt.ylabel('T avg (Celsius)')\n",
    "\n",
    "plt.subplot(3,1,2)\n",
    "plt.plot(df['datetime'], df['rhavg'], linewidth=1)\n",
    "plt.ylabel('RH avg (%)')\n",
    "\n",
    "plt.subplot(3,1,3)\n",
    "plt.plot(df['datetime'], df['vpd'], linewidth=1)\n",
    "plt.ylabel('Daily VPD kPa)')\n",
    "\n",
    "plt.subplots_adjust(hspace=0.4)\n",
    "plt.show()\n"
   ]
  },
  {
   "cell_type": "code",
   "execution_count": 21,
   "id": "600b98d5-feb8-4b38-b2e9-1a170d82636f",
   "metadata": {},
   "outputs": [],
   "source": [
    "# Define inputs and target outputs\n",
    "X = df[['tavg','rhavg']].values\n",
    "\n",
    "# Normalize inputs\n",
    "X = scaler(X)\n",
    "\n",
    "# Define the target output\n",
    "target_output = df['vpd'].values\n",
    "\n",
    "# Convert targets to 2D array if are 1D\n",
    "if target_output.ndim == 1:\n",
    "    target_output = target_output.reshape(-1, 1)\n",
    "    "
   ]
  },
  {
   "cell_type": "code",
   "execution_count": 22,
   "id": "289a9b6b-5fe7-4cc8-aca0-0c74cc2c6117",
   "metadata": {},
   "outputs": [
    {
     "name": "stdout",
     "output_type": "stream",
     "text": [
      "(17520, 2)\n",
      "(17520, 1)\n"
     ]
    }
   ],
   "source": [
    "print(X.shape)\n",
    "print(target_output.shape)"
   ]
  },
  {
   "cell_type": "code",
   "execution_count": 93,
   "id": "13df7afa-93d3-4b65-bd37-3d04e74b464b",
   "metadata": {},
   "outputs": [],
   "source": [
    "X = np.array([[1, 2, 3],\n",
    "              [4, 5, 6],\n",
    "              [7, 8, 9]])\n",
    "X = scaler(X)\n",
    "\n",
    "# Define the target output\n",
    "target_outputs = np.array([[6,2],\n",
    "                           [15,5],\n",
    "                           [24,8]])"
   ]
  },
  {
   "cell_type": "code",
   "execution_count": 64,
   "id": "e6c050dd-9ba4-475e-b9db-fd2e39ff6dc8",
   "metadata": {},
   "outputs": [
    {
     "name": "stdout",
     "output_type": "stream",
     "text": [
      "(3, 3)\n",
      "(3, 2)\n"
     ]
    }
   ],
   "source": [
    "print(X.shape)\n",
    "print(target_output.shape)"
   ]
  },
  {
   "cell_type": "code",
   "execution_count": 70,
   "id": "93cd2166-f89a-44cd-a240-643faef4be99",
   "metadata": {},
   "outputs": [
    {
     "name": "stderr",
     "output_type": "stream",
     "text": [
      "/Users/andrespatrignani/anaconda3/lib/python3.10/site-packages/sklearn/neural_network/_multilayer_perceptron.py:684: ConvergenceWarning: Stochastic Optimizer: Maximum iterations (100) reached and the optimization hasn't converged yet.\n",
      "  warnings.warn(\n"
     ]
    },
    {
     "data": {
      "text/plain": [
       "array([[ 7.76996419,  2.62593997],\n",
       "       [16.34605429,  5.48837896],\n",
       "       [20.12093717,  6.75712196]])"
      ]
     },
     "execution_count": 70,
     "metadata": {},
     "output_type": "execute_result"
    }
   ],
   "source": [
    "from sklearn.neural_network import MLPRegressor\n",
    "clf = MLPRegressor(random_state=1, hidden_layer_sizes=(4,), max_iter=100,\n",
    "                   learning_rate_init=0.001, momentum=0.9,\n",
    "                   activation='logistic', solver='sgd').fit(X, target_output)\n",
    "clf.predict(X)"
   ]
  },
  {
   "cell_type": "code",
   "execution_count": 143,
   "id": "5e769f1e-17d4-40fc-b562-1b27398ff10c",
   "metadata": {},
   "outputs": [],
   "source": [
    "from sklearn.datasets import load_digits\n",
    "\n",
    "# Define the input (samples x features)\n",
    "X = load_digits().data\n",
    "\n",
    "# Define labels\n",
    "all_labels = load_digits().target\n"
   ]
  },
  {
   "cell_type": "code",
   "execution_count": 144,
   "id": "5408151c-99e9-4bba-bdae-08779451b1bd",
   "metadata": {},
   "outputs": [],
   "source": [
    "unique_labels = np.unique(all_labels)\n",
    "target_outputs = np.zeros( (all_labels.size, len(unique_labels)) )\n",
    "for k,label in enumerate(unique_labels):\n",
    "    idx_label = all_labels == label\n",
    "    target_outputs[idx_label,k] = 1"
   ]
  },
  {
   "cell_type": "code",
   "execution_count": 145,
   "id": "dd96d577-8c62-4eed-9cfa-03dbf77452b7",
   "metadata": {},
   "outputs": [],
   "source": [
    "# Transpose X\n",
    "X = X.T\n",
    "target_outputs = target_outputs.T"
   ]
  },
  {
   "cell_type": "markdown",
   "id": "02a64146-6329-463e-8053-d4ed71316296",
   "metadata": {},
   "source": [
    "The `learning rate` controls the step size of the weight and bias updates, while `momentum` controls the contribution of the previous weight updates to the current update. The previous weight updates are stored and used in the calculation of the current weight updates to incorporate momentum."
   ]
  },
  {
   "cell_type": "code",
   "execution_count": 146,
   "id": "49e0a9c4-7a64-4826-a730-5f933aa4a216",
   "metadata": {},
   "outputs": [
    {
     "name": "stderr",
     "output_type": "stream",
     "text": [
      "/var/folders/w1/cgh8d8y962g9c6p4_dxgbn2jh5jy11/T/ipykernel_72267/1174399859.py:25: RuntimeWarning: overflow encountered in exp\n",
      "  softmax = lambda x: np.exp(x) / np.sum(np.exp(x)) # sum of all rows for each column\n",
      "/var/folders/w1/cgh8d8y962g9c6p4_dxgbn2jh5jy11/T/ipykernel_72267/1174399859.py:25: RuntimeWarning: invalid value encountered in divide\n",
      "  softmax = lambda x: np.exp(x) / np.sum(np.exp(x)) # sum of all rows for each column\n"
     ]
    },
    {
     "ename": "ValueError",
     "evalue": "shapes (1797,64) and (10,1797) not aligned: 64 (dim 1) != 10 (dim 0)",
     "output_type": "error",
     "traceback": [
      "\u001b[0;31m---------------------------------------------------------------------------\u001b[0m",
      "\u001b[0;31mValueError\u001b[0m                                Traceback (most recent call last)",
      "Cell \u001b[0;32mIn[146], line 51\u001b[0m\n\u001b[1;32m     48\u001b[0m prev_bias_update_output \u001b[38;5;241m=\u001b[39m np\u001b[38;5;241m.\u001b[39mzeros_like(bias_output)\n\u001b[1;32m     50\u001b[0m \u001b[38;5;66;03m# Update weights and biases with momentum\u001b[39;00m\n\u001b[0;32m---> 51\u001b[0m weight_update_input_hidden \u001b[38;5;241m=\u001b[39m learning_rate \u001b[38;5;241m*\u001b[39m \u001b[43mX\u001b[49m\u001b[38;5;241;43m.\u001b[39;49m\u001b[43mT\u001b[49m\u001b[38;5;241;43m.\u001b[39;49m\u001b[43mdot\u001b[49m\u001b[43m(\u001b[49m\u001b[43mdelta_hidden_layer\u001b[49m\u001b[43m)\u001b[49m \u001b[38;5;241m+\u001b[39m momentum \u001b[38;5;241m*\u001b[39m prev_weight_update_input_hidden\n\u001b[1;32m     52\u001b[0m bias_update_hidden \u001b[38;5;241m=\u001b[39m learning_rate \u001b[38;5;241m*\u001b[39m np\u001b[38;5;241m.\u001b[39msum(delta_hidden_layer, axis\u001b[38;5;241m=\u001b[39m\u001b[38;5;241m0\u001b[39m, keepdims\u001b[38;5;241m=\u001b[39m\u001b[38;5;28;01mTrue\u001b[39;00m) \u001b[38;5;241m+\u001b[39m momentum \u001b[38;5;241m*\u001b[39m prev_bias_update_hidden\n\u001b[1;32m     53\u001b[0m weight_update_hidden_output \u001b[38;5;241m=\u001b[39m learning_rate \u001b[38;5;241m*\u001b[39m hidden_layer_output\u001b[38;5;241m.\u001b[39mT\u001b[38;5;241m.\u001b[39mdot(delta_output) \u001b[38;5;241m+\u001b[39m momentum \u001b[38;5;241m*\u001b[39m prev_weight_update_hidden_output\n",
      "\u001b[0;31mValueError\u001b[0m: shapes (1797,64) and (10,1797) not aligned: 64 (dim 1) != 10 (dim 0)"
     ]
    }
   ],
   "source": [
    "# Define the neural network architecture\n",
    "input_size = 64\n",
    "hidden_size = 10\n",
    "output_size = 10\n",
    "\n",
    "# Define learning rate and momentum\n",
    "learning_rate = 0.001\n",
    "momentum = 0.95\n",
    "iterations = 1\n",
    "\n",
    "# Initialize weights\n",
    "np.random.seed(0)\n",
    "weights_input_hidden = np.random.rand(hidden_size, input_size)\n",
    "weights_hidden_output = np.random.rand(output_size, hidden_size)\n",
    "\n",
    "# Initialize biases\n",
    "bias_hidden = np.random.randn(hidden_size, 1)\n",
    "bias_output = np.random.randn(output_size, 1)\n",
    "\n",
    "# Define the activation function (sigmoid)\n",
    "sigmoid = lambda x: 1 / (1 + np.exp(-x))\n",
    "sigmoid_derivative = lambda x: x * (1 - x) # x is the sigmoid function\n",
    "relu = lambda x: np.maximum(x,0)\n",
    "relu_derivative = lambda x: x > 0\n",
    "softmax = lambda x: np.exp(x) / np.sum(np.exp(x)) # sum of all rows for each column\n",
    "\n",
    "for k in range(iterations):\n",
    "    \n",
    "    # Feed-forward propagation\n",
    "    hidden_layer_input = np.dot(weights_input_hidden, X) + bias_hidden\n",
    "    hidden_layer_output = relu(hidden_layer_input)\n",
    "    output_layer_input = np.dot(weights_hidden_output, hidden_layer_output) + bias_output\n",
    "    output = softmax(output_layer_input)\n",
    "\n",
    "    # Backpropagation\n",
    "    error = target_outputs - output\n",
    "    output_gradient = relu_derivative(output)\n",
    "    delta_output = error * output_gradient\n",
    "\n",
    "    error_hidden_layer = np.dot(weights_hidden_output.T, delta_output)\n",
    "    hidden_layer_gradient = sigmoid_derivative(hidden_layer_output)\n",
    "    delta_hidden_layer = error_hidden_layer * hidden_layer_gradient\n",
    "\n",
    "    # Initialize previous weight updates for momentum\n",
    "    prev_weight_update_input_hidden = np.zeros_like(weights_input_hidden)\n",
    "    prev_weight_update_hidden_output = np.zeros_like(weights_hidden_output)\n",
    "    prev_bias_update_hidden = np.zeros_like(bias_hidden)\n",
    "    prev_bias_update_output = np.zeros_like(bias_output)\n",
    "\n",
    "    # Update weights and biases with momentum\n",
    "    weight_update_input_hidden = learning_rate * X.T.dot(delta_hidden_layer) + momentum * prev_weight_update_input_hidden\n",
    "    bias_update_hidden = learning_rate * np.sum(delta_hidden_layer, axis=0, keepdims=True) + momentum * prev_bias_update_hidden\n",
    "    weight_update_hidden_output = learning_rate * hidden_layer_output.T.dot(delta_output) + momentum * prev_weight_update_hidden_output\n",
    "    bias_update_output = learning_rate * np.sum(delta_output, axis=0, keepdims=True) + momentum * prev_bias_update_output\n",
    "\n",
    "    weights_input_hidden += weight_update_input_hidden\n",
    "    bias_hidden += bias_update_hidden\n",
    "    weights_hidden_output += weight_update_hidden_output\n",
    "    bias_output += bias_update_output\n",
    "\n",
    "    # Update previous weight updates for momentum\n",
    "    prev_weight_update_input_hidden = weight_update_input_hidden\n",
    "    prev_bias_update_hidden = bias_update_hidden\n",
    "    prev_weight_update_hidden_output = weight_update_hidden_output\n",
    "    prev_bias_update_output = bias_update_output\n",
    "\n",
    "print(\"Output after training:\")\n",
    "print(output)"
   ]
  },
  {
   "cell_type": "code",
   "execution_count": 77,
   "id": "1f97cc3f-5740-4019-b409-d9dc2a153e11",
   "metadata": {},
   "outputs": [],
   "source": [
    "hidden_layer_input = np.dot(X, weights_input_hidden) + bias_hidden\n",
    "hidden_layer_output = sigmoid(hidden_layer_input)\n",
    "output_layer_input = np.dot(hidden_layer_output, weights_hidden_output) + bias_output\n",
    "output = sigmoid(output_layer_input)"
   ]
  },
  {
   "cell_type": "code",
   "execution_count": 80,
   "id": "016ae4f2-843d-463a-8883-26356a553f47",
   "metadata": {},
   "outputs": [
    {
     "data": {
      "text/plain": [
       "array([[0.76103773, 0.12167502, 0.44386323, 0.33367433]])"
      ]
     },
     "execution_count": 80,
     "metadata": {},
     "output_type": "execute_result"
    }
   ],
   "source": [
    "bias_hidden"
   ]
  },
  {
   "cell_type": "code",
   "execution_count": 76,
   "id": "95f6dfa0-b4aa-42a7-ba36-42ed29ccfb88",
   "metadata": {},
   "outputs": [
    {
     "ename": "ValueError",
     "evalue": "shapes (3,2) and (1,4) not aligned: 2 (dim 1) != 1 (dim 0)",
     "output_type": "error",
     "traceback": [
      "\u001b[0;31m---------------------------------------------------------------------------\u001b[0m",
      "\u001b[0;31mValueError\u001b[0m                                Traceback (most recent call last)",
      "Cell \u001b[0;32mIn[76], line 1\u001b[0m\n\u001b[0;32m----> 1\u001b[0m \u001b[43mdelta_output\u001b[49m\u001b[38;5;241;43m.\u001b[39;49m\u001b[43mdot\u001b[49m\u001b[43m(\u001b[49m\u001b[43mweights_hidden_output\u001b[49m\u001b[38;5;241;43m.\u001b[39;49m\u001b[43mT\u001b[49m\u001b[43m)\u001b[49m\n",
      "\u001b[0;31mValueError\u001b[0m: shapes (3,2) and (1,4) not aligned: 2 (dim 1) != 1 (dim 0)"
     ]
    }
   ],
   "source": [
    "delta_output.dot(weights_hidden_output.T)"
   ]
  },
  {
   "cell_type": "code",
   "execution_count": 45,
   "id": "d31141c9-dc80-4dbf-a9fe-d59b49e8b1c3",
   "metadata": {
    "tags": []
   },
   "outputs": [
    {
     "name": "stdout",
     "output_type": "stream",
     "text": [
      "Prediction:\n",
      "[[0.88524733 0.1465005 ]]\n"
     ]
    }
   ],
   "source": [
    "# Define the input for prediction\n",
    "X_new = np.array([[2, 3, 4]])\n",
    "\n",
    "# Forward propagation for prediction\n",
    "hidden_layer_input_new = np.dot(X_new, weights_input_hidden) + bias_hidden\n",
    "hidden_layer_output_new = sigmoid(hidden_layer_input_new)\n",
    "output_layer_input_new = np.dot(hidden_layer_output_new, weights_hidden_output) + bias_output\n",
    "output_new = sigmoid(output_layer_input_new)\n",
    "\n",
    "print(\"Prediction:\")\n",
    "print(output_new)"
   ]
  },
  {
   "cell_type": "code",
   "execution_count": null,
   "id": "162068be-a21e-4e26-9a20-4840c715d8b9",
   "metadata": {},
   "outputs": [],
   "source": [
    "\n"
   ]
  },
  {
   "cell_type": "code",
   "execution_count": null,
   "id": "e35392e2-cdc0-4ec1-aca9-63731d2f9c43",
   "metadata": {},
   "outputs": [],
   "source": []
  },
  {
   "cell_type": "code",
   "execution_count": null,
   "id": "6428ab37-aa8b-4b13-b8e0-8b7b0c92ea92",
   "metadata": {},
   "outputs": [],
   "source": []
  }
 ],
 "metadata": {
  "kernelspec": {
   "display_name": "Python 3 (ipykernel)",
   "language": "python",
   "name": "python3"
  },
  "language_info": {
   "codemirror_mode": {
    "name": "ipython",
    "version": 3
   },
   "file_extension": ".py",
   "mimetype": "text/x-python",
   "name": "python",
   "nbconvert_exporter": "python",
   "pygments_lexer": "ipython3",
   "version": "3.11.5"
  }
 },
 "nbformat": 4,
 "nbformat_minor": 5
}

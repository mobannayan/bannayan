{
 "cells": [
  {
   "cell_type": "raw",
   "id": "ba3380b6-2758-4b5a-85a7-808b74cdc6a4",
   "metadata": {},
   "source": [
    "---\n",
    "title: \"Save data and objects\"\n",
    "author: \"Andres Patrignani\"\n",
    "date: \"2/14/2024\"\n",
    "keywords: [\"rainfall\", \"weather generator\", \"stochastic\"]\n",
    "---"
   ]
  },
  {
   "cell_type": "markdown",
   "id": "2c1d7ddf-21f3-4495-bd53-e82f5fbdc0ec",
   "metadata": {},
   "source": [
    "Imagine you have Python code that downloads large datasets from the web or performs computationally expensive tasks that you don’t want to repeat. While saving data in .CSV files is common, Python offers more flexible options for saving objects and data structures. In this tutorial, we will explore two powerful modules from the Python standard library: `pickle` and `json`. These modules allow you to serialize and deserialize Python objects, making it easy to save your work and load it later without rerunning time-consuming code.\n"
   ]
  },
  {
   "cell_type": "code",
   "execution_count": 21,
   "id": "5acc23a5-54e9-473c-959c-e808ab88b80b",
   "metadata": {},
   "outputs": [],
   "source": [
    "# Create a sample dictionary with metadata for some stations of the Kansas Mesonet\n",
    "data = [\n",
    "    {'name': 'Ashland Bottoms', 'latitude': 39.125773, 'longitude': -96.63653},\n",
    "    {'name': 'Colby', 'latitude': 39.39247, 'longitude': -101.06864},\n",
    "    {'name': 'Garden City', 'latitude': 37.99733, 'longitude': -100.81514},\n",
    "    {'name': 'Manhattan', 'latitude': 39.20857, 'longitude': -96.59169},\n",
    "    {'name': 'Parsons', 'latitude': 37.36875, 'longitude': -95.28771},\n",
    "    {'name': 'Tribune 6NE', 'latitude': 38.53041, 'longitude': -101.66434},\n",
    "]"
   ]
  },
  {
   "cell_type": "raw",
   "id": "d81575c3-c925-471e-97c3-46eca9148989",
   "metadata": {},
   "source": [
    "::: {.callout-note}\n",
    "## Note \n",
    "\n",
    "In this particular case we are using a dictionary as an example, so that the same dataset can be used with both the `pickle` and the `json` modules. But you can also pickle other objects and data structures like Pandas Dataframes.\n",
    ":::"
   ]
  },
  {
   "cell_type": "markdown",
   "id": "ba2a969d-fcfc-4ff6-90b2-f2cd32d68dee",
   "metadata": {},
   "source": [
    "## Pickle module\n",
    "\n",
    "The pickle module is used for serializing and deserializing Python object structures, also called \"pickling\" and \"unpickling\". Serialization is the process of converting a Python object into a byte stream, and deserialization is the inverse process, converting a byte stream back into an object.\n",
    "\n",
    "The pickle module lets you save Python objects in a binary format, which is efficient and suitable for complex data types, but the resulting file is not human-readable."
   ]
  },
  {
   "cell_type": "code",
   "execution_count": 22,
   "id": "e489346f-21ed-49b8-a931-8c31b5087c91",
   "metadata": {},
   "outputs": [],
   "source": [
    "# Import module\n",
    "import pickle\n"
   ]
  },
  {
   "cell_type": "code",
   "execution_count": 23,
   "id": "31632c73-5ca2-46f9-8810-47484d8ee603",
   "metadata": {},
   "outputs": [],
   "source": [
    "# Save the dataset using pickle\n",
    "# Open file in write binary mode (data will not be written as text)\n",
    "with open('../datasets/data.pkl', 'wb') as f:\n",
    "    pickle.dump(data, f)\n"
   ]
  },
  {
   "cell_type": "code",
   "execution_count": 25,
   "id": "7098c9f0-43f3-487f-a7eb-31fa91bd4bcc",
   "metadata": {},
   "outputs": [
    {
     "name": "stdout",
     "output_type": "stream",
     "text": [
      "{'name': 'Ashland Bottoms', 'latitude': 39.125773, 'longitude': -96.63653}\n"
     ]
    }
   ],
   "source": [
    "# Load the dataset using pickle\n",
    "# Read file in binary mode\n",
    "with open('../datasets/data.pkl', 'rb') as f:\n",
    "    data_pickle = pickle.load(f)\n",
    "\n",
    "# Print first entry of dictionary\n",
    "print(data_pickle[0])\n"
   ]
  },
  {
   "cell_type": "markdown",
   "id": "5423eb75-eed0-410b-9efe-7ae09fa9a74f",
   "metadata": {},
   "source": [
    "## JSON module\n",
    "\n",
    "The json module provides a way to encode and decode data in JavaScript Object Notation (JSON) format. JSON is a lightweight format that is easy for humans to read and write, and easy for machines to parse and generate.\n",
    "\n",
    "This format is very similar to Python dictionaries (both use a key-value pair structure), is interoperable with other programming languages, and is ideal for web applications. The JSON format is limited to data types like strings, numbers, lists, and dictionaries.\n"
   ]
  },
  {
   "cell_type": "code",
   "execution_count": 26,
   "id": "c5f578ec-9388-4c85-bf56-cf71f83d09e9",
   "metadata": {},
   "outputs": [],
   "source": [
    "# Import module\n",
    "import json\n"
   ]
  },
  {
   "cell_type": "code",
   "execution_count": 27,
   "id": "9ab87285-428d-4377-aed2-c02e104c10ff",
   "metadata": {},
   "outputs": [],
   "source": [
    "# Save the dataset using JSON\n",
    "# Open file in write mode (data will be written as text)\n",
    "with open('../datasets/data.json', 'w') as f:\n",
    "    json.dump(data, f)\n"
   ]
  },
  {
   "cell_type": "code",
   "execution_count": 28,
   "id": "d84b076e-3d71-4e3e-8df8-9accc077888a",
   "metadata": {},
   "outputs": [],
   "source": [
    "# Load the dataset using JSON\n",
    "with open('../datasets/data.json', 'r') as f:\n",
    "    data_json = json.load(f)\n"
   ]
  },
  {
   "cell_type": "code",
   "execution_count": 29,
   "id": "e169cf30-851b-41b3-a75d-06d1d348bb63",
   "metadata": {},
   "outputs": [
    {
     "name": "stdout",
     "output_type": "stream",
     "text": [
      "{'name': 'Ashland Bottoms', 'latitude': 39.125773, 'longitude': -96.63653}\n"
     ]
    }
   ],
   "source": [
    "# Print first entry of dictionary\n",
    "print(data_pickle[0])\n"
   ]
  }
 ],
 "metadata": {
  "kernelspec": {
   "display_name": "Python 3 (ipykernel)",
   "language": "python",
   "name": "python3"
  },
  "language_info": {
   "codemirror_mode": {
    "name": "ipython",
    "version": 3
   },
   "file_extension": ".py",
   "mimetype": "text/x-python",
   "name": "python",
   "nbconvert_exporter": "python",
   "pygments_lexer": "ipython3",
   "version": "3.10.9"
  }
 },
 "nbformat": 4,
 "nbformat_minor": 5
}

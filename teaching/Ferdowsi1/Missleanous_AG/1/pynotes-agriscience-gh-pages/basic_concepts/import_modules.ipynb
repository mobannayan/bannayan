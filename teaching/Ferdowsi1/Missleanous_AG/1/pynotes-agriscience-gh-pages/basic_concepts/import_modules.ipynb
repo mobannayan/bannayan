{
 "cells": [
  {
   "cell_type": "raw",
   "metadata": {},
   "source": [
    "---\n",
    "title: \"Import modules\"\n",
    "author: \"Andres Patrignani\"\n",
    "date: \"1/3/2024\"\n",
    "keywords: [\"import\", \"modules\"]\n",
    "---"
   ]
  },
  {
   "cell_type": "markdown",
   "metadata": {},
   "source": [
    "Python modules, also known as packages or toolboxes, are collections of pre-written Python code that provide additional functionality. Some of these modules are part of the Python standard library, readily available for use without any additional installation. Other modules can be installed separately as needed, expanding the range of functionalities beyond the standard library. Python is a thriving ecosystem with programmers constantly developing new modules. You can find most packages in the [Python Package Index (PyPI)](https://pypi.org/) repository of software for the Python language.\n"
   ]
  },
  {
   "cell_type": "raw",
   "metadata": {},
   "source": [
    "::: {.callout-note}\n",
    "## Import modules convention\n",
    "\n",
    "Modules are imported once, usually at the the top of the code or notebook. throughout more advance exercise in this book you will see a code cell near the top of the code solely dedicated to importing modules.\n",
    ":::"
   ]
  },
  {
   "cell_type": "markdown",
   "metadata": {},
   "source": [
    "## Importing module syntax\n",
    "\n",
    "There are multiple ways of importing Python modules depending on whether you want to import the entire module, assign a shorter alias, or import a specific sub-module. While the examples below could be applied to the same module, I chose to use typical examples that you will encounter for each option.\n",
    "\n",
    "**Option 1**<br/>\n",
    "Syntax:  `import <module>`<br/>\n",
    "Example: `import math` <br/>\n",
    "Use-case: This is the simplest form of importing and is used when you need to access multiple functions or components from a module. It's commonly used for modules with short names that don't require an alias. When using this form, you call the module's components with the module name followed by a dot, e.g., `math.sqrt()`.\n"
   ]
  },
  {
   "cell_type": "code",
   "execution_count": 3,
   "metadata": {},
   "outputs": [
    {
     "name": "stdout",
     "output_type": "stream",
     "text": [
      "The hypotenuse is: 5.0 cm\n"
     ]
    }
   ],
   "source": [
    "import math\n",
    "\n",
    "a = 3.0 # value in cm\n",
    "b = 4.0 # value in cm\n",
    "hypotenuse = math.sqrt((a**2 + b**2))\n",
    "print('The hypotenuse is:', round(hypotenuse,2), 'cm')\n"
   ]
  },
  {
   "cell_type": "markdown",
   "metadata": {},
   "source": [
    "Here is another example using this syntax. With the `sys` module we can easily check our python version"
   ]
  },
  {
   "cell_type": "code",
   "execution_count": 6,
   "metadata": {},
   "outputs": [
    {
     "name": "stdout",
     "output_type": "stream",
     "text": [
      "3.12.7 | packaged by Anaconda, Inc. | (main, Oct  4 2024, 08:28:27) [Clang 14.0.6 ]\n"
     ]
    }
   ],
   "source": [
    "import sys\n",
    "print(sys.version) # Useful to check your python version\n"
   ]
  },
  {
   "cell_type": "markdown",
   "metadata": {},
   "source": [
    "**Option 2**<br/>\n",
    "Syntax:  `import <module> as <alias>` <br/>\n",
    "Example: `import numpy as np`<br/>\n",
    "Use-case: This is used to import the entire module under a shorter, often more convenient alias. It's particularly useful for frequently used modules or those with longer names. The alias acts as a shorthand, making the code more concise and easier to write. For instance, you can use `np.array()` instead of `numpy.array()`.\n"
   ]
  },
  {
   "cell_type": "code",
   "execution_count": 7,
   "metadata": {},
   "outputs": [
    {
     "name": "stdout",
     "output_type": "stream",
     "text": [
      "[ 5 20 35 60 80]\n",
      "[55 47 45 40 35]\n"
     ]
    }
   ],
   "source": [
    "import numpy as np\n",
    "\n",
    "# Create an Numpy array of sand content for different soils\n",
    "sand_content = np.array([5, 20, 35, 60, 80]) # Percentage\n",
    "print(sand_content)\n",
    "\n",
    "# Create regular list and then convert to Numpy array\n",
    "porosity = [55, 47, 45, 40, 35]\n",
    "porosity = np.array(porosity)\n",
    "print(porosity)\n"
   ]
  },
  {
   "cell_type": "markdown",
   "metadata": {},
   "source": [
    "**Option 3**<br/>\n",
    "Syntax:  `import <module>.<submodule> as <alias>`<br/>\n",
    "Example: `import matplotlib.pyplot as plt`\n",
    "Use-case: This approach is used when you only need a specific part or submodule of a larger module. It's efficient as it only loads the required submodule into memory. The alias is used for ease of reference, as in `plt.plot()` instead of using `matplotlib.pyplot.plot()`, which will be much more verbose and will result in cluttered lines of code.\n"
   ]
  },
  {
   "cell_type": "code",
   "execution_count": 10,
   "metadata": {},
   "outputs": [
    {
     "data": {
      "image/png": "[encoded data removed]",
      "text/plain": [
       "<Figure size 400x400 with 1 Axes>"
      ]
     },
     "metadata": {},
     "output_type": "display_data"
    }
   ],
   "source": [
    "import matplotlib.pyplot as plt\n",
    "\n",
    "plt.figure(figsize=(4,4))\n",
    "plt.scatter(sand_content, porosity, facecolor='white', edgecolor='black')\n",
    "plt.xlabel('Sand content (%)')\n",
    "plt.ylabel('Porosity (%)')\n",
    "plt.show()\n"
   ]
  },
  {
   "cell_type": "markdown",
   "metadata": {},
   "source": [
    "**Option 4**<br/>\n",
    "Syntax:  `from <module> import <submodule> as <alias>`<br/>\n",
    "Example: `from numpy import random as rnd`\n",
    "Use-case: This method is used when you need only a specific component or function from a module. It's the most specific and memory-efficient way of importing, as only the required component is loaded. This is useful for modules where only one or a few specific functions are needed, and it allows you to use these functions directly without prefixing them with the module name, such as using `rand()` instead of `numpy.random()`. Despite being more memory efficient, this option can lead to conflicts in the variable namespace. This can cause confusion if multiple imported elements share the same name, potentially overwriting each other. Additionally, this approach can obscure the origin of functions or components, reducing code readability."
   ]
  },
  {
   "cell_type": "code",
   "execution_count": 22,
   "metadata": {},
   "outputs": [
    {
     "name": "stdout",
     "output_type": "stream",
     "text": [
      "[[5 0 3 3 7]\n",
      " [9 3 5 2 4]\n",
      " [7 6 8 8 1]\n",
      " [6 7 7 8 1]\n",
      " [5 9 8 9 4]]\n"
     ]
    }
   ],
   "source": [
    "from numpy import random as rnd\n",
    "\n",
    "# Set seed for reproducibility (without this you will get different array values)\n",
    "rnd.seed(0)\n",
    "\n",
    "# Create a 5 by 5 matrix of random integers between 0 and 9\n",
    "# The randint function returns\n",
    "M = rnd.randint(0, 10, [5,5])\n",
    "print(M)\n"
   ]
  },
  {
   "cell_type": "raw",
   "metadata": {},
   "source": [
    "::: {.callout-note}\n",
    "## Note\n",
    "\n",
    "Use the Python help to access the documentation of the `randint()` method by running the following command: `rnd.randint?` Can you see why we had to use a value of `10` for the second argument of the function?\n",
    ":::\n"
   ]
  }
 ],
 "metadata": {
  "kernelspec": {
   "display_name": "Python 3 (ipykernel)",
   "language": "python",
   "name": "python3"
  },
  "language_info": {
   "codemirror_mode": {
    "name": "ipython",
    "version": 3
   },
   "file_extension": ".py",
   "mimetype": "text/x-python",
   "name": "python",
   "nbconvert_exporter": "python",
   "pygments_lexer": "ipython3",
   "version": "3.12.7"
  }
 },
 "nbformat": 4,
 "nbformat_minor": 4
}

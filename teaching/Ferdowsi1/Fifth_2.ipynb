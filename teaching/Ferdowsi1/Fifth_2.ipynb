{
 "cells": [
  {
   "cell_type": "markdown",
   "id": "4a0ea51d",
   "metadata": {},
   "source": [
    "List construction"
   ]
  },
  {
   "cell_type": "code",
   "execution_count": 1,
   "id": "f54b0933",
   "metadata": {},
   "outputs": [
    {
     "name": "stdout",
     "output_type": "stream",
     "text": [
      "[1, 2, 3, 'apple', 4.5]\n",
      "['G', 'F', 'G']\n"
     ]
    }
   ],
   "source": [
    "a = list((1, 2, 3, 'apple', 4.5)) \n",
    "\n",
    "print(a)\n",
    "\n",
    "b = list(\"GFG\")\n",
    "print(b)"
   ]
  },
  {
   "cell_type": "code",
   "execution_count": 2,
   "id": "1c28740b",
   "metadata": {},
   "outputs": [
    {
     "name": "stdout",
     "output_type": "stream",
     "text": [
      "10\n",
      "50\n",
      "[20, 30, 40]\n"
     ]
    }
   ],
   "source": [
    "# acessing list elements\n",
    "a = [10, 20, 30, 40, 50]\n",
    "print(a[0])    \n",
    "print(a[-1])\n",
    "print(a[1:4])   # elements from index 1 to 3"
   ]
  },
  {
   "cell_type": "code",
   "execution_count": 3,
   "id": "57a1b9e2",
   "metadata": {},
   "outputs": [
    {
     "name": "stdout",
     "output_type": "stream",
     "text": [
      "After append(10): [10]\n",
      "After insert(0, 5): [5, 10]\n",
      "After extend([15, 20, 25]): [5, 10, 15, 20, 25]\n",
      "After clear(): []\n"
     ]
    }
   ],
   "source": [
    "a = []\n",
    "\n",
    "a.append(10)  \n",
    "print(\"After append(10):\", a)  \n",
    "\n",
    "a.insert(0, 5)\n",
    "print(\"After insert(0, 5):\", a) \n",
    "\n",
    "a.extend([15, 20, 25])  \n",
    "print(\"After extend([15, 20, 25]):\", a) \n",
    "\n",
    "a.clear()\n",
    "print(\"After clear():\", a)"
   ]
  },
  {
   "cell_type": "code",
   "execution_count": 4,
   "id": "d215756d",
   "metadata": {},
   "outputs": [
    {
     "name": "stdout",
     "output_type": "stream",
     "text": [
      "[10, 25, 30, 40, 50]\n"
     ]
    }
   ],
   "source": [
    "# Updating elements\n",
    "a = [10, 20, 30, 40, 50]\n",
    "a[1] = 25 \n",
    "print(a)"
   ]
  },
  {
   "cell_type": "code",
   "execution_count": 5,
   "id": "3e17edd2",
   "metadata": {},
   "outputs": [
    {
     "name": "stdout",
     "output_type": "stream",
     "text": [
      "After remove(30): [10, 20, 40, 50]\n",
      "After del a[0]: [20, 40, 50]\n"
     ]
    }
   ],
   "source": [
    "# Removing data\n",
    "a = [10, 20, 30, 40, 50]\n",
    "\n",
    "a.remove(30)  \n",
    "print(\"After remove(30):\", a)\n",
    "\n",
    "del a[0]  \n",
    "print(\"After del a[0]:\", a)"
   ]
  },
  {
   "cell_type": "code",
   "execution_count": 6,
   "id": "ed67817c",
   "metadata": {},
   "outputs": [
    {
     "name": "stdout",
     "output_type": "stream",
     "text": [
      "apple\n",
      "banana\n",
      "cherry\n"
     ]
    }
   ],
   "source": [
    "# Iterating\n",
    "a = ['apple', 'banana', 'cherry']\n",
    "for item in a:\n",
    "    print(item)"
   ]
  },
  {
   "cell_type": "code",
   "execution_count": 7,
   "id": "11edcf67",
   "metadata": {},
   "outputs": [
    {
     "name": "stdout",
     "output_type": "stream",
     "text": [
      "[1, 4, 9, 16, 25]\n"
     ]
    }
   ],
   "source": [
    "# List comprehension\n",
    "squares = [x**2 for x in range(1, 6)]\n",
    "print(squares)"
   ]
  },
  {
   "cell_type": "code",
   "execution_count": null,
   "id": "be2a5d92",
   "metadata": {},
   "outputs": [],
   "source": [
    "squares = [x**2 for x in range(5)]\n",
    "print(squares)"
   ]
  },
  {
   "cell_type": "code",
   "execution_count": 8,
   "id": "9fc55c36",
   "metadata": {},
   "outputs": [
    {
     "name": "stdout",
     "output_type": "stream",
     "text": [
      "['APPLE', 'BANANA', 'CHERRY']\n"
     ]
    }
   ],
   "source": [
    "# Convert words to uppercase\n",
    "words = [\"apple\", \"banana\", \"cherry\"]\n",
    "upper_words = [w.upper() for w in words]\n",
    "print(upper_words)"
   ]
  },
  {
   "cell_type": "code",
   "execution_count": 11,
   "id": "f15ba775",
   "metadata": {},
   "outputs": [
    {
     "name": "stdout",
     "output_type": "stream",
     "text": [
      "[0, 6, 12, 18, 24]\n"
     ]
    }
   ],
   "source": [
    "nums = [x for x in range(30) if x % 2 == 0 and x % 3 == 0]\n",
    "print(nums)"
   ]
  },
  {
   "cell_type": "markdown",
   "id": "5633995b",
   "metadata": {},
   "source": [
    "# Functions"
   ]
  },
  {
   "attachments": {
    "image.png": {
     "image/png": "[encoded data removed]"
    }
   },
   "cell_type": "markdown",
   "id": "5ef6f29c",
   "metadata": {},
   "source": [
    "![image.png](attachment:image.png)"
   ]
  },
  {
   "cell_type": "code",
   "execution_count": 9,
   "id": "3ff144b3",
   "metadata": {},
   "outputs": [
    {
     "name": "stdout",
     "output_type": "stream",
     "text": [
      "Hello, world!\n"
     ]
    }
   ],
   "source": [
    "def greet():\n",
    "    print(\"Hello, world!\")\n",
    "\n",
    "greet()"
   ]
  },
  {
   "cell_type": "code",
   "execution_count": 10,
   "id": "d10d0f15",
   "metadata": {},
   "outputs": [
    {
     "name": "stdout",
     "output_type": "stream",
     "text": [
      "Sum: 8\n"
     ]
    }
   ],
   "source": [
    "def add(a, b):\n",
    "    return a + b\n",
    "\n",
    "result = add(5, 3)\n",
    "print(\"Sum:\", result)"
   ]
  },
  {
   "cell_type": "code",
   "execution_count": 11,
   "id": "f3975048",
   "metadata": {},
   "outputs": [
    {
     "name": "stdout",
     "output_type": "stream",
     "text": [
      "Welcome, Guest!\n",
      "Welcome, Charlie!\n"
     ]
    }
   ],
   "source": [
    "def greet(name=\"Guest\"):\n",
    "    print(f\"Welcome, {name}!\")\n",
    "\n",
    "greet()\n",
    "greet(\"Charlie\")"
   ]
  },
  {
   "cell_type": "code",
   "execution_count": null,
   "id": "e126d802",
   "metadata": {},
   "outputs": [
    {
     "name": "stdout",
     "output_type": "stream",
     "text": [
      "5\n",
      "4\n",
      "3\n",
      "2\n",
      "1\n",
      "Blast off!\n"
     ]
    }
   ],
   "source": [
    "def countdown(n):\n",
    "    while n > 0:\n",
    "        print(n)\n",
    "        n -= 1\n",
    "    print(\"we done\")\n",
    "\n",
    "countdown(5)"
   ]
  },
  {
   "cell_type": "code",
   "execution_count": 1,
   "id": "7c37d70b",
   "metadata": {},
   "outputs": [],
   "source": [
    "def square(number):\n",
    "    return number * number"
   ]
  },
  {
   "cell_type": "code",
   "execution_count": 2,
   "id": "da6940bd",
   "metadata": {},
   "outputs": [
    {
     "name": "stdout",
     "output_type": "stream",
     "text": [
      "The square of your number is: 25\n"
     ]
    }
   ],
   "source": [
    "result = square(5)\n",
    "#result \n",
    "print(\"The square of your number is:\", result)"
   ]
  },
  {
   "cell_type": "code",
   "execution_count": null,
   "id": "715c8c17",
   "metadata": {},
   "outputs": [
    {
     "name": "stdout",
     "output_type": "stream",
     "text": [
      "25\n",
      "4\n"
     ]
    }
   ],
   "source": [
    "#when there is a default value\n",
    "def square(x=2):\n",
    "    return x * x\n",
    "\n",
    "print(square(5))   # 25\n",
    "print(square())    # 4  (uses default x=2)"
   ]
  },
  {
   "cell_type": "code",
   "execution_count": 27,
   "id": "74b8286d",
   "metadata": {},
   "outputs": [
    {
     "name": "stdout",
     "output_type": "stream",
     "text": [
      "12\n",
      "7\n",
      "1\n"
     ]
    }
   ],
   "source": [
    "def multiply(a=1, b=1):\n",
    "    return a * b\n",
    "\n",
    "print(multiply(3, 4))   # 12\n",
    "print(multiply(7))      # 7   (b defaults to 1)\n",
    "print(multiply())       # 1   (both defaults used)"
   ]
  },
  {
   "cell_type": "code",
   "execution_count": 13,
   "id": "a7892278",
   "metadata": {},
   "outputs": [],
   "source": [
    "def add_with_print(a, b):\n",
    "    print(\"Result (print):\", a + b)"
   ]
  },
  {
   "cell_type": "code",
   "execution_count": 14,
   "id": "f5f3f193",
   "metadata": {},
   "outputs": [
    {
     "name": "stdout",
     "output_type": "stream",
     "text": [
      "Result (print): 8\n"
     ]
    }
   ],
   "source": [
    "# Using the print version\n",
    "add_with_print(3, 5)  # This will display the result, but you can't use it later"
   ]
  },
  {
   "cell_type": "code",
   "execution_count": 15,
   "id": "a886bcc6",
   "metadata": {},
   "outputs": [
    {
     "name": "stdout",
     "output_type": "stream",
     "text": [
      "Result (print): 8\n",
      "None\n"
     ]
    }
   ],
   "source": [
    "result = add_with_print(3, 5)\n",
    "print(result)"
   ]
  },
  {
   "cell_type": "code",
   "execution_count": null,
   "id": "d0b91749",
   "metadata": {},
   "outputs": [],
   "source": [
    "print(result)"
   ]
  },
  {
   "cell_type": "code",
   "execution_count": 16,
   "id": "d37fb695",
   "metadata": {},
   "outputs": [],
   "source": [
    "def add_with_return(a, b):\n",
    "    return a + b"
   ]
  },
  {
   "cell_type": "code",
   "execution_count": 17,
   "id": "531ff78d",
   "metadata": {},
   "outputs": [
    {
     "name": "stdout",
     "output_type": "stream",
     "text": [
      "Result (return): 8\n"
     ]
    }
   ],
   "source": [
    "result = add_with_return(3, 5)\n",
    "print(\"Result (return):\", result)"
   ]
  },
  {
   "cell_type": "markdown",
   "id": "cfcbeaf9",
   "metadata": {},
   "source": [
    "return sends the value back to the place where the function was called.\n",
    "\n",
    "You can store the result in a variable and then use or print it."
   ]
  },
  {
   "cell_type": "code",
   "execution_count": 6,
   "id": "d6c09cf2",
   "metadata": {},
   "outputs": [],
   "source": [
    "def min_max(numbers):\n",
    "    return min(numbers), max(numbers)"
   ]
  },
  {
   "cell_type": "code",
   "execution_count": 7,
   "id": "a25c48df",
   "metadata": {},
   "outputs": [
    {
     "name": "stdout",
     "output_type": "stream",
     "text": [
      "Min: 2, Max: 40\n"
     ]
    }
   ],
   "source": [
    "MO = [40, 2, 8, 11, 9]\n",
    "minimum, maximum = min_max(MO)\n",
    "print(f\"Min: {minimum}, Max: {maximum}\")"
   ]
  },
  {
   "cell_type": "code",
   "execution_count": 18,
   "id": "144970fb",
   "metadata": {},
   "outputs": [
    {
     "name": "stdout",
     "output_type": "stream",
     "text": [
      "apple\n",
      "banana\n",
      "cherry\n"
     ]
    }
   ],
   "source": [
    "def print_items(items):\n",
    "    for item in items:\n",
    "        print(item)\n",
    "\n",
    "fruits = [\"apple\", \"banana\", \"cherry\"]\n",
    "print_items(fruits)"
   ]
  },
  {
   "cell_type": "code",
   "execution_count": 21,
   "id": "81163b0c",
   "metadata": {},
   "outputs": [
    {
     "name": "stdout",
     "output_type": "stream",
     "text": [
      "25\n"
     ]
    }
   ],
   "source": [
    "square = lambda x: x * x\n",
    "print(square(5))   # Output: 25"
   ]
  },
  {
   "cell_type": "markdown",
   "id": "00097e0c",
   "metadata": {},
   "source": [
    "map() is a built-in Python function used to apply a function to every element of an iterable (like a list, tuple, or string).\n",
    "\n",
    "map(function, iterable)"
   ]
  },
  {
   "cell_type": "code",
   "execution_count": 23,
   "id": "4210c3e6",
   "metadata": {},
   "outputs": [
    {
     "name": "stdout",
     "output_type": "stream",
     "text": [
      "<map object at 0x0000025B53227D30>\n"
     ]
    }
   ],
   "source": [
    "def square(x):\n",
    "    return x * x\n",
    "\n",
    "numbers = [1, 2, 3, 4]\n",
    "\n",
    "# Apply square() to each number\n",
    "result = map(square, numbers)\n",
    "\n",
    "print(result) "
   ]
  },
  {
   "cell_type": "code",
   "execution_count": 24,
   "id": "66b7f2c1",
   "metadata": {},
   "outputs": [
    {
     "name": "stdout",
     "output_type": "stream",
     "text": [
      "<map object at 0x0000025B530B6D10>\n",
      "[1, 4, 9, 16]\n"
     ]
    }
   ],
   "source": [
    "def square(x):\n",
    "    return x * x\n",
    "\n",
    "numbers = [1, 2, 3, 4]\n",
    "\n",
    "# Apply square() to each number\n",
    "result = map(square, numbers)\n",
    "\n",
    "print(result) \n",
    "print(list(result))"
   ]
  },
  {
   "cell_type": "code",
   "execution_count": 25,
   "id": "8d213faf",
   "metadata": {},
   "outputs": [
    {
     "name": "stdout",
     "output_type": "stream",
     "text": [
      "[1, 4, 9, 16, 25]\n"
     ]
    }
   ],
   "source": [
    "numbers = [1, 2, 3, 4, 5]\n",
    "squares = list(map(lambda x: x**2, numbers))\n",
    "print(squares)"
   ]
  },
  {
   "cell_type": "markdown",
   "id": "47046948",
   "metadata": {},
   "source": [
    "Apply"
   ]
  },
  {
   "cell_type": "code",
   "execution_count": 28,
   "id": "cebb5e7b",
   "metadata": {},
   "outputs": [
    {
     "name": "stdout",
     "output_type": "stream",
     "text": [
      "0       Low\n",
      "1    Medium\n",
      "2      High\n",
      "3      High\n",
      "dtype: object\n"
     ]
    }
   ],
   "source": [
    "import pandas as pd\n",
    "\n",
    "s = pd.Series([100, 250, 400, 600])\n",
    "\n",
    "# Apply a custom function\n",
    "def label_price(price):\n",
    "    if price < 200:\n",
    "        return \"Low\"\n",
    "    elif price < 400:\n",
    "        return \"Medium\"\n",
    "    else:\n",
    "        return \"High\"\n",
    "\n",
    "print(s.apply(label_price))"
   ]
  },
  {
   "cell_type": "code",
   "execution_count": 29,
   "id": "e6ffa518",
   "metadata": {},
   "outputs": [
    {
     "name": "stdout",
     "output_type": "stream",
     "text": [
      "0    15\n",
      "1    25\n",
      "2    35\n",
      "dtype: int64\n"
     ]
    }
   ],
   "source": [
    "s = pd.Series([10, 20, 30])\n",
    "new_s = s.apply(lambda x: x + 5)\n",
    "print(new_s)"
   ]
  }
 ],
 "metadata": {
  "kernelspec": {
   "display_name": "Python 3",
   "language": "python",
   "name": "python3"
  },
  "language_info": {
   "codemirror_mode": {
    "name": "ipython",
    "version": 3
   },
   "file_extension": ".py",
   "mimetype": "text/x-python",
   "name": "python",
   "nbconvert_exporter": "python",
   "pygments_lexer": "ipython3",
   "version": "3.12.6"
  }
 },
 "nbformat": 4,
 "nbformat_minor": 5
}

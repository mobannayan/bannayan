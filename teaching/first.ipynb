{
 "cells": [
  {
   "cell_type": "markdown",
   "id": "c782b252",
   "metadata": {},
   "source": [
    "#### This is our first session\n",
    "pycharm, VS Code,"
   ]
  },
  {
   "cell_type": "markdown",
   "id": "3dcaa1d9",
   "metadata": {},
   "source": [
    "Data type\n",
    "Varibale (type)\n",
    " simple, complex, custome\n",
    " Simple: int, float, Boolean (Bool), None\n",
    "\n",
    " Complex: string (str), list, tuple, dictionary, set"
   ]
  },
  {
   "cell_type": "markdown",
   "id": "609080a3",
   "metadata": {},
   "source": [
    "+, -, *, /, //, %\n",
    "separate"
   ]
  },
  {
   "cell_type": "code",
   "execution_count": 69,
   "id": "3c291bb9",
   "metadata": {},
   "outputs": [
    {
     "data": {
      "text/plain": [
       "0"
      ]
     },
     "execution_count": 69,
     "metadata": {},
     "output_type": "execute_result"
    }
   ],
   "source": [
    "b = 18\n",
    "c = 2\n",
    "a = b % c\n",
    "a\n",
    "#print('Hi')"
   ]
  },
  {
   "cell_type": "code",
   "execution_count": 31,
   "id": "d8f6280e",
   "metadata": {},
   "outputs": [
    {
     "name": "stdout",
     "output_type": "stream",
     "text": [
      "256,128\n"
     ]
    }
   ],
   "source": [
    "print(256, 128, sep=',')"
   ]
  },
  {
   "cell_type": "code",
   "execution_count": 32,
   "id": "2b052d6f",
   "metadata": {},
   "outputs": [
    {
     "name": "stdout",
     "output_type": "stream",
     "text": [
      "256\n",
      "128\n"
     ]
    }
   ],
   "source": [
    "print(256, 128, sep='\\n')"
   ]
  },
  {
   "cell_type": "code",
   "execution_count": 33,
   "id": "c8195f50",
   "metadata": {},
   "outputs": [
    {
     "name": "stdout",
     "output_type": "stream",
     "text": [
      "256\t128\n"
     ]
    }
   ],
   "source": [
    "print(256, 128, sep='\\t')"
   ]
  },
  {
   "cell_type": "code",
   "execution_count": 34,
   "id": "b16f7b25",
   "metadata": {},
   "outputs": [
    {
     "name": "stdout",
     "output_type": "stream",
     "text": [
      "12345678910\n",
      "2468101214161820\n",
      "36912151821242730\n",
      "481216202428323640\n",
      "5101520253035404550\n",
      "6121824303642485460\n",
      "7142128354249566370\n",
      "8162432404856647280\n",
      "9182736455463728190\n",
      "102030405060708090100\n"
     ]
    }
   ],
   "source": [
    "for i in range(1, 11):\n",
    "        for j in range(1,11):\n",
    "            print(i*j, end='')\n",
    "        print()\n",
    "    "
   ]
  },
  {
   "cell_type": "code",
   "execution_count": 35,
   "id": "d8c677ce",
   "metadata": {},
   "outputs": [
    {
     "name": "stdout",
     "output_type": "stream",
     "text": [
      "1\t2\t3\t4\t5\t6\t7\t8\t9\t10\t\n",
      "2\t4\t6\t8\t10\t12\t14\t16\t18\t20\t\n",
      "3\t6\t9\t12\t15\t18\t21\t24\t27\t30\t\n",
      "4\t8\t12\t16\t20\t24\t28\t32\t36\t40\t\n",
      "5\t10\t15\t20\t25\t30\t35\t40\t45\t50\t\n",
      "6\t12\t18\t24\t30\t36\t42\t48\t54\t60\t\n",
      "7\t14\t21\t28\t35\t42\t49\t56\t63\t70\t\n",
      "8\t16\t24\t32\t40\t48\t56\t64\t72\t80\t\n",
      "9\t18\t27\t36\t45\t54\t63\t72\t81\t90\t\n",
      "10\t20\t30\t40\t50\t60\t70\t80\t90\t100\t\n"
     ]
    }
   ],
   "source": [
    "for i in range(1, 11):\n",
    "        for j in range(1,11):\n",
    "            print(i*j, end='\\t')\n",
    "        print()"
   ]
  },
  {
   "cell_type": "code",
   "execution_count": 36,
   "id": "13e334fd",
   "metadata": {},
   "outputs": [
    {
     "name": "stdout",
     "output_type": "stream",
     "text": [
      "[1, 2, 3]\n"
     ]
    }
   ],
   "source": [
    "mylist = [1, 2, 3]\n",
    "print(mylist, sep='--')"
   ]
  },
  {
   "cell_type": "code",
   "execution_count": 37,
   "id": "a8ad2fac",
   "metadata": {},
   "outputs": [
    {
     "data": {
      "text/plain": [
       "42"
      ]
     },
     "execution_count": 37,
     "metadata": {},
     "output_type": "execute_result"
    }
   ],
   "source": [
    "a= 12 + 30\n",
    "a"
   ]
  },
  {
   "cell_type": "code",
   "execution_count": 38,
   "id": "0ac0f28e",
   "metadata": {},
   "outputs": [
    {
     "ename": "NameError",
     "evalue": "name 'hi' is not defined",
     "output_type": "error",
     "traceback": [
      "\u001b[31m---------------------------------------------------------------------------\u001b[39m",
      "\u001b[31mNameError\u001b[39m                                 Traceback (most recent call last)",
      "\u001b[36mCell\u001b[39m\u001b[36m \u001b[39m\u001b[32mIn[38]\u001b[39m\u001b[32m, line 1\u001b[39m\n\u001b[32m----> \u001b[39m\u001b[32m1\u001b[39m \u001b[43mhi\u001b[49m\n",
      "\u001b[31mNameError\u001b[39m: name 'hi' is not defined"
     ]
    }
   ],
   "source": [
    "hi"
   ]
  },
  {
   "cell_type": "code",
   "execution_count": null,
   "id": "65909dd2",
   "metadata": {},
   "outputs": [
    {
     "data": {
      "text/plain": [
       "'hi'"
      ]
     },
     "execution_count": 13,
     "metadata": {},
     "output_type": "execute_result"
    }
   ],
   "source": [
    "\"hi\""
   ]
  },
  {
   "cell_type": "code",
   "execution_count": null,
   "id": "64875de3",
   "metadata": {},
   "outputs": [
    {
     "data": {
      "text/plain": [
       "'\\nhi\\nbye\\n\\n'"
      ]
     },
     "execution_count": 15,
     "metadata": {},
     "output_type": "execute_result"
    }
   ],
   "source": [
    "\"\"\"\n",
    "hi\n",
    "bye\n",
    "\n",
    "\"\"\"\n"
   ]
  },
  {
   "cell_type": "markdown",
   "id": "5d925ea1",
   "metadata": {},
   "source": [
    "Second session Aug 9th"
   ]
  },
  {
   "cell_type": "code",
   "execution_count": null,
   "id": "854e886e",
   "metadata": {},
   "outputs": [
    {
     "data": {
      "text/plain": [
       "1.6666666666666667"
      ]
     },
     "execution_count": 5,
     "metadata": {},
     "output_type": "execute_result"
    }
   ],
   "source": [
    "aa = 5/3\n",
    "aa"
   ]
  },
  {
   "cell_type": "code",
   "execution_count": null,
   "id": "57197928",
   "metadata": {},
   "outputs": [
    {
     "data": {
      "text/plain": [
       "1.6667"
      ]
     },
     "execution_count": 8,
     "metadata": {},
     "output_type": "execute_result"
    }
   ],
   "source": [
    "a = round(5/3, 4)\n",
    "a"
   ]
  },
  {
   "cell_type": "code",
   "execution_count": null,
   "id": "a988e953",
   "metadata": {},
   "outputs": [
    {
     "data": {
      "text/plain": [
       "0.2"
      ]
     },
     "execution_count": 9,
     "metadata": {},
     "output_type": "execute_result"
    }
   ],
   "source": [
    "b = round(1.2-1.0, 1)\n",
    "b"
   ]
  },
  {
   "cell_type": "code",
   "execution_count": null,
   "id": "8cafbe27",
   "metadata": {},
   "outputs": [
    {
     "name": "stdout",
     "output_type": "stream",
     "text": [
      "<class 'float'>\n"
     ]
    }
   ],
   "source": [
    "print(type(b))"
   ]
  },
  {
   "cell_type": "markdown",
   "id": "4b183783",
   "metadata": {},
   "source": [
    "\"// \"   It divides two numbers and gives the whole number (integer part), dropping the decimal."
   ]
  },
  {
   "cell_type": "code",
   "execution_count": 14,
   "id": "3347009d",
   "metadata": {},
   "outputs": [
    {
     "name": "stdout",
     "output_type": "stream",
     "text": [
      "3\n",
      "5.0\n",
      "5\n",
      "3\n"
     ]
    }
   ],
   "source": [
    "print(10 // 3)   # 3, because 10 ÷ 3 = 3.33 → take only 3\n",
    "print(20 / 4)   # 5, because 20 ÷ 4 = 5 exactly\n",
    "print(20 // 4)   # 5, because 20 ÷ 4 = 5 exactly\n",
    "print(7 // 2)    # 3, because 7 ÷ 2 = 3.5 → take only 3"
   ]
  },
  {
   "cell_type": "code",
   "execution_count": 15,
   "id": "946bc134",
   "metadata": {},
   "outputs": [
    {
     "name": "stdout",
     "output_type": "stream",
     "text": [
      "1\n",
      "0\n",
      "1\n"
     ]
    }
   ],
   "source": [
    "# % gives you remainder\n",
    "print(10 % 3)   # 1, because 10 = 3*3 + 1\n",
    "print(20 % 4)   # 0, because 20 divides evenly by 4\n",
    "print(7 % 2)    # 1, because 7 = 2*3 + 1"
   ]
  },
  {
   "cell_type": "markdown",
   "id": "4e33ba2a",
   "metadata": {},
   "source": [
    "Variable ----> size, type, name ---> never start with numbers, Address---> Drive C, folder c2, \n",
    "\n",
    "comment\n",
    "string (str)"
   ]
  },
  {
   "cell_type": "code",
   "execution_count": null,
   "id": "4e92fe57",
   "metadata": {},
   "outputs": [
    {
     "ename": "SyntaxError",
     "evalue": "invalid decimal literal (3478777125.py, line 1)",
     "output_type": "error",
     "traceback": [
      "  \u001b[36mCell\u001b[39m\u001b[36m \u001b[39m\u001b[32mIn[11]\u001b[39m\u001b[32m, line 1\u001b[39m\n\u001b[31m    \u001b[39m\u001b[31m2b =14\u001b[39m\n    ^\n\u001b[31mSyntaxError\u001b[39m\u001b[31m:\u001b[39m invalid decimal literal\n"
     ]
    }
   ],
   "source": [
    "2b =14"
   ]
  },
  {
   "cell_type": "code",
   "execution_count": null,
   "id": "92bf7fa4",
   "metadata": {},
   "outputs": [
    {
     "data": {
      "text/plain": [
       "int"
      ]
     },
     "execution_count": 14,
     "metadata": {},
     "output_type": "execute_result"
    }
   ],
   "source": [
    "b2 = 14 # This is how to name a variable\n",
    "b2\n",
    "type(b2)"
   ]
  },
  {
   "cell_type": "markdown",
   "id": "51f536a4",
   "metadata": {},
   "source": [
    "Varibales conversion\n",
    "int()\n",
    "str()\n",
    "float()"
   ]
  },
  {
   "cell_type": "code",
   "execution_count": null,
   "id": "2f0f8b1d",
   "metadata": {},
   "outputs": [
    {
     "ename": "TypeError",
     "evalue": "unsupported operand type(s) for +: 'int' and 'str'",
     "output_type": "error",
     "traceback": [
      "\u001b[31m---------------------------------------------------------------------------\u001b[39m",
      "\u001b[31mTypeError\u001b[39m                                 Traceback (most recent call last)",
      "\u001b[36mCell\u001b[39m\u001b[36m \u001b[39m\u001b[32mIn[15]\u001b[39m\u001b[32m, line 3\u001b[39m\n\u001b[32m      1\u001b[39m y = \u001b[32m23\u001b[39m\n\u001b[32m      2\u001b[39m z = \u001b[33m\"\u001b[39m\u001b[33mTom\u001b[39m\u001b[33m\"\u001b[39m\n\u001b[32m----> \u001b[39m\u001b[32m3\u001b[39m \u001b[38;5;28mprint\u001b[39m(yy = \u001b[43my\u001b[49m\u001b[43m \u001b[49m\u001b[43m+\u001b[49m\u001b[43m \u001b[49m\u001b[43mz\u001b[49m)\n",
      "\u001b[31mTypeError\u001b[39m: unsupported operand type(s) for +: 'int' and 'str'"
     ]
    }
   ],
   "source": [
    "y = 23\n",
    "z = \"Tom\"\n",
    "print(yy = y + z)"
   ]
  },
  {
   "cell_type": "code",
   "execution_count": null,
   "id": "452171c0",
   "metadata": {},
   "outputs": [
    {
     "data": {
      "text/plain": [
       "'23'"
      ]
     },
     "execution_count": 16,
     "metadata": {},
     "output_type": "execute_result"
    }
   ],
   "source": [
    "y=str(y)\n",
    "y"
   ]
  },
  {
   "cell_type": "code",
   "execution_count": null,
   "id": "95510ab2",
   "metadata": {},
   "outputs": [
    {
     "name": "stdout",
     "output_type": "stream",
     "text": [
      "his name and his age is:  Tom23\n"
     ]
    }
   ],
   "source": [
    "yy = z + y\n",
    "yy\n",
    "print('his name and his age is: ', yy)"
   ]
  },
  {
   "cell_type": "code",
   "execution_count": null,
   "id": "8f4e6476",
   "metadata": {},
   "outputs": [
    {
     "data": {
      "text/plain": [
       "24"
      ]
     },
     "execution_count": 21,
     "metadata": {},
     "output_type": "execute_result"
    }
   ],
   "source": [
    "y1 = '23'\n",
    "y1= int(y1)\n",
    "y1= y1+1\n",
    "y1"
   ]
  },
  {
   "cell_type": "code",
   "execution_count": null,
   "id": "63fbd464",
   "metadata": {},
   "outputs": [
    {
     "data": {
      "text/plain": [
       "24.0"
      ]
     },
     "execution_count": 22,
     "metadata": {},
     "output_type": "execute_result"
    }
   ],
   "source": [
    "y1 = float(y1)\n",
    "y1"
   ]
  },
  {
   "cell_type": "code",
   "execution_count": null,
   "id": "0e160bce",
   "metadata": {},
   "outputs": [
    {
     "ename": "NameError",
     "evalue": "name 'X' is not defined",
     "output_type": "error",
     "traceback": [
      "\u001b[31m---------------------------------------------------------------------------\u001b[39m",
      "\u001b[31mNameError\u001b[39m                                 Traceback (most recent call last)",
      "\u001b[36mCell\u001b[39m\u001b[36m \u001b[39m\u001b[32mIn[23]\u001b[39m\u001b[32m, line 2\u001b[39m\n\u001b[32m      1\u001b[39m x = \u001b[32m222\u001b[39m\n\u001b[32m----> \u001b[39m\u001b[32m2\u001b[39m \u001b[43mX\u001b[49m \u001b[38;5;66;03m# capitla against lower case is not valid\u001b[39;00m\n",
      "\u001b[31mNameError\u001b[39m: name 'X' is not defined"
     ]
    }
   ],
   "source": [
    "x = 222\n",
    "X # capital against lower case is not valid"
   ]
  },
  {
   "cell_type": "code",
   "execution_count": null,
   "id": "d718d7df",
   "metadata": {},
   "outputs": [
    {
     "data": {
      "text/plain": [
       "'222'"
      ]
     },
     "execution_count": 24,
     "metadata": {},
     "output_type": "execute_result"
    }
   ],
   "source": [
    "# print, round(12.33333, 1)\n",
    "\n",
    "input('please type your name') #Always should be string"
   ]
  },
  {
   "cell_type": "code",
   "execution_count": null,
   "id": "345510a0",
   "metadata": {},
   "outputs": [],
   "source": [
    "name = input('Type your name: ')\n",
    "age = input('type your age')"
   ]
  },
  {
   "cell_type": "code",
   "execution_count": null,
   "id": "b28fd78f",
   "metadata": {},
   "outputs": [
    {
     "name": "stdout",
     "output_type": "stream",
     "text": [
      "ali23\n"
     ]
    }
   ],
   "source": [
    "print(name + age)"
   ]
  },
  {
   "cell_type": "code",
   "execution_count": null,
   "id": "f6d0ade2",
   "metadata": {},
   "outputs": [
    {
     "name": "stdout",
     "output_type": "stream",
     "text": [
      "ali 23\n"
     ]
    }
   ],
   "source": [
    "print(name + ' ' + age)"
   ]
  },
  {
   "cell_type": "code",
   "execution_count": null,
   "id": "79bce12a",
   "metadata": {},
   "outputs": [
    {
     "data": {
      "text/plain": [
       "-3.0"
      ]
     },
     "execution_count": 28,
     "metadata": {},
     "output_type": "execute_result"
    }
   ],
   "source": [
    "float(-3)"
   ]
  },
  {
   "cell_type": "code",
   "execution_count": null,
   "id": "9b8c7a34",
   "metadata": {},
   "outputs": [
    {
     "data": {
      "text/plain": [
       "3"
      ]
     },
     "execution_count": 29,
     "metadata": {},
     "output_type": "execute_result"
    }
   ],
   "source": [
    "int(3.14)"
   ]
  },
  {
   "cell_type": "code",
   "execution_count": null,
   "id": "9d0c6949",
   "metadata": {},
   "outputs": [
    {
     "name": "stdout",
     "output_type": "stream",
     "text": [
      "ali\n",
      "20\n"
     ]
    }
   ],
   "source": [
    "name = input('Type your name: ')\n",
    "age = int(input('type your age'))\n",
    "print(name)\n",
    "print(age)"
   ]
  },
  {
   "cell_type": "markdown",
   "id": "79b87edc",
   "metadata": {},
   "source": [
    "strip() → cleans unwanted spaces or characters at the start and end.\n",
    "split() → divides a string into a list of parts."
   ]
  },
  {
   "cell_type": "code",
   "execution_count": 2,
   "id": "904fa444",
   "metadata": {},
   "outputs": [
    {
     "name": "stdout",
     "output_type": "stream",
     "text": [
      "   Hello Python World   \n",
      "After strip(): Hello Python World\n"
     ]
    }
   ],
   "source": [
    "text = \"   Hello Python World   \"\n",
    "print(text)\n",
    "# strip() removes spaces (or other characters) from beginning and end\n",
    "text2 = text.strip()\n",
    "print(\"After strip():\", text2)"
   ]
  },
  {
   "cell_type": "code",
   "execution_count": 4,
   "id": "6796ca03",
   "metadata": {},
   "outputs": [
    {
     "name": "stdout",
     "output_type": "stream",
     "text": [
      "After split(): ['Hello', 'Python', 'World']\n"
     ]
    }
   ],
   "source": [
    "# split() breaks the string into a list (default: split by spaces)\n",
    "words = text.split()\n",
    "print(\"After split():\", words)"
   ]
  },
  {
   "cell_type": "code",
   "execution_count": 5,
   "id": "a016c83b",
   "metadata": {},
   "outputs": [
    {
     "name": "stdout",
     "output_type": "stream",
     "text": [
      "['student', 'university.edu']\n",
      "Username: student\n",
      "Domain: university.edu\n"
     ]
    }
   ],
   "source": [
    "# Split based on specific character\n",
    "email = \"student@university.edu\"\n",
    "\n",
    "# Split by the '@' character\n",
    "parts = email.split(\"@\")\n",
    "print(parts)\n",
    "print(\"Username:\", parts[0])\n",
    "print(\"Domain:\", parts[1])"
   ]
  },
  {
   "cell_type": "markdown",
   "id": "fd575fd5",
   "metadata": {},
   "source": [
    "this is my practice number 2"
   ]
  },
  {
   "cell_type": "markdown",
   "id": "2bbe9d5c",
   "metadata": {},
   "source": [
    "Logical operands\n",
    ">, >=, <, =, (!=), (==)\n"
   ]
  },
  {
   "cell_type": "code",
   "execution_count": 40,
   "id": "3303b865",
   "metadata": {},
   "outputs": [],
   "source": [
    "xx=2\n",
    "yy=3\n",
    "zz=4\n",
    "pp=3 \n",
    "kk=2"
   ]
  },
  {
   "cell_type": "markdown",
   "id": "3d91e98a",
   "metadata": {},
   "source": [
    "one of our variable type is 'Boolean' -----> bool"
   ]
  },
  {
   "cell_type": "code",
   "execution_count": 43,
   "id": "8a5aba3c",
   "metadata": {},
   "outputs": [
    {
     "data": {
      "text/plain": [
       "True"
      ]
     },
     "execution_count": 43,
     "metadata": {},
     "output_type": "execute_result"
    }
   ],
   "source": [
    "xx != yy"
   ]
  },
  {
   "cell_type": "code",
   "execution_count": null,
   "id": "d3eb4f68",
   "metadata": {},
   "outputs": [
    {
     "data": {
      "text/plain": [
       "False"
      ]
     },
     "execution_count": 52,
     "metadata": {},
     "output_type": "execute_result"
    }
   ],
   "source": [
    "xx == yy"
   ]
  },
  {
   "cell_type": "code",
   "execution_count": 44,
   "id": "661a9444",
   "metadata": {},
   "outputs": [
    {
     "data": {
      "text/plain": [
       "3"
      ]
     },
     "execution_count": 44,
     "metadata": {},
     "output_type": "execute_result"
    }
   ],
   "source": [
    "xx = yy\n",
    "xx"
   ]
  },
  {
   "cell_type": "code",
   "execution_count": 48,
   "id": "bb6191a1",
   "metadata": {},
   "outputs": [
    {
     "name": "stdout",
     "output_type": "stream",
     "text": [
      "<class 'bool'>\n"
     ]
    }
   ],
   "source": [
    "myvar = True\n",
    "print(type(myvar))"
   ]
  },
  {
   "cell_type": "code",
   "execution_count": 49,
   "id": "348b9a22",
   "metadata": {},
   "outputs": [
    {
     "name": "stdout",
     "output_type": "stream",
     "text": [
      "False\n"
     ]
    }
   ],
   "source": [
    "x = 3>6\n",
    "print(x)"
   ]
  },
  {
   "cell_type": "code",
   "execution_count": 50,
   "id": "476b9019",
   "metadata": {},
   "outputs": [
    {
     "data": {
      "text/plain": [
       "True"
      ]
     },
     "execution_count": 50,
     "metadata": {},
     "output_type": "execute_result"
    }
   ],
   "source": [
    "bool('hassan')"
   ]
  },
  {
   "cell_type": "code",
   "execution_count": 51,
   "id": "2359c8b6",
   "metadata": {},
   "outputs": [
    {
     "data": {
      "text/plain": [
       "False"
      ]
     },
     "execution_count": 51,
     "metadata": {},
     "output_type": "execute_result"
    }
   ],
   "source": [
    "bool()"
   ]
  },
  {
   "cell_type": "code",
   "execution_count": 52,
   "id": "80f44afb",
   "metadata": {},
   "outputs": [
    {
     "data": {
      "text/plain": [
       "True"
      ]
     },
     "execution_count": 52,
     "metadata": {},
     "output_type": "execute_result"
    }
   ],
   "source": [
    "bool(12)"
   ]
  },
  {
   "cell_type": "markdown",
   "id": "3b4ec257",
   "metadata": {},
   "source": [
    "simple ---> integer (3), float(3.0), string('Ali'), boolean(True, False)\n",
    "complex list ----> [1, 2, 3, 5, 98, 'House', 'Ali'], set, tuple, dictionary\n",
    "custom"
   ]
  },
  {
   "cell_type": "code",
   "execution_count": 53,
   "id": "2644020d",
   "metadata": {},
   "outputs": [
    {
     "data": {
      "text/plain": [
       "'HassanAli'"
      ]
     },
     "execution_count": 53,
     "metadata": {},
     "output_type": "execute_result"
    }
   ],
   "source": [
    "# String + , *\n",
    "'Hassan'+'Ali'"
   ]
  },
  {
   "cell_type": "markdown",
   "id": "88dc5eac",
   "metadata": {},
   "source": [
    "str * (int)"
   ]
  },
  {
   "cell_type": "code",
   "execution_count": 54,
   "id": "c5c81531",
   "metadata": {},
   "outputs": [
    {
     "data": {
      "text/plain": [
       "'tomytomytomy'"
      ]
     },
     "execution_count": 54,
     "metadata": {},
     "output_type": "execute_result"
    }
   ],
   "source": [
    "'tomy' * 3"
   ]
  },
  {
   "cell_type": "code",
   "execution_count": 55,
   "id": "6286d49d",
   "metadata": {},
   "outputs": [
    {
     "ename": "TypeError",
     "evalue": "unsupported operand type(s) for *: 'type' and 'float'",
     "output_type": "error",
     "traceback": [
      "\u001b[31m---------------------------------------------------------------------------\u001b[39m",
      "\u001b[31mTypeError\u001b[39m                                 Traceback (most recent call last)",
      "\u001b[36mCell\u001b[39m\u001b[36m \u001b[39m\u001b[32mIn[55]\u001b[39m\u001b[32m, line 1\u001b[39m\n\u001b[32m----> \u001b[39m\u001b[32m1\u001b[39m \u001b[38;5;28;43mstr\u001b[39;49m\u001b[43m \u001b[49m\u001b[43m*\u001b[49m\u001b[43m \u001b[49m\u001b[43m(\u001b[49m\u001b[32;43m3.1\u001b[39;49m\u001b[43m)\u001b[49m\n",
      "\u001b[31mTypeError\u001b[39m: unsupported operand type(s) for *: 'type' and 'float'"
     ]
    }
   ],
   "source": [
    "str * (3.1)"
   ]
  },
  {
   "cell_type": "code",
   "execution_count": 57,
   "id": "8eaef41e",
   "metadata": {},
   "outputs": [
    {
     "data": {
      "text/plain": [
       "'tomtom'"
      ]
     },
     "execution_count": 57,
     "metadata": {},
     "output_type": "execute_result"
    }
   ],
   "source": [
    "2 * 'tom'"
   ]
  },
  {
   "cell_type": "code",
   "execution_count": 58,
   "id": "1a2197e6",
   "metadata": {},
   "outputs": [
    {
     "name": "stdout",
     "output_type": "stream",
     "text": [
      "AB\n"
     ]
    }
   ],
   "source": [
    "str1 = 'A'\n",
    "str2 = \"B\"\n",
    "print(str1+str2)"
   ]
  },
  {
   "cell_type": "markdown",
   "id": "b979c6eb",
   "metadata": {},
   "source": [
    "Loop, for loop\n",
    "identation"
   ]
  },
  {
   "cell_type": "code",
   "execution_count": 6,
   "id": "6155dd12",
   "metadata": {},
   "outputs": [
    {
     "name": "stdout",
     "output_type": "stream",
     "text": [
      "0\n",
      "1\n",
      "2\n",
      "3\n",
      "4\n"
     ]
    }
   ],
   "source": [
    "for i in range(5):\n",
    "    print(i)"
   ]
  },
  {
   "cell_type": "markdown",
   "id": "d67ad350",
   "metadata": {},
   "source": [
    "Explanation of range(1, 16, 2)\n",
    "start = 1 → loop begins at i = 1\n",
    "end = 16 → loop stops before 16 (so max value is 15)\n",
    "step = 2 → each time i increases by 2"
   ]
  },
  {
   "cell_type": "code",
   "execution_count": 63,
   "id": "5ce6ba9b",
   "metadata": {},
   "outputs": [
    {
     "name": "stdout",
     "output_type": "stream",
     "text": [
      "*\n",
      "***\n",
      "*****\n",
      "*******\n",
      "*********\n",
      "***********\n",
      "*************\n",
      "***************\n",
      "done\n"
     ]
    }
   ],
   "source": [
    "for i in range(1, 16, 2): # range(start, end, step)\n",
    "    print('*' * i)\n",
    "print('done')\n"
   ]
  },
  {
   "cell_type": "markdown",
   "id": "757a1919",
   "metadata": {},
   "source": [
    "for i in range(1, 51):\n",
    "Loops through numbers 1, 2, 3, …, 50.\n",
    "'*' * i -----> Creates a string of stars. -----> Example: if i = 5 → \"*****\".\n",
    "end=\"\\r\" instead puts the cursor back to the beginning of the same line.\n",
    "That means each new print overwrites the previous line, giving an animation effect.\n",
    "time.sleep(0.2)\n",
    "Pauses the program for 0.2 seconds before the next loop iteration."
   ]
  },
  {
   "cell_type": "code",
   "execution_count": 7,
   "id": "adf0a064",
   "metadata": {},
   "outputs": [
    {
     "name": "stdout",
     "output_type": "stream",
     "text": [
      "**************************************************\r"
     ]
    }
   ],
   "source": [
    "import time\n",
    "\n",
    "for i in range(1, 51):\n",
    "    print('*' * i, end=\"\\r\")\n",
    "    time.sleep(0.2)"
   ]
  },
  {
   "cell_type": "markdown",
   "id": "ca0ece75",
   "metadata": {},
   "source": [
    "Conditional statemnets\n",
    "if condition:\n",
    "if a>b:\n",
    "    c=a+b\n",
    "else:\n",
    "    c= a-b"
   ]
  },
  {
   "cell_type": "code",
   "execution_count": 8,
   "id": "86320402",
   "metadata": {},
   "outputs": [],
   "source": [
    "x = 6\n",
    "y = 8\n",
    "if x>y:\n",
    "    print('Thank you')"
   ]
  },
  {
   "cell_type": "code",
   "execution_count": 9,
   "id": "b94e08cd",
   "metadata": {},
   "outputs": [
    {
     "name": "stdout",
     "output_type": "stream",
     "text": [
      "Thank you\n"
     ]
    }
   ],
   "source": [
    "x = 6\n",
    "y = 8\n",
    "if x<y:\n",
    "    print('Thank you')"
   ]
  },
  {
   "cell_type": "code",
   "execution_count": 10,
   "id": "24f97d98",
   "metadata": {},
   "outputs": [
    {
     "name": "stdout",
     "output_type": "stream",
     "text": [
      "Done\n"
     ]
    }
   ],
   "source": [
    "x = 6\n",
    "y = 8\n",
    "if x>y:\n",
    "    print('Thank you')\n",
    "else:\n",
    "    print('Done')"
   ]
  },
  {
   "cell_type": "code",
   "execution_count": null,
   "id": "8678424a",
   "metadata": {},
   "outputs": [],
   "source": [
    "x = 6\n",
    "y = 8\n",
    "if x>y:\n",
    "    print('Thank you')\n",
    "elif x == y:\n",
    "    print('Bye')\n",
    "\n",
    "else:\n",
    "    print('Done')\n",
    "# Nested if"
   ]
  },
  {
   "cell_type": "code",
   "execution_count": 11,
   "id": "1b5d6adf",
   "metadata": {},
   "outputs": [
    {
     "name": "stdout",
     "output_type": "stream",
     "text": [
      "check\n"
     ]
    }
   ],
   "source": [
    "x = 2\n",
    "if x<1:\n",
    "    print('ok')\n",
    "    print('check2')\n",
    "\n",
    "print('check')"
   ]
  },
  {
   "cell_type": "code",
   "execution_count": null,
   "id": "040378e5",
   "metadata": {},
   "outputs": [],
   "source": [
    "\n",
    "a = int(input('your number'))\n",
    "if a>=0:\n",
    "    print('positive')\n",
    "else:\n",
    "    print('Negative')"
   ]
  },
  {
   "cell_type": "code",
   "execution_count": null,
   "id": "39f62a9f",
   "metadata": {},
   "outputs": [],
   "source": [
    "a = int(input('your number'))\n",
    "if a%2 == 0:\n",
    "    print('Even')\n",
    "else:\n",
    "    print(\"odd\")"
   ]
  },
  {
   "cell_type": "markdown",
   "id": "9a7c8bcc",
   "metadata": {},
   "source": [
    "For Loops\n",
    "\n",
    "for \"counter\" in range(\"number\")"
   ]
  },
  {
   "cell_type": "code",
   "execution_count": null,
   "id": "51d2d463",
   "metadata": {},
   "outputs": [],
   "source": [
    "num = int(input(\"Ttype me a number\"))\n",
    "for i in range(num):\n",
    "    print(i)"
   ]
  },
  {
   "cell_type": "code",
   "execution_count": 16,
   "id": "2417bbd1",
   "metadata": {},
   "outputs": [
    {
     "name": "stdout",
     "output_type": "stream",
     "text": [
      "1\n",
      "2\n",
      "3\n",
      "4\n",
      "5\n"
     ]
    }
   ],
   "source": [
    "mylist = [1, 2, 3,4, 5]\n",
    "for items in mylist:\n",
    "    print(items)\n",
    "#mylist"
   ]
  },
  {
   "cell_type": "code",
   "execution_count": 18,
   "id": "aeefc7d1",
   "metadata": {},
   "outputs": [
    {
     "name": "stdout",
     "output_type": "stream",
     "text": [
      "apple\n",
      "orange\n",
      "pear\n",
      "melon\n"
     ]
    }
   ],
   "source": [
    "fruits = ['apple', 'orange', 'pear', 'melon']\n",
    "\n",
    "for fruit in fruits:\n",
    "    print(fruit)"
   ]
  },
  {
   "cell_type": "code",
   "execution_count": 20,
   "id": "16279b94",
   "metadata": {},
   "outputs": [],
   "source": [
    "import random"
   ]
  },
  {
   "cell_type": "code",
   "execution_count": 21,
   "id": "08280d6d",
   "metadata": {},
   "outputs": [
    {
     "name": "stdout",
     "output_type": "stream",
     "text": [
      "['apple17', 'orange17', 'pear11', 'melon18']\n"
     ]
    }
   ],
   "source": [
    "fruits = ['apple', 'orange', 'pear', 'melon']\n",
    "\n",
    "for i in range(len(fruits)):\n",
    "    number = random.randint(10,18)  # ---->Generates a random integer between 10 and 18 (inclusive).\n",
    "    fruits[i] = fruits[i] + str(number) # ----> a string (str(number)), Concatenates them\n",
    "print(fruits)"
   ]
  },
  {
   "cell_type": "code",
   "execution_count": 22,
   "id": "bdcaaefb",
   "metadata": {},
   "outputs": [
    {
     "name": "stdout",
     "output_type": "stream",
     "text": [
      "['apple--> 17', 'orange--> 14', 'pear--> 15', 'melon--> 15']\n"
     ]
    }
   ],
   "source": [
    "fruits = ['apple', 'orange', 'pear', 'melon']\n",
    "\n",
    "for i in range(len(fruits)):\n",
    "    number = random.randint(10,18)\n",
    "    fruits[i] = fruits[i] + '--> ' +str(number)\n",
    "print(fruits)"
   ]
  },
  {
   "cell_type": "markdown",
   "id": "51c9f65a",
   "metadata": {},
   "source": [
    "List"
   ]
  },
  {
   "cell_type": "code",
   "execution_count": 23,
   "id": "965c1b2c",
   "metadata": {},
   "outputs": [
    {
     "data": {
      "text/plain": [
       "list"
      ]
     },
     "execution_count": 23,
     "metadata": {},
     "output_type": "execute_result"
    }
   ],
   "source": [
    "type(fruits)"
   ]
  }
 ],
 "metadata": {
  "kernelspec": {
   "display_name": "Python 3",
   "language": "python",
   "name": "python3"
  },
  "language_info": {
   "codemirror_mode": {
    "name": "ipython",
    "version": 3
   },
   "file_extension": ".py",
   "mimetype": "text/x-python",
   "name": "python",
   "nbconvert_exporter": "python",
   "pygments_lexer": "ipython3",
   "version": "3.12.6"
  }
 },
 "nbformat": 4,
 "nbformat_minor": 5
}

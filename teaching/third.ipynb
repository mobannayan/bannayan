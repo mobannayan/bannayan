{
 "cells": [
  {
   "cell_type": "markdown",
   "id": "7f0a36b7",
   "metadata": {},
   "source": [
    "# List"
   ]
  },
  {
   "cell_type": "code",
   "execution_count": 1,
   "id": "6d0d8919",
   "metadata": {},
   "outputs": [],
   "source": [
    "names = ['ali', 'tom', 'Reza']\n",
    "numbers = [1, 2, 3, 100, 65]\n",
    "mixed = [100, 200, 300, 'LA', 'mashhad', 'yes', 1200]"
   ]
  },
  {
   "cell_type": "code",
   "execution_count": 2,
   "id": "4e71d43d",
   "metadata": {},
   "outputs": [
    {
     "data": {
      "text/plain": [
       "'Reza'"
      ]
     },
     "execution_count": 2,
     "metadata": {},
     "output_type": "execute_result"
    }
   ],
   "source": [
    "# List has order\n",
    "#listname[shomare]\n",
    "names[2]\n",
    "\n"
   ]
  },
  {
   "cell_type": "code",
   "execution_count": 3,
   "id": "e553607a",
   "metadata": {},
   "outputs": [
    {
     "data": {
      "text/plain": [
       "['ali', 'tom', 'Reza', 'Mashhad']"
      ]
     },
     "execution_count": 3,
     "metadata": {},
     "output_type": "execute_result"
    }
   ],
   "source": [
    "names.append('Mashhad')\n",
    "names"
   ]
  },
  {
   "cell_type": "code",
   "execution_count": 4,
   "id": "6ba82d57",
   "metadata": {},
   "outputs": [
    {
     "data": {
      "text/plain": [
       "['ali', 1000, 'tom', 'Reza', 'Mashhad']"
      ]
     },
     "execution_count": 4,
     "metadata": {},
     "output_type": "execute_result"
    }
   ],
   "source": [
    "names.insert(1, 1000)\n",
    "names"
   ]
  },
  {
   "cell_type": "code",
   "execution_count": 5,
   "id": "26e427ae",
   "metadata": {},
   "outputs": [
    {
     "data": {
      "text/plain": [
       "['ali', 1000, 'tom', 'Mashhad']"
      ]
     },
     "execution_count": 5,
     "metadata": {},
     "output_type": "execute_result"
    }
   ],
   "source": [
    "names.remove('Reza')\n",
    "names"
   ]
  },
  {
   "cell_type": "code",
   "execution_count": 6,
   "id": "9f436182",
   "metadata": {},
   "outputs": [
    {
     "data": {
      "text/plain": [
       "[]"
      ]
     },
     "execution_count": 6,
     "metadata": {},
     "output_type": "execute_result"
    }
   ],
   "source": [
    "names.clear()\n",
    "names"
   ]
  },
  {
   "cell_type": "code",
   "execution_count": null,
   "id": "ed22ec18",
   "metadata": {},
   "outputs": [
    {
     "data": {
      "text/plain": [
       "False"
      ]
     },
     "execution_count": 9,
     "metadata": {},
     "output_type": "execute_result"
    }
   ],
   "source": [
    "'wheat' in mixed"
   ]
  },
  {
   "cell_type": "code",
   "execution_count": 10,
   "id": "8e9a8755",
   "metadata": {},
   "outputs": [
    {
     "data": {
      "text/plain": [
       "True"
      ]
     },
     "execution_count": 10,
     "metadata": {},
     "output_type": "execute_result"
    }
   ],
   "source": [
    "100 in mixed"
   ]
  },
  {
   "cell_type": "code",
   "execution_count": 16,
   "id": "ba46a63c",
   "metadata": {},
   "outputs": [],
   "source": [
    "mixed = [100, 200, 300, 'LA', 'mashhad', 'yes', 1200]"
   ]
  },
  {
   "cell_type": "code",
   "execution_count": 20,
   "id": "e4765034",
   "metadata": {},
   "outputs": [
    {
     "name": "stdout",
     "output_type": "stream",
     "text": [
      "100\n",
      "200\n",
      "300\n",
      "LA\n",
      "mashhad\n",
      "yes\n",
      "1200\n",
      "Done\n"
     ]
    }
   ],
   "source": [
    "for i in range(len(mixed)):\n",
    "\n",
    "    print(mixed[i])\n",
    "    i = i+1\n",
    "\n",
    "print('Done')"
   ]
  },
  {
   "cell_type": "code",
   "execution_count": 25,
   "id": "7d538ea8",
   "metadata": {},
   "outputs": [
    {
     "name": "stdout",
     "output_type": "stream",
     "text": [
      "[1, 4, 9, 16, 25, 36, 49, 64, 81, 100]\n"
     ]
    },
    {
     "data": {
      "image/png": "[encoded data removed]",
      "text/plain": [
       "<Figure size 640x480 with 1 Axes>"
      ]
     },
     "metadata": {},
     "output_type": "display_data"
    }
   ],
   "source": [
    "# append\n",
    "import matplotlib.pyplot as plt\n",
    "\n",
    "results = []\n",
    "\n",
    "for i in range(1, 11):\n",
    "    square = i ** 2\n",
    "    results.append(square)\n",
    "\n",
    "print(results)\n",
    "\n",
    "plt.plot(range(1,11),results, marker = 'o', color = 'red')\n",
    "plt.show()\n"
   ]
  },
  {
   "cell_type": "code",
   "execution_count": null,
   "id": "3baf9d1f",
   "metadata": {},
   "outputs": [
    {
     "data": {
      "text/plain": [
       "['ali', 'bob', 'dana', 'tom']"
      ]
     },
     "execution_count": 27,
     "metadata": {},
     "output_type": "execute_result"
    }
   ],
   "source": [
    "mylist = [5, 16, 3, 1200, 976]\n",
    "mynames = ['tom', 'bob', 'ali', 'dana']\n",
    "sorted(mylist)\n",
    "#sorted(mynames)"
   ]
  },
  {
   "cell_type": "code",
   "execution_count": 28,
   "id": "45d40812",
   "metadata": {},
   "outputs": [
    {
     "name": "stdout",
     "output_type": "stream",
     "text": [
      "[1200, 976, 16, 5, 3]\n"
     ]
    }
   ],
   "source": [
    "mylist = [5, 16, 3, 1200, 976]\n",
    "print(sorted(mylist, reverse = True))"
   ]
  },
  {
   "cell_type": "code",
   "execution_count": 29,
   "id": "dee350ab",
   "metadata": {},
   "outputs": [
    {
     "data": {
      "text/plain": [
       "[3, 4, 5, 6, 7, 8, 9]"
      ]
     },
     "execution_count": 29,
     "metadata": {},
     "output_type": "execute_result"
    }
   ],
   "source": [
    "list(range(3,10))"
   ]
  },
  {
   "cell_type": "code",
   "execution_count": 30,
   "id": "f299bb7a",
   "metadata": {},
   "outputs": [
    {
     "data": {
      "text/plain": [
       "[3, 5, 7, 9]"
      ]
     },
     "execution_count": 30,
     "metadata": {},
     "output_type": "execute_result"
    }
   ],
   "source": [
    "list(range(3, 10, 2))"
   ]
  },
  {
   "cell_type": "code",
   "execution_count": 31,
   "id": "fd30951f",
   "metadata": {},
   "outputs": [
    {
     "data": {
      "text/plain": [
       "[10, 9, 8, 7, 6, 5, 4, 3, 2, 1]"
      ]
     },
     "execution_count": 31,
     "metadata": {},
     "output_type": "execute_result"
    }
   ],
   "source": [
    "list(range(10,0, -1))"
   ]
  },
  {
   "cell_type": "code",
   "execution_count": 35,
   "id": "f81480ed",
   "metadata": {},
   "outputs": [
    {
     "data": {
      "text/plain": [
       "[0]"
      ]
     },
     "execution_count": 35,
     "metadata": {},
     "output_type": "execute_result"
    }
   ],
   "source": [
    "list(range(0, 10, 20))"
   ]
  },
  {
   "cell_type": "code",
   "execution_count": 46,
   "id": "2682510d",
   "metadata": {},
   "outputs": [],
   "source": [
    "mixed = [100, 200, 300, 'LA', 'mashhad', 'yes', 1200, 100, 100, 78, 300]"
   ]
  },
  {
   "cell_type": "code",
   "execution_count": 47,
   "id": "3bc4d280",
   "metadata": {},
   "outputs": [
    {
     "data": {
      "text/plain": [
       "2"
      ]
     },
     "execution_count": 47,
     "metadata": {},
     "output_type": "execute_result"
    }
   ],
   "source": [
    "mixed.count(300)"
   ]
  },
  {
   "cell_type": "code",
   "execution_count": 50,
   "id": "1eddbefd",
   "metadata": {},
   "outputs": [
    {
     "data": {
      "text/plain": [
       "40"
      ]
     },
     "execution_count": 50,
     "metadata": {},
     "output_type": "execute_result"
    }
   ],
   "source": [
    "mylist2 = [10, 20, 30, 40]\n",
    "max(mylist2)"
   ]
  },
  {
   "cell_type": "code",
   "execution_count": 51,
   "id": "3ff7ba26",
   "metadata": {},
   "outputs": [
    {
     "data": {
      "text/plain": [
       "10"
      ]
     },
     "execution_count": 51,
     "metadata": {},
     "output_type": "execute_result"
    }
   ],
   "source": [
    "mylist2 = [10, 20, 30, 40]\n",
    "min(mylist2)"
   ]
  },
  {
   "cell_type": "code",
   "execution_count": 53,
   "id": "5fedf83c",
   "metadata": {},
   "outputs": [
    {
     "data": {
      "text/plain": [
       "[1, 2, 3, 4, 5, 100, 200, 300, 400, 500]"
      ]
     },
     "execution_count": 53,
     "metadata": {},
     "output_type": "execute_result"
    }
   ],
   "source": [
    "l1 = [1, 2, 3, 4, 5]\n",
    "l2 = [100, 200, 300, 400, 500]\n",
    "l3 = l1 + l2\n",
    "l3"
   ]
  }
 ],
 "metadata": {
  "kernelspec": {
   "display_name": ".venv",
   "language": "python",
   "name": "python3"
  },
  "language_info": {
   "codemirror_mode": {
    "name": "ipython",
    "version": 3
   },
   "file_extension": ".py",
   "mimetype": "text/x-python",
   "name": "python",
   "nbconvert_exporter": "python",
   "pygments_lexer": "ipython3",
   "version": "3.12.6"
  }
 },
 "nbformat": 4,
 "nbformat_minor": 5
}

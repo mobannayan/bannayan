{
 "cells": [
  {
   "cell_type": "markdown",
   "id": "a926a3f1",
   "metadata": {},
   "source": [
    "### Conditional Statement"
   ]
  },
  {
   "cell_type": "markdown",
   "id": "f5db8fdc",
   "metadata": {},
   "source": [
    "if condition:\n",
    "    a>b\n",
    "    fg=2\n",
    "\n",
    "p =a+e"
   ]
  },
  {
   "cell_type": "code",
   "execution_count": 1,
   "id": "30c64987",
   "metadata": {},
   "outputs": [],
   "source": [
    "x = 6\n",
    "y = 8\n",
    "if x>y:\n",
    "    print('Thank you')"
   ]
  },
  {
   "cell_type": "code",
   "execution_count": 2,
   "id": "5ce6c300",
   "metadata": {},
   "outputs": [
    {
     "name": "stdout",
     "output_type": "stream",
     "text": [
      "Thank you\n"
     ]
    }
   ],
   "source": [
    "x = 6\n",
    "y = 8\n",
    "if x<y:\n",
    "    print('Thank you')"
   ]
  },
  {
   "cell_type": "code",
   "execution_count": 5,
   "id": "6bdc22e2",
   "metadata": {},
   "outputs": [
    {
     "name": "stdout",
     "output_type": "stream",
     "text": [
      "Done\n"
     ]
    }
   ],
   "source": [
    "x = 6\n",
    "y = 8\n",
    "if x>y:\n",
    "    print('Thank you')\n",
    "else:\n",
    "    print('Done')"
   ]
  },
  {
   "cell_type": "code",
   "execution_count": null,
   "id": "7cc96690",
   "metadata": {},
   "outputs": [
    {
     "name": "stdout",
     "output_type": "stream",
     "text": [
      "Done\n"
     ]
    }
   ],
   "source": [
    "x = 6\n",
    "y = 8\n",
    "if x>y:\n",
    "    print('Thank you')\n",
    "elif x == y:\n",
    "    print('Bye')\n",
    "\n",
    "else:\n",
    "    print('Done')\n",
    "# Nested if\n",
    "p=5"
   ]
  },
  {
   "cell_type": "code",
   "execution_count": null,
   "id": "0ec881e1",
   "metadata": {},
   "outputs": [],
   "source": [
    "x = 2\n",
    "if x<1:\n",
    "    print('ok')\n",
    "    print('check2')\n",
    "\n",
    "print('check')"
   ]
  },
  {
   "cell_type": "code",
   "execution_count": 16,
   "id": "25ac8b81",
   "metadata": {},
   "outputs": [
    {
     "name": "stdout",
     "output_type": "stream",
     "text": [
      "Negative\n"
     ]
    }
   ],
   "source": [
    "a = int(input('your number'))\n",
    "if a>=0:\n",
    "    print('positive')\n",
    "else:\n",
    "    print('Negative')"
   ]
  },
  {
   "cell_type": "code",
   "execution_count": 18,
   "id": "0dfed342",
   "metadata": {},
   "outputs": [
    {
     "name": "stdout",
     "output_type": "stream",
     "text": [
      "odd\n"
     ]
    }
   ],
   "source": [
    "a = int(input('your number'))\n",
    "if a%2 == 0:\n",
    "    print('Even')\n",
    "else:\n",
    "    print(\"odd\")"
   ]
  },
  {
   "cell_type": "markdown",
   "id": "9085250e",
   "metadata": {},
   "source": [
    "### Loops (For)"
   ]
  },
  {
   "cell_type": "markdown",
   "id": "b84044a9",
   "metadata": {},
   "source": [
    "for \"counter\" in range(number):\n"
   ]
  },
  {
   "cell_type": "code",
   "execution_count": 3,
   "id": "354d2058",
   "metadata": {},
   "outputs": [
    {
     "name": "stdout",
     "output_type": "stream",
     "text": [
      "0\n",
      "1\n",
      "2\n",
      "3\n"
     ]
    }
   ],
   "source": [
    "num = int(input(\"Ttype me a number\"))\n",
    "for i in range(num):\n",
    "    print(i)"
   ]
  },
  {
   "cell_type": "code",
   "execution_count": 5,
   "id": "73760c8f",
   "metadata": {},
   "outputs": [
    {
     "name": "stdout",
     "output_type": "stream",
     "text": [
      "1\n",
      "2\n",
      "3\n",
      "4\n",
      "5\n"
     ]
    }
   ],
   "source": [
    "mylist = [1, 2, 3,4, 5]\n",
    "for items in mylist:\n",
    "    print(items)\n",
    "#mylist"
   ]
  },
  {
   "cell_type": "code",
   "execution_count": 6,
   "id": "9cf57c89",
   "metadata": {},
   "outputs": [
    {
     "name": "stdout",
     "output_type": "stream",
     "text": [
      "5\n",
      "5\n",
      "5\n",
      "5\n",
      "5\n"
     ]
    }
   ],
   "source": [
    "mylist = [1, 2, 3,4, 5]\n",
    "for x in mylist:\n",
    "    print(items)"
   ]
  },
  {
   "cell_type": "code",
   "execution_count": null,
   "id": "905cdf1d",
   "metadata": {},
   "outputs": [
    {
     "name": "stdout",
     "output_type": "stream",
     "text": [
      "apple\n",
      "orange\n",
      "pear\n",
      "melon\n"
     ]
    }
   ],
   "source": [
    "fruits = ['apple', 'orange', 'pear', 'melon']\n",
    "\n",
    "for fruit in fruits:\n",
    "    print(fruit)"
   ]
  },
  {
   "cell_type": "code",
   "execution_count": 9,
   "id": "5547b856",
   "metadata": {},
   "outputs": [],
   "source": [
    "import random"
   ]
  },
  {
   "cell_type": "code",
   "execution_count": 10,
   "id": "fc50ff56",
   "metadata": {},
   "outputs": [
    {
     "name": "stdout",
     "output_type": "stream",
     "text": [
      "['apple11', 'orange14', 'pear18', 'melon10']\n"
     ]
    }
   ],
   "source": [
    "fruits = ['apple', 'orange', 'pear', 'melon']\n",
    "\n",
    "for i in range(len(fruits)):\n",
    "    number = random.randint(10,18)\n",
    "    fruits[i] = fruits[i] + str(number)\n",
    "print(fruits)"
   ]
  },
  {
   "cell_type": "code",
   "execution_count": 12,
   "id": "e6430d18",
   "metadata": {},
   "outputs": [
    {
     "name": "stdout",
     "output_type": "stream",
     "text": [
      "['apple--> 11', 'orange--> 16', 'pear--> 16', 'melon--> 15']\n"
     ]
    }
   ],
   "source": [
    "fruits = ['apple', 'orange', 'pear', 'melon']\n",
    "\n",
    "for i in range(len(fruits)):\n",
    "    number = random.randint(10,18)\n",
    "    fruits[i] = fruits[i] + '--> ' +str(number)\n",
    "print(fruits)"
   ]
  },
  {
   "cell_type": "markdown",
   "id": "98a1c219",
   "metadata": {},
   "source": [
    "### List"
   ]
  },
  {
   "cell_type": "code",
   "execution_count": 13,
   "id": "d2cee883",
   "metadata": {},
   "outputs": [
    {
     "data": {
      "text/plain": [
       "list"
      ]
     },
     "execution_count": 13,
     "metadata": {},
     "output_type": "execute_result"
    }
   ],
   "source": [
    "type(fruits)"
   ]
  }
 ],
 "metadata": {
  "kernelspec": {
   "display_name": ".venv",
   "language": "python",
   "name": "python3"
  },
  "language_info": {
   "codemirror_mode": {
    "name": "ipython",
    "version": 3
   },
   "file_extension": ".py",
   "mimetype": "text/x-python",
   "name": "python",
   "nbconvert_exporter": "python",
   "pygments_lexer": "ipython3",
   "version": "3.12.6"
  }
 },
 "nbformat": 4,
 "nbformat_minor": 5
}

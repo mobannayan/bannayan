{
 "cells": [
  {
   "cell_type": "markdown",
   "id": "fed56e42",
   "metadata": {},
   "source": [
    "Functions "
   ]
  },
  {
   "cell_type": "code",
   "execution_count": 50,
   "id": "ed235ba1",
   "metadata": {},
   "outputs": [],
   "source": [
    "import random\n",
    "import numpy as np\n",
    "import matplotlib.pyplot as plt\n",
    "import pandas as pd"
   ]
  },
  {
   "cell_type": "code",
   "execution_count": 19,
   "id": "adcccb88",
   "metadata": {},
   "outputs": [
    {
     "data": {
      "text/plain": [
       "5"
      ]
     },
     "execution_count": 19,
     "metadata": {},
     "output_type": "execute_result"
    }
   ],
   "source": [
    "#random.seed(123)\n",
    "random.randint(1,10)"
   ]
  },
  {
   "cell_type": "code",
   "execution_count": 20,
   "id": "9b3c5753",
   "metadata": {},
   "outputs": [
    {
     "name": "stdout",
     "output_type": "stream",
     "text": [
      "2\n",
      "7\n",
      "5\n",
      "2\n",
      "1\n",
      "7\n",
      "9\n",
      "9\n",
      "6\n",
      "6\n"
     ]
    }
   ],
   "source": [
    "for i in range(10):\n",
    "    print(random.randint(1,10))"
   ]
  },
  {
   "cell_type": "code",
   "execution_count": 25,
   "id": "6e67e869",
   "metadata": {},
   "outputs": [
    {
     "data": {
      "image/png": "[encoded data removed]",
      "text/plain": [
       "<Figure size 640x480 with 1 Axes>"
      ]
     },
     "metadata": {},
     "output_type": "display_data"
    }
   ],
   "source": [
    "data = np.random.normal(50, 5, 100)\n",
    "\n",
    "plt.hist(data, bins=30, edgecolor = 'red')\n",
    "plt.show()"
   ]
  },
  {
   "cell_type": "code",
   "execution_count": 30,
   "id": "6e84e0e7",
   "metadata": {},
   "outputs": [],
   "source": [
    "# \"def\" FASELE \"NAME\"(argument1, arg2, arg3, ...):\n",
    "def myexample(x, y):\n",
    "    z = x**2 + y\n",
    "    return z\n",
    "\n",
    "\n"
   ]
  },
  {
   "cell_type": "code",
   "execution_count": 34,
   "id": "c732e828",
   "metadata": {},
   "outputs": [
    {
     "name": "stdout",
     "output_type": "stream",
     "text": [
      "9\n"
     ]
    }
   ],
   "source": [
    "print(myexample(2, 5))"
   ]
  },
  {
   "cell_type": "code",
   "execution_count": null,
   "id": "d29b24e4",
   "metadata": {},
   "outputs": [
    {
     "name": "stdout",
     "output_type": "stream",
     "text": [
      "26\n"
     ]
    }
   ],
   "source": [
    "def myexample2(*number):\n",
    "    total = 0\n",
    "    for number in number:\n",
    "        total = total + number\n",
    "        #total+= number\n",
    "    return total\n",
    "\n",
    "print(myexample2(2, 5, 8, 11))\n"
   ]
  },
  {
   "cell_type": "markdown",
   "id": "06b57f65",
   "metadata": {},
   "source": [
    "#total = total * number\n",
    "#total*=number"
   ]
  },
  {
   "cell_type": "code",
   "execution_count": 58,
   "id": "f97a24f7",
   "metadata": {},
   "outputs": [
    {
     "data": {
      "text/plain": [
       "'ali'"
      ]
     },
     "execution_count": 58,
     "metadata": {},
     "output_type": "execute_result"
    }
   ],
   "source": [
    "name = [1, 2, 4, 7, \"ali\", [44, 55]]\n",
    "name[4]\n",
    "#type(name)"
   ]
  },
  {
   "cell_type": "code",
   "execution_count": 59,
   "id": "214d776f",
   "metadata": {},
   "outputs": [
    {
     "data": {
      "text/plain": [
       "[1, 2, 4, 7, 'ali', [44, 55], 'ahmad']"
      ]
     },
     "execution_count": 59,
     "metadata": {},
     "output_type": "execute_result"
    }
   ],
   "source": [
    "name.append('ahmad')\n",
    "name"
   ]
  },
  {
   "cell_type": "code",
   "execution_count": null,
   "id": "85b4146c",
   "metadata": {},
   "outputs": [],
   "source": [
    "# dictionary Kilid(key), Value\n",
    "# example3{\"Ali\": 23}"
   ]
  },
  {
   "cell_type": "code",
   "execution_count": 42,
   "id": "a8551e98",
   "metadata": {},
   "outputs": [
    {
     "name": "stdout",
     "output_type": "stream",
     "text": [
      "{'ali': 20, 5: True}\n"
     ]
    }
   ],
   "source": [
    "y = {'ali': 20, 5:True}\n",
    "print(y)"
   ]
  },
  {
   "cell_type": "code",
   "execution_count": 43,
   "id": "ab15ae3e",
   "metadata": {},
   "outputs": [
    {
     "data": {
      "text/plain": [
       "dict"
      ]
     },
     "execution_count": 43,
     "metadata": {},
     "output_type": "execute_result"
    }
   ],
   "source": [
    "y = {'ali': 20, 5:True}\n",
    "type(y)"
   ]
  },
  {
   "cell_type": "code",
   "execution_count": 45,
   "id": "e790eec8",
   "metadata": {},
   "outputs": [
    {
     "name": "stdout",
     "output_type": "stream",
     "text": [
      "20\n"
     ]
    }
   ],
   "source": [
    "students = {'tom': 20, 'ali': 18, 'mina': 12}\n",
    "print(students['tom'])\n"
   ]
  },
  {
   "cell_type": "code",
   "execution_count": 46,
   "id": "782bbab3",
   "metadata": {},
   "outputs": [
    {
     "name": "stdout",
     "output_type": "stream",
     "text": [
      "tom\n",
      "ali\n",
      "mina\n"
     ]
    }
   ],
   "source": [
    "for i in students:\n",
    "    print(i)"
   ]
  },
  {
   "cell_type": "code",
   "execution_count": 47,
   "id": "0fbc7371",
   "metadata": {},
   "outputs": [
    {
     "name": "stdout",
     "output_type": "stream",
     "text": [
      "20\n",
      "18\n",
      "12\n"
     ]
    }
   ],
   "source": [
    "for i in students:\n",
    "    print(students[i])"
   ]
  },
  {
   "cell_type": "code",
   "execution_count": 48,
   "id": "ef4c7887",
   "metadata": {},
   "outputs": [
    {
     "name": "stdout",
     "output_type": "stream",
     "text": [
      "{'tom': 20, 'ali': 18, 'mina': 12, 'sara': 19}\n"
     ]
    }
   ],
   "source": [
    "students['sara']=19\n",
    "print(students)"
   ]
  },
  {
   "cell_type": "code",
   "execution_count": 51,
   "id": "b1917679",
   "metadata": {},
   "outputs": [],
   "source": [
    "# delete\n",
    "soil = ({\n",
    "    'site': ['mashhad'],\n",
    "    'sand': [20],\n",
    "    'silt': [30],\n",
    "    'clay': [50],\n",
    "    'PH': [6.8],\n",
    "    'OC': [2.1]\n",
    "})\n",
    "\n",
    "#dataframe (df)\n",
    "mydf = pd.DataFrame(soil)"
   ]
  },
  {
   "cell_type": "code",
   "execution_count": null,
   "id": "d1414be0",
   "metadata": {},
   "outputs": [
    {
     "data": {
      "text/html": [
       "<div>\n",
       "<style scoped>\n",
       "    .dataframe tbody tr th:only-of-type {\n",
       "        vertical-align: middle;\n",
       "    }\n",
       "\n",
       "    .dataframe tbody tr th {\n",
       "        vertical-align: top;\n",
       "    }\n",
       "\n",
       "    .dataframe thead th {\n",
       "        text-align: right;\n",
       "    }\n",
       "</style>\n",
       "<table border=\"1\" class=\"dataframe\">\n",
       "  <thead>\n",
       "    <tr style=\"text-align: right;\">\n",
       "      <th></th>\n",
       "      <th>site</th>\n",
       "      <th>sand</th>\n",
       "      <th>silt</th>\n",
       "      <th>clay</th>\n",
       "      <th>PH</th>\n",
       "      <th>OC</th>\n",
       "    </tr>\n",
       "  </thead>\n",
       "  <tbody>\n",
       "    <tr>\n",
       "      <th>0</th>\n",
       "      <td>mashhad</td>\n",
       "      <td>20</td>\n",
       "      <td>30</td>\n",
       "      <td>50</td>\n",
       "      <td>6.8</td>\n",
       "      <td>2.1</td>\n",
       "    </tr>\n",
       "  </tbody>\n",
       "</table>\n",
       "</div>"
      ],
      "text/plain": [
       "      site  sand  silt  clay   PH   OC\n",
       "0  mashhad    20    30    50  6.8  2.1"
      ]
     },
     "execution_count": 53,
     "metadata": {},
     "output_type": "execute_result"
    }
   ],
   "source": [
    "mydf.head()\n",
    "#mydf.to_excel('soil.xlsx')"
   ]
  },
  {
   "cell_type": "code",
   "execution_count": 54,
   "id": "08d9e485",
   "metadata": {},
   "outputs": [
    {
     "name": "stdout",
     "output_type": "stream",
     "text": [
      "{'site': ['mashhad'], 'sand': [20], 'silt': [30], 'clay': [50], 'PH': [6.8], 'OC': [2.1], 'BD': 1.3}\n"
     ]
    }
   ],
   "source": [
    "soil['BD'] = 1.3\n",
    "print(soil)"
   ]
  },
  {
   "cell_type": "code",
   "execution_count": 60,
   "id": "619b2ecd",
   "metadata": {},
   "outputs": [
    {
     "ename": "KeyError",
     "evalue": "'N'",
     "output_type": "error",
     "traceback": [
      "\u001b[31m---------------------------------------------------------------------------\u001b[39m",
      "\u001b[31mKeyError\u001b[39m                                  Traceback (most recent call last)",
      "\u001b[36mCell\u001b[39m\u001b[36m \u001b[39m\u001b[32mIn[60]\u001b[39m\u001b[32m, line 1\u001b[39m\n\u001b[32m----> \u001b[39m\u001b[32m1\u001b[39m \u001b[38;5;28mprint\u001b[39m(\u001b[43msoil\u001b[49m\u001b[43m[\u001b[49m\u001b[33;43m'\u001b[39;49m\u001b[33;43mN\u001b[39;49m\u001b[33;43m'\u001b[39;49m\u001b[43m]\u001b[49m)\n",
      "\u001b[31mKeyError\u001b[39m: 'N'"
     ]
    }
   ],
   "source": [
    "print(soil['N'])"
   ]
  },
  {
   "cell_type": "code",
   "execution_count": 63,
   "id": "b2f1d364",
   "metadata": {},
   "outputs": [
    {
     "name": "stdout",
     "output_type": "stream",
     "text": [
      "None\n"
     ]
    }
   ],
   "source": [
    "print(soil.get('N'))"
   ]
  },
  {
   "cell_type": "code",
   "execution_count": 64,
   "id": "b06de352",
   "metadata": {},
   "outputs": [
    {
     "name": "stdout",
     "output_type": "stream",
     "text": [
      "site\n",
      "['mashhad']\n",
      "sand\n",
      "[20]\n",
      "silt\n",
      "[30]\n",
      "clay\n",
      "[50]\n",
      "PH\n",
      "[6.8]\n",
      "OC\n",
      "[2.1]\n",
      "BD\n",
      "1.3\n"
     ]
    }
   ],
   "source": [
    "for k, v in soil.items():\n",
    "    print(k)\n",
    "    print(v)"
   ]
  },
  {
   "cell_type": "code",
   "execution_count": 66,
   "id": "558aa919",
   "metadata": {},
   "outputs": [
    {
     "name": "stdout",
     "output_type": "stream",
     "text": [
      "('site', ['mashhad'])\n",
      "('sand', [20])\n",
      "('silt', [30])\n",
      "('clay', [50])\n",
      "('PH', [6.8])\n",
      "('OC', [2.1])\n",
      "('BD', 1.3)\n"
     ]
    }
   ],
   "source": [
    "for a in soil.items():\n",
    "    print(a)"
   ]
  },
  {
   "cell_type": "code",
   "execution_count": 68,
   "id": "b244ba8a",
   "metadata": {},
   "outputs": [
    {
     "name": "stdout",
     "output_type": "stream",
     "text": [
      "site\n",
      "sand\n",
      "silt\n",
      "clay\n",
      "PH\n",
      "OC\n",
      "BD\n"
     ]
    }
   ],
   "source": [
    "for a in soil:\n",
    "    print(a)"
   ]
  }
 ],
 "metadata": {
  "kernelspec": {
   "display_name": ".venv",
   "language": "python",
   "name": "python3"
  },
  "language_info": {
   "codemirror_mode": {
    "name": "ipython",
    "version": 3
   },
   "file_extension": ".py",
   "mimetype": "text/x-python",
   "name": "python",
   "nbconvert_exporter": "python",
   "pygments_lexer": "ipython3",
   "version": "3.12.6"
  }
 },
 "nbformat": 4,
 "nbformat_minor": 5
}

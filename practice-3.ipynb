{
 "cells": [
  {
   "cell_type": "code",
   "execution_count": 9,
   "id": "7ac3d68e",
   "metadata": {},
   "outputs": [],
   "source": [
    "import pandas as pd\n",
    "import numpy as np "
   ]
  },
  {
   "cell_type": "code",
   "execution_count": 9,
   "id": "7d12fd20",
   "metadata": {},
   "outputs": [
    {
     "data": {
      "application/javascript": "\n        if (window._pyforest_update_imports_cell) { window._pyforest_update_imports_cell('import pandas as pd'); }\n    ",
      "text/plain": [
       "<IPython.core.display.Javascript object>"
      ]
     },
     "metadata": {},
     "output_type": "display_data"
    },
    {
     "name": "stdout",
     "output_type": "stream",
     "text": [
      "Repeated values (once each): 3\n"
     ]
    }
   ],
   "source": [
    "list1=[1, 2, 2, 3,4, 4, 5, 6, 6,7]\n",
    "s=pd.Series(list1)\n",
    "duplicates = s[s.duplicated()].nunique()\n",
    "print(\"Repeated values (once each):\", duplicates)"
   ]
  },
  {
   "cell_type": "code",
   "execution_count": 2,
   "id": "19c24357",
   "metadata": {},
   "outputs": [
    {
     "name": "stdout",
     "output_type": "stream",
     "text": [
      "<class '__main__.mydt'>\n"
     ]
    }
   ],
   "source": [
    "class mydt:\n",
    "    def __init__(self):\n",
    "        pass\n",
    "\n",
    "y=mydt()\n",
    "print(type(y))\n",
    "\n"
   ]
  },
  {
   "cell_type": "code",
   "execution_count": 4,
   "id": "3d83fea7",
   "metadata": {},
   "outputs": [],
   "source": [
    "class cat:\n",
    "    def __init__(self):\n",
    "        pass\n",
    "    def sound(self):\n",
    "        print(\"miow miow\")\n"
   ]
  },
  {
   "cell_type": "code",
   "execution_count": 7,
   "id": "80f6bd98",
   "metadata": {},
   "outputs": [
    {
     "name": "stdout",
     "output_type": "stream",
     "text": [
      "<__main__.cat object at 0x7f8b107b4e50>\n"
     ]
    }
   ],
   "source": [
    "tom=cat()\n",
    "print(tom)"
   ]
  },
  {
   "cell_type": "code",
   "execution_count": 8,
   "id": "db39c629",
   "metadata": {},
   "outputs": [
    {
     "name": "stdout",
     "output_type": "stream",
     "text": [
      "miow miow\n"
     ]
    }
   ],
   "source": [
    "tom.sound()"
   ]
  },
  {
   "cell_type": "code",
   "execution_count": 18,
   "id": "d92eb61f",
   "metadata": {},
   "outputs": [],
   "source": [
    "def maker(self):\n",
    "    pass\n",
    "def dog_sound(self):\n",
    "    print(\"miw miw\")"
   ]
  },
  {
   "cell_type": "code",
   "execution_count": 19,
   "id": "7e5284d2",
   "metadata": {},
   "outputs": [],
   "source": [
    "dog=type(\"Dynamic dog class\", (), {\n",
    "    \"__init__\": maker,\n",
    "    \"sound\":dog_sound\n",
    "})"
   ]
  },
  {
   "cell_type": "code",
   "execution_count": 20,
   "id": "16c48e61",
   "metadata": {},
   "outputs": [],
   "source": [
    "joe=dog()"
   ]
  },
  {
   "cell_type": "code",
   "execution_count": 22,
   "id": "3d702dfd",
   "metadata": {},
   "outputs": [
    {
     "name": "stdout",
     "output_type": "stream",
     "text": [
      "miw miw\n"
     ]
    }
   ],
   "source": [
    "joe.sound()"
   ]
  }
 ],
 "metadata": {
  "kernelspec": {
   "display_name": "base",
   "language": "python",
   "name": "python3"
  },
  "language_info": {
   "codemirror_mode": {
    "name": "ipython",
    "version": 3
   },
   "file_extension": ".py",
   "mimetype": "text/x-python",
   "name": "python",
   "nbconvert_exporter": "python",
   "pygments_lexer": "ipython3",
   "version": "3.9.12"
  }
 },
 "nbformat": 4,
 "nbformat_minor": 5
}

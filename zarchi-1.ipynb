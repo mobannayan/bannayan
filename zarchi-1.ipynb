{
 "cells": [
  {
   "cell_type": "code",
   "execution_count": 6,
   "id": "c1bd92e6",
   "metadata": {},
   "outputs": [],
   "source": [
    "import numpy as np\n",
    "import matplotlib.pyplot as plt"
   ]
  },
  {
   "cell_type": "code",
   "execution_count": null,
   "id": "1dbd327f",
   "metadata": {},
   "outputs": [],
   "source": [
    "x=[5, 3, -1, 2, 6]\n",
    "y=[14, 6, -5.5, 3.5,18]"
   ]
  },
  {
   "cell_type": "code",
   "execution_count": 2,
   "id": "6a677910",
   "metadata": {},
   "outputs": [
    {
     "name": "stdout",
     "output_type": "stream",
     "text": [
      "[5, 3, -1, 2, 6] [14, 6, -5.5, 3.5, 18]\n"
     ]
    }
   ],
   "source": [
    "print(x,y)"
   ]
  },
  {
   "cell_type": "code",
   "execution_count": 9,
   "id": "362ac6ba",
   "metadata": {},
   "outputs": [],
   "source": [
    "X,Y, XiYi, Xi2=0,0,0,0\n",
    "n=len(x)\n",
    "for i in range(n):\n",
    "    X=X+x[i]\n",
    "    Y=Y+y[i]\n",
    "    XiYi=XiYi+x[i]*y[i]\n",
    "    Xi2=Xi2+x[i]**2\n",
    "    #print(n,X,Y, XiYi, Xi2)"
   ]
  },
  {
   "cell_type": "code",
   "execution_count": 4,
   "id": "0a9ab868",
   "metadata": {},
   "outputs": [
    {
     "name": "stdout",
     "output_type": "stream",
     "text": [
      "3.35\n"
     ]
    }
   ],
   "source": [
    "w1 = (n * XiYi - X*Y)/(n*Xi2-X**2)\n",
    "print(w1)"
   ]
  },
  {
   "cell_type": "code",
   "execution_count": 5,
   "id": "8e7b3e84",
   "metadata": {},
   "outputs": [
    {
     "name": "stdout",
     "output_type": "stream",
     "text": [
      "-2.85\n"
     ]
    }
   ],
   "source": [
    "w0= (Y-w1*X)/n\n",
    "print(w0)"
   ]
  }
 ],
 "metadata": {
  "kernelspec": {
   "display_name": "base",
   "language": "python",
   "name": "python3"
  },
  "language_info": {
   "codemirror_mode": {
    "name": "ipython",
    "version": 3
   },
   "file_extension": ".py",
   "mimetype": "text/x-python",
   "name": "python",
   "nbconvert_exporter": "python",
   "pygments_lexer": "ipython3",
   "version": "3.9.12"
  }
 },
 "nbformat": 4,
 "nbformat_minor": 5
}

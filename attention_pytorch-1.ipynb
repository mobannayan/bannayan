{
 "cells": [
  {
   "cell_type": "markdown",
   "id": "831e9f8c",
   "metadata": {},
   "source": [
    "### Employing an attention mechanism in a neural network using PyTorch involves creating a layer that ### computes attention scores and applies them to the inputs. "
   ]
  },
  {
   "cell_type": "code",
   "execution_count": 2,
   "id": "3ece98c0",
   "metadata": {},
   "outputs": [],
   "source": [
    "import torch\n",
    "import torch.nn as nn\n",
    "import torch.nn.functional as F\n",
    "\n"
   ]
  },
  {
   "cell_type": "code",
   "execution_count": 3,
   "id": "e5ac6cff",
   "metadata": {},
   "outputs": [],
   "source": [
    "class Attention(nn.Module):\n",
    "    def __init__(self, input_dim, attention_dim):\n",
    "        super(Attention, self).__init__()\n",
    "        self.attention_layer = nn.Linear(input_dim, attention_dim)\n",
    "        self.context_vector = nn.Parameter(torch.randn(attention_dim))\n",
    "\n",
    "    def forward(self, inputs):\n",
    "        # Calculate attention scores\n",
    "        attention_scores = self.attention_layer(inputs)  # Shape: (batch_size, seq_len, attention_dim)\n",
    "        attention_scores = torch.tanh(attention_scores)  # Apply non-linearity\n",
    "        attention_scores = torch.matmul(attention_scores, self.context_vector)  # Shape: (batch_size, seq_len)\n",
    "\n",
    "        # Normalize attention scores\n",
    "        attention_weights = F.softmax(attention_scores, dim=1)  # Shape: (batch_size, seq_len)\n",
    "\n",
    "        # Compute weighted sum of inputs\n",
    "        weighted_sum = torch.matmul(attention_weights.unsqueeze(1), inputs).squeeze(1)  # Shape: (batch_size, input_dim)\n",
    "\n",
    "        return weighted_sum, attention_weights\n",
    "\n"
   ]
  },
  {
   "cell_type": "code",
   "execution_count": 4,
   "id": "9f929dc9",
   "metadata": {},
   "outputs": [],
   "source": [
    "# Example usage\n",
    "batch_size = 2\n",
    "seq_len = 5\n",
    "input_dim = 10\n",
    "attention_dim = 8\n",
    "\n",
    "# Create a batch of input sequences\n",
    "inputs = torch.randn(batch_size, seq_len, input_dim)\n",
    "\n"
   ]
  },
  {
   "cell_type": "code",
   "execution_count": 5,
   "id": "b3625472",
   "metadata": {},
   "outputs": [
    {
     "name": "stdout",
     "output_type": "stream",
     "text": [
      "Weighted sum: tensor([[ 0.9345, -0.7757, -0.9824, -0.9015,  0.1070,  0.6261,  0.0676,  0.4808,\n",
      "          0.6231,  0.4690],\n",
      "        [ 0.2006, -0.9407,  0.0216,  0.5492, -0.9414, -0.1283, -0.0565, -0.7475,\n",
      "         -0.1725,  0.0123]], grad_fn=<SqueezeBackward1>)\n",
      "Attention weights: tensor([[0.4550, 0.0287, 0.1501, 0.2764, 0.0899],\n",
      "        [0.1424, 0.6182, 0.0385, 0.1193, 0.0817]], grad_fn=<SoftmaxBackward0>)\n"
     ]
    }
   ],
   "source": [
    "# Initialize and apply the attention layer\n",
    "attention_layer = Attention(input_dim, attention_dim)\n",
    "weighted_sum, attention_weights = attention_layer(inputs)\n",
    "\n",
    "print(\"Weighted sum:\", weighted_sum)\n",
    "print(\"Attention weights:\", attention_weights)"
   ]
  }
 ],
 "metadata": {
  "kernelspec": {
   "display_name": "base",
   "language": "python",
   "name": "python3"
  },
  "language_info": {
   "codemirror_mode": {
    "name": "ipython",
    "version": 3
   },
   "file_extension": ".py",
   "mimetype": "text/x-python",
   "name": "python",
   "nbconvert_exporter": "python",
   "pygments_lexer": "ipython3",
   "version": "3.9.12"
  }
 },
 "nbformat": 4,
 "nbformat_minor": 5
}

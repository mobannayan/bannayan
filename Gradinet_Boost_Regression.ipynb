{
 "cells": [
  {
   "cell_type": "code",
<<<<<<< HEAD
   "execution_count": 1,
=======
   "execution_count": null,
>>>>>>> e6359b5a8d82be1e9863f8d845458284b2a7c2c6
   "id": "0d095841",
   "metadata": {},
   "outputs": [],
   "source": [
    "import numpy as np\n",
    "import pandas as pd\n",
    "import matplotlib.pyplot as plt\n",
    "from sklearn.ensemble import GradientBoostingRegressor, RandomForestRegressor, AdaBoostRegressor\n",
    "from sklearn.tree import DecisionTreeRegressor\n",
    "from sklearn.model_selection import cross_validate\n",
    "from sklearn.metrics import mean_squared_error, mean_absolute_error, make_scorer"
   ]
  },
  {
   "cell_type": "code",
<<<<<<< HEAD
   "execution_count": 2,
=======
   "execution_count": null,
>>>>>>> e6359b5a8d82be1e9863f8d845458284b2a7c2c6
   "id": "ca5b6269",
   "metadata": {},
   "outputs": [],
   "source": [
    "# 1. Generate synthetic regression data\n",
    "np.random.seed(42)\n",
    "X = np.random.rand(442, 10)  # similar shape to diabetes dataset (442 samples, 10 features)\n",
    "y = X @ np.random.rand(10) + np.random.randn(442) * 0.5  # linear-ish target with noise"
   ]
  },
  {
   "cell_type": "code",
<<<<<<< HEAD
   "execution_count": 3,
=======
   "execution_count": null,
>>>>>>> e6359b5a8d82be1e9863f8d845458284b2a7c2c6
   "id": "c3b6bc5e",
   "metadata": {},
   "outputs": [],
   "source": [
    "# 2. Define scoring metrics\n",
    "scoring = {\n",
    "    'mse': make_scorer(mean_squared_error),\n",
    "    'mae': make_scorer(mean_absolute_error)\n",
    "}"
   ]
  },
  {
   "cell_type": "code",
<<<<<<< HEAD
   "execution_count": 4,
   "id": "e0934324",
   "metadata": {},
   "outputs": [
    {
     "name": "stderr",
     "output_type": "stream",
     "text": [
      "c:\\Users\\Mo\\anaconda3\\lib\\site-packages\\sklearn\\ensemble\\_gb.py:293: FutureWarning: The loss 'lad' was deprecated in v1.0 and will be removed in version 1.2. Use 'absolute_error' which is equivalent.\n",
      "  warnings.warn(\n",
      "c:\\Users\\Mo\\anaconda3\\lib\\site-packages\\sklearn\\ensemble\\_gb.py:293: FutureWarning: The loss 'lad' was deprecated in v1.0 and will be removed in version 1.2. Use 'absolute_error' which is equivalent.\n",
      "  warnings.warn(\n",
      "c:\\Users\\Mo\\anaconda3\\lib\\site-packages\\sklearn\\ensemble\\_gb.py:293: FutureWarning: The loss 'lad' was deprecated in v1.0 and will be removed in version 1.2. Use 'absolute_error' which is equivalent.\n",
      "  warnings.warn(\n",
      "c:\\Users\\Mo\\anaconda3\\lib\\site-packages\\sklearn\\ensemble\\_gb.py:293: FutureWarning: The loss 'lad' was deprecated in v1.0 and will be removed in version 1.2. Use 'absolute_error' which is equivalent.\n",
      "  warnings.warn(\n"
     ]
    }
   ],
=======
   "execution_count": null,
   "id": "e0934324",
   "metadata": {},
   "outputs": [],
>>>>>>> e6359b5a8d82be1e9863f8d845458284b2a7c2c6
   "source": [
    "# 3. Plot training loss for different max_depth values\n",
    "losses = {}\n",
    "for depth in [1, 2, 3, 4]:\n",
    "    model = GradientBoostingRegressor(n_estimators=100, max_depth=depth, loss='lad', learning_rate=1.0)\n",
    "    model.fit(X, y)\n",
    "    losses[depth] = model.train_score_  # uses MAE (lad) loss\n"
   ]
  },
  {
   "cell_type": "code",
<<<<<<< HEAD
   "execution_count": 5,
   "id": "6b6c9c21",
   "metadata": {},
   "outputs": [
    {
     "data": {
      "image/png": "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",
      "text/plain": [
       "<Figure size 432x288 with 1 Axes>"
      ]
     },
     "metadata": {
      "needs_background": "light"
     },
     "output_type": "display_data"
    }
   ],
=======
   "execution_count": null,
   "id": "6b6c9c21",
   "metadata": {},
   "outputs": [],
>>>>>>> e6359b5a8d82be1e9863f8d845458284b2a7c2c6
   "source": [
    "for depth, loss in losses.items():\n",
    "    plt.plot(loss, label=f'max_depth={depth}')\n",
    "plt.xlabel('Number of Trees')\n",
    "plt.ylabel('MAE Loss')\n",
    "plt.title('Training Loss by Boosting Iteration')\n",
    "plt.legend()\n",
    "plt.show()"
   ]
  },
  {
   "cell_type": "code",
<<<<<<< HEAD
   "execution_count": 7,
   "id": "9c0c4458",
   "metadata": {},
   "outputs": [
    {
     "name": "stdout",
     "output_type": "stream",
     "text": [
      "Model\t\t\tMSE\t\tMAE\n"
     ]
    },
    {
     "name": "stderr",
     "output_type": "stream",
     "text": [
      "c:\\Users\\Mo\\anaconda3\\lib\\site-packages\\sklearn\\ensemble\\_gb.py:293: FutureWarning: The loss 'lad' was deprecated in v1.0 and will be removed in version 1.2. Use 'absolute_error' which is equivalent.\n",
      "  warnings.warn(\n",
      "c:\\Users\\Mo\\anaconda3\\lib\\site-packages\\sklearn\\ensemble\\_gb.py:293: FutureWarning: The loss 'lad' was deprecated in v1.0 and will be removed in version 1.2. Use 'absolute_error' which is equivalent.\n",
      "  warnings.warn(\n",
      "c:\\Users\\Mo\\anaconda3\\lib\\site-packages\\sklearn\\ensemble\\_gb.py:293: FutureWarning: The loss 'lad' was deprecated in v1.0 and will be removed in version 1.2. Use 'absolute_error' which is equivalent.\n",
      "  warnings.warn(\n",
      "c:\\Users\\Mo\\anaconda3\\lib\\site-packages\\sklearn\\ensemble\\_gb.py:293: FutureWarning: The loss 'lad' was deprecated in v1.0 and will be removed in version 1.2. Use 'absolute_error' which is equivalent.\n",
      "  warnings.warn(\n",
      "c:\\Users\\Mo\\anaconda3\\lib\\site-packages\\sklearn\\ensemble\\_gb.py:293: FutureWarning: The loss 'lad' was deprecated in v1.0 and will be removed in version 1.2. Use 'absolute_error' which is equivalent.\n",
      "  warnings.warn(\n",
      "c:\\Users\\Mo\\anaconda3\\lib\\site-packages\\sklearn\\ensemble\\_gb.py:293: FutureWarning: The loss 'lad' was deprecated in v1.0 and will be removed in version 1.2. Use 'absolute_error' which is equivalent.\n",
      "  warnings.warn(\n",
      "c:\\Users\\Mo\\anaconda3\\lib\\site-packages\\sklearn\\ensemble\\_gb.py:293: FutureWarning: The loss 'lad' was deprecated in v1.0 and will be removed in version 1.2. Use 'absolute_error' which is equivalent.\n",
      "  warnings.warn(\n",
      "c:\\Users\\Mo\\anaconda3\\lib\\site-packages\\sklearn\\ensemble\\_gb.py:293: FutureWarning: The loss 'lad' was deprecated in v1.0 and will be removed in version 1.2. Use 'absolute_error' which is equivalent.\n",
      "  warnings.warn(\n",
      "c:\\Users\\Mo\\anaconda3\\lib\\site-packages\\sklearn\\ensemble\\_gb.py:293: FutureWarning: The loss 'lad' was deprecated in v1.0 and will be removed in version 1.2. Use 'absolute_error' which is equivalent.\n",
      "  warnings.warn(\n",
      "c:\\Users\\Mo\\anaconda3\\lib\\site-packages\\sklearn\\ensemble\\_gb.py:293: FutureWarning: The loss 'lad' was deprecated in v1.0 and will be removed in version 1.2. Use 'absolute_error' which is equivalent.\n",
      "  warnings.warn(\n"
     ]
    },
    {
     "name": "stdout",
     "output_type": "stream",
     "text": [
      "GradientBoost (sklearn) 0.33\t0.46\n",
      "Decision Stump          0.40\t0.50\n",
      "Random Forest           0.39\t0.50\n",
      "AdaBoost                0.36\t0.48\n"
     ]
    }
   ],
   "source": [
    "# 4. Compare model performance using cross-validation\n",
=======
   "execution_count": null,
   "id": "9c0c4458",
   "metadata": {},
   "outputs": [],
   "source": [
    "4. Compare model performance using cross-validation\n",
>>>>>>> e6359b5a8d82be1e9863f8d845458284b2a7c2c6
    "\n",
    "models = {\n",
    "    \"GradientBoost (sklearn)\": GradientBoostingRegressor(n_estimators=20, max_depth=1, loss='lad', learning_rate=1.0),\n",
    "    \"Decision Stump\": DecisionTreeRegressor(max_depth=1),\n",
    "    \"Random Forest\": RandomForestRegressor(n_estimators=20, max_depth=1),\n",
    "    \"AdaBoost\": AdaBoostRegressor(DecisionTreeRegressor(max_depth=1), n_estimators=20, loss='linear')\n",
    "}\n",
    "\n",
    "# Evaluate and print results\n",
    "print(\"Model\\t\\t\\tMSE\\t\\tMAE\")\n",
    "for name, model in models.items():\n",
    "    scores = cross_validate(model, X, y, cv=10, scoring=scoring)\n",
    "    print(f\"{name:<24}{np.mean(scores['test_mse']):.2f}\\t{np.mean(scores['test_mae']):.2f}\")"
   ]
<<<<<<< HEAD
  }
 ],
 "metadata": {
  "kernelspec": {
   "display_name": "base",
   "language": "python",
   "name": "python3"
  },
  "language_info": {
   "codemirror_mode": {
    "name": "ipython",
    "version": 3
   },
   "file_extension": ".py",
   "mimetype": "text/x-python",
   "name": "python",
   "nbconvert_exporter": "python",
   "pygments_lexer": "ipython3",
   "version": "3.9.12"
=======
  },
  {
   "cell_type": "code",
   "execution_count": null,
   "id": "f544dfa5",
   "metadata": {},
   "outputs": [],
   "source": []
  },
  {
   "cell_type": "code",
   "execution_count": null,
   "id": "a84f7377",
   "metadata": {},
   "outputs": [],
   "source": []
  },
  {
   "cell_type": "code",
   "execution_count": null,
   "id": "eaa04a8c",
   "metadata": {},
   "outputs": [],
   "source": []
  },
  {
   "cell_type": "code",
   "execution_count": null,
   "id": "c5dd8663",
   "metadata": {},
   "outputs": [],
   "source": []
  },
  {
   "cell_type": "code",
   "execution_count": null,
   "id": "a373787b",
   "metadata": {},
   "outputs": [],
   "source": []
  },
  {
   "cell_type": "code",
   "execution_count": null,
   "id": "1471c156",
   "metadata": {},
   "outputs": [],
   "source": []
  },
  {
   "cell_type": "code",
   "execution_count": null,
   "id": "1b7d772f",
   "metadata": {},
   "outputs": [],
   "source": []
  },
  {
   "cell_type": "code",
   "execution_count": null,
   "id": "2fc2cde7",
   "metadata": {},
   "outputs": [],
   "source": []
  },
  {
   "cell_type": "code",
   "execution_count": null,
   "id": "cc2d5791",
   "metadata": {},
   "outputs": [],
   "source": []
  },
  {
   "cell_type": "code",
   "execution_count": null,
   "id": "316c1015",
   "metadata": {},
   "outputs": [],
   "source": []
  },
  {
   "cell_type": "code",
   "execution_count": null,
   "id": "281dacbf",
   "metadata": {},
   "outputs": [],
   "source": []
  },
  {
   "cell_type": "code",
   "execution_count": null,
   "id": "35f654aa",
   "metadata": {},
   "outputs": [],
   "source": []
  },
  {
   "cell_type": "code",
   "execution_count": null,
   "id": "77fb5408",
   "metadata": {},
   "outputs": [],
   "source": []
  },
  {
   "cell_type": "code",
   "execution_count": null,
   "id": "848f9ae4",
   "metadata": {},
   "outputs": [],
   "source": []
  },
  {
   "cell_type": "code",
   "execution_count": null,
   "id": "7900f99b",
   "metadata": {},
   "outputs": [],
   "source": []
  },
  {
   "cell_type": "code",
   "execution_count": null,
   "id": "7a8875a3",
   "metadata": {},
   "outputs": [],
   "source": []
  },
  {
   "cell_type": "code",
   "execution_count": null,
   "id": "82120f0d",
   "metadata": {},
   "outputs": [],
   "source": []
  },
  {
   "cell_type": "code",
   "execution_count": null,
   "id": "39b025cd",
   "metadata": {},
   "outputs": [],
   "source": []
  },
  {
   "cell_type": "code",
   "execution_count": null,
   "id": "f403f017",
   "metadata": {},
   "outputs": [],
   "source": []
  }
 ],
 "metadata": {
  "language_info": {
   "name": "python"
>>>>>>> e6359b5a8d82be1e9863f8d845458284b2a7c2c6
  }
 },
 "nbformat": 4,
 "nbformat_minor": 5
}

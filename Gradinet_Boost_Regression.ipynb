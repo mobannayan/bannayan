{
 "cells": [
  {
   "cell_type": "code",
   "execution_count": null,
   "id": "0d095841",
   "metadata": {},
   "outputs": [],
   "source": [
    "import numpy as np\n",
    "import pandas as pd\n",
    "import matplotlib.pyplot as plt\n",
    "from sklearn.ensemble import GradientBoostingRegressor, RandomForestRegressor, AdaBoostRegressor\n",
    "from sklearn.tree import DecisionTreeRegressor\n",
    "from sklearn.model_selection import cross_validate\n",
    "from sklearn.metrics import mean_squared_error, mean_absolute_error, make_scorer"
   ]
  },
  {
   "cell_type": "code",
   "execution_count": null,
   "id": "ca5b6269",
   "metadata": {},
   "outputs": [],
   "source": [
    "# 1. Generate synthetic regression data\n",
    "np.random.seed(42)\n",
    "X = np.random.rand(442, 10)  # similar shape to diabetes dataset (442 samples, 10 features)\n",
    "y = X @ np.random.rand(10) + np.random.randn(442) * 0.5  # linear-ish target with noise"
   ]
  },
  {
   "cell_type": "code",
   "execution_count": null,
   "id": "c3b6bc5e",
   "metadata": {},
   "outputs": [],
   "source": [
    "# 2. Define scoring metrics\n",
    "scoring = {\n",
    "    'mse': make_scorer(mean_squared_error),\n",
    "    'mae': make_scorer(mean_absolute_error)\n",
    "}"
   ]
  },
  {
   "cell_type": "code",
   "execution_count": null,
   "id": "e0934324",
   "metadata": {},
   "outputs": [],
   "source": [
    "# 3. Plot training loss for different max_depth values\n",
    "losses = {}\n",
    "for depth in [1, 2, 3, 4]:\n",
    "    model = GradientBoostingRegressor(n_estimators=100, max_depth=depth, loss='lad', learning_rate=1.0)\n",
    "    model.fit(X, y)\n",
    "    losses[depth] = model.train_score_  # uses MAE (lad) loss\n"
   ]
  },
  {
   "cell_type": "code",
   "execution_count": null,
   "id": "6b6c9c21",
   "metadata": {},
   "outputs": [],
   "source": [
    "for depth, loss in losses.items():\n",
    "    plt.plot(loss, label=f'max_depth={depth}')\n",
    "plt.xlabel('Number of Trees')\n",
    "plt.ylabel('MAE Loss')\n",
    "plt.title('Training Loss by Boosting Iteration')\n",
    "plt.legend()\n",
    "plt.show()"
   ]
  },
  {
   "cell_type": "code",
   "execution_count": null,
   "id": "9c0c4458",
   "metadata": {},
   "outputs": [],
   "source": [
    "4. Compare model performance using cross-validation\n",
    "\n",
    "models = {\n",
    "    \"GradientBoost (sklearn)\": GradientBoostingRegressor(n_estimators=20, max_depth=1, loss='lad', learning_rate=1.0),\n",
    "    \"Decision Stump\": DecisionTreeRegressor(max_depth=1),\n",
    "    \"Random Forest\": RandomForestRegressor(n_estimators=20, max_depth=1),\n",
    "    \"AdaBoost\": AdaBoostRegressor(DecisionTreeRegressor(max_depth=1), n_estimators=20, loss='linear')\n",
    "}\n",
    "\n",
    "# Evaluate and print results\n",
    "print(\"Model\\t\\t\\tMSE\\t\\tMAE\")\n",
    "for name, model in models.items():\n",
    "    scores = cross_validate(model, X, y, cv=10, scoring=scoring)\n",
    "    print(f\"{name:<24}{np.mean(scores['test_mse']):.2f}\\t{np.mean(scores['test_mae']):.2f}\")"
   ]
  },
  {
   "cell_type": "code",
   "execution_count": null,
   "id": "f544dfa5",
   "metadata": {},
   "outputs": [],
   "source": []
  },
  {
   "cell_type": "code",
   "execution_count": null,
   "id": "a84f7377",
   "metadata": {},
   "outputs": [],
   "source": []
  },
  {
   "cell_type": "code",
   "execution_count": null,
   "id": "eaa04a8c",
   "metadata": {},
   "outputs": [],
   "source": []
  },
  {
   "cell_type": "code",
   "execution_count": null,
   "id": "c5dd8663",
   "metadata": {},
   "outputs": [],
   "source": []
  },
  {
   "cell_type": "code",
   "execution_count": null,
   "id": "a373787b",
   "metadata": {},
   "outputs": [],
   "source": []
  },
  {
   "cell_type": "code",
   "execution_count": null,
   "id": "1471c156",
   "metadata": {},
   "outputs": [],
   "source": []
  },
  {
   "cell_type": "code",
   "execution_count": null,
   "id": "1b7d772f",
   "metadata": {},
   "outputs": [],
   "source": []
  },
  {
   "cell_type": "code",
   "execution_count": null,
   "id": "2fc2cde7",
   "metadata": {},
   "outputs": [],
   "source": []
  },
  {
   "cell_type": "code",
   "execution_count": null,
   "id": "cc2d5791",
   "metadata": {},
   "outputs": [],
   "source": []
  },
  {
   "cell_type": "code",
   "execution_count": null,
   "id": "316c1015",
   "metadata": {},
   "outputs": [],
   "source": []
  },
  {
   "cell_type": "code",
   "execution_count": null,
   "id": "281dacbf",
   "metadata": {},
   "outputs": [],
   "source": []
  },
  {
   "cell_type": "code",
   "execution_count": null,
   "id": "35f654aa",
   "metadata": {},
   "outputs": [],
   "source": []
  },
  {
   "cell_type": "code",
   "execution_count": null,
   "id": "77fb5408",
   "metadata": {},
   "outputs": [],
   "source": []
  },
  {
   "cell_type": "code",
   "execution_count": null,
   "id": "848f9ae4",
   "metadata": {},
   "outputs": [],
   "source": []
  },
  {
   "cell_type": "code",
   "execution_count": null,
   "id": "7900f99b",
   "metadata": {},
   "outputs": [],
   "source": []
  },
  {
   "cell_type": "code",
   "execution_count": null,
   "id": "7a8875a3",
   "metadata": {},
   "outputs": [],
   "source": []
  },
  {
   "cell_type": "code",
   "execution_count": null,
   "id": "82120f0d",
   "metadata": {},
   "outputs": [],
   "source": []
  },
  {
   "cell_type": "code",
   "execution_count": null,
   "id": "39b025cd",
   "metadata": {},
   "outputs": [],
   "source": []
  },
  {
   "cell_type": "code",
   "execution_count": null,
   "id": "f403f017",
   "metadata": {},
   "outputs": [],
   "source": []
  }
 ],
 "metadata": {
  "language_info": {
   "name": "python"
  }
 },
 "nbformat": 4,
 "nbformat_minor": 5
}

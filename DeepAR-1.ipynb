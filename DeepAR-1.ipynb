{
 "cells": [
  {
   "cell_type": "code",
   "execution_count": null,
   "id": "f24ed712",
   "metadata": {},
   "outputs": [],
   "source": [
    "pip install gluonts mxnet matplotlib pandas\n"
   ]
  },
  {
   "cell_type": "code",
   "execution_count": null,
   "id": "f80e49da",
   "metadata": {},
   "outputs": [],
   "source": [
    "import pandas as pd\n",
    "import numpy as np\n",
    "import matplotlib.pyplot as plt\n",
    "from gluonts.dataset.common import ListDataset\n",
    "from gluonts.model.deepar import DeepAREstimator\n",
    "from gluonts.mx.trainer import Trainer\n",
    "from gluonts.evaluation import Evaluator\n",
    "from gluonts.evaluation.backtest import make_evaluation_predictions"
   ]
  },
  {
   "cell_type": "code",
   "execution_count": null,
   "id": "79c7eaee",
   "metadata": {},
   "outputs": [],
   "source": [
    "# Simulate 1 year (weekly data)\n",
    "date_range = pd.date_range(\"2020-01-01\", periods=52, freq=\"W\")"
   ]
  },
  {
   "cell_type": "code",
   "execution_count": null,
   "id": "9365e671",
   "metadata": {},
   "outputs": [],
   "source": [
    "# Create synthetic target data\n",
    "data = {\n",
    "    \"start\": str(date_range[0]),\n",
    "    \"target\": (10 + np.sin(np.arange(52) / 3.0) * 2 + np.random.normal(0, 0.5, 52)).tolist()\n",
    "}\n",
    "\n",
    "train_data = ListDataset([data], freq=\"W\", one_dim_target=True)"
   ]
  },
  {
   "cell_type": "code",
   "execution_count": null,
   "id": "f2421dd3",
   "metadata": {},
   "outputs": [],
   "source": [
    "\n",
    "estimator = DeepAREstimator(\n",
    "    freq=\"W\",\n",
    "    prediction_length=4,  # Forecast 4 weeks ahead\n",
    "    trainer=Trainer(epochs=30)\n",
    ")\n",
    "\n",
    "predictor = estimator.train(train_data)"
   ]
  },
  {
   "cell_type": "code",
   "execution_count": null,
   "id": "a9e9a3cc",
   "metadata": {},
   "outputs": [],
   "source": [
    "forecast_it, ts_it = make_evaluation_predictions(\n",
    "    dataset=train_data,\n",
    "    predictor=predictor,\n",
    "    num_samples=100\n",
    ")"
   ]
  },
  {
   "cell_type": "code",
   "execution_count": null,
   "id": "97d5a9cd",
   "metadata": {},
   "outputs": [],
   "source": [
    "for forecast, ts in zip(forecast_it, ts_it):\n",
    "    ts[-20:].plot(label=\"actual\")\n",
    "    forecast.plot(prediction_intervals=[50, 90])\n",
    "    plt.legend()\n",
    "    plt.grid()\n",
    "    plt.show()"
   ]
  },
  {
   "cell_type": "markdown",
   "id": "812b68d3",
   "metadata": {},
   "source": [
    "Transform Data to GluonTS Format\n",
    "Here’s how to prepare ListDataset for GluonTS with covariates:"
   ]
  },
  {
   "cell_type": "code",
   "execution_count": null,
   "id": "c7c80702",
   "metadata": {},
   "outputs": [],
   "source": [
    "import pandas as pd\n",
    "from gluonts.dataset.common import ListDataset\n"
   ]
  },
  {
   "cell_type": "code",
   "execution_count": null,
   "id": "d0587f84",
   "metadata": {},
   "outputs": [],
   "source": [
    "# Load your dataframe\n",
    "df = pd.read_csv(\"your_data.csv\", parse_dates=[\"date\"])\n",
    "\n",
    "# Ensure data is sorted\n",
    "df = df.sort_values([\"farm_id\", \"date\"])"
   ]
  },
  {
   "cell_type": "code",
   "execution_count": null,
   "id": "d1cb5154",
   "metadata": {},
   "outputs": [],
   "source": [
    "data_list = []\n",
    "\n",
    "for farm_id, group in df.groupby(\"farm_id\"):\n",
    "    group = group.sort_values(\"date\")\n",
    "    \n",
    "    start = group[\"date\"].iloc[0]\n",
    "    target = group[\"yield\"].tolist()\n",
    "    \n",
    "    dynamic_feat = [\n",
    "        group[\"rainfall\"].tolist(),      # Feature 1\n",
    "        group[\"temperature\"].tolist()    # Feature 2\n",
    "    ]\n",
    "\n",
    "    data_list.append({\n",
    "        \"start\": str(start),\n",
    "        \"target\": target,\n",
    "        \"dynamic_feat\": dynamic_feat,\n",
    "        \"item_id\": farm_id\n",
    "    })\n",
    "\n",
    "train_ds = ListDataset(data_list, freq=\"W\")"
   ]
  },
  {
   "cell_type": "code",
   "execution_count": null,
   "id": "d02ebcdb",
   "metadata": {},
   "outputs": [],
   "source": [
    "from gluonts.model.deepar import DeepAREstimator\n",
    "from gluonts.mx.trainer import Trainer\n",
    "\n",
    "estimator = DeepAREstimator(\n",
    "    freq=\"W\",\n",
    "    prediction_length=4,\n",
    "    trainer=Trainer(epochs=30),\n",
    "    use_feat_dynamic_real=True\n",
    ")\n",
    "\n",
    "predictor = estimator.train(train_ds)"
   ]
  },
  {
   "cell_type": "code",
   "execution_count": null,
   "id": "e5f06a15",
   "metadata": {},
   "outputs": [],
   "source": [
    "from gluonts.evaluation.backtest import make_evaluation_predictions\n",
    "\n",
    "forecast_it, ts_it = make_evaluation_predictions(\n",
    "    dataset=train_ds,\n",
    "    predictor=predictor,\n",
    "    num_samples=100\n",
    ")"
   ]
  },
  {
   "cell_type": "code",
   "execution_count": null,
   "id": "71387313",
   "metadata": {},
   "outputs": [],
   "source": [
    "import matplotlib.pyplot as plt\n",
    "for forecast, ts in zip(forecast_it, ts_it):\n",
    "    ts[-20:].plot(label=\"actual\")\n",
    "    forecast.plot(prediction_intervals=[50, 90])\n",
    "    plt.legend()\n",
    "    plt.grid()\n",
    "    plt.show()"
   ]
  }
 ],
 "metadata": {
  "language_info": {
   "name": "python"
  }
 },
 "nbformat": 4,
 "nbformat_minor": 5
}

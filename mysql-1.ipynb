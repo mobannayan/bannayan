{
 "cells": [
  {
   "cell_type": "code",
   "execution_count": 1,
   "id": "e80e86df",
   "metadata": {},
   "outputs": [
    {
     "name": "stdout",
     "output_type": "stream",
     "text": [
      "Requirement already satisfied: mysql-connector-python in /Users/mohammad.aval/miniconda3/lib/python3.9/site-packages (9.3.0)\n",
      "Note: you may need to restart the kernel to use updated packages.\n"
     ]
    }
   ],
   "source": [
    "pip install mysql-connector-python"
   ]
  },
  {
   "cell_type": "code",
   "execution_count": 2,
   "id": "46f8baf1",
   "metadata": {},
   "outputs": [],
   "source": [
    "import mysql.connector as msql"
   ]
  },
  {
   "cell_type": "code",
   "execution_count": null,
   "id": "11c41455",
   "metadata": {},
   "outputs": [
    {
     "ename": "InterfaceError",
     "evalue": "2003: Can't connect to MySQL server on 'localhost:3306' (Errno 61: Connection refused)",
     "output_type": "error",
     "traceback": [
      "\u001b[0;31m---------------------------------------------------------------------------\u001b[0m",
      "\u001b[0;31mConnectionRefusedError\u001b[0m                    Traceback (most recent call last)",
      "File \u001b[0;32m~/miniconda3/lib/python3.9/site-packages/mysql/connector/network.py:795\u001b[0m, in \u001b[0;36mMySQLTCPSocket.open_connection\u001b[0;34m(self)\u001b[0m\n\u001b[1;32m    794\u001b[0m     \u001b[38;5;28mself\u001b[39m\u001b[38;5;241m.\u001b[39msock\u001b[38;5;241m.\u001b[39msettimeout(\u001b[38;5;28mself\u001b[39m\u001b[38;5;241m.\u001b[39m_connection_timeout)\n\u001b[0;32m--> 795\u001b[0m     \u001b[38;5;28;43mself\u001b[39;49m\u001b[38;5;241;43m.\u001b[39;49m\u001b[43msock\u001b[49m\u001b[38;5;241;43m.\u001b[39;49m\u001b[43mconnect\u001b[49m\u001b[43m(\u001b[49m\u001b[43msockaddr\u001b[49m\u001b[43m)\u001b[49m\n\u001b[1;32m    796\u001b[0m \u001b[38;5;28;01mexcept\u001b[39;00m (socket\u001b[38;5;241m.\u001b[39mtimeout, \u001b[38;5;167;01mTimeoutError\u001b[39;00m) \u001b[38;5;28;01mas\u001b[39;00m err:\n",
      "\u001b[0;31mConnectionRefusedError\u001b[0m: [Errno 61] Connection refused",
      "\nThe above exception was the direct cause of the following exception:\n",
      "\u001b[0;31mInterfaceError\u001b[0m                            Traceback (most recent call last)",
      "Cell \u001b[0;32mIn[4], line 1\u001b[0m\n\u001b[0;32m----> 1\u001b[0m con1\u001b[38;5;241m=\u001b[39m\u001b[43mmsql\u001b[49m\u001b[38;5;241;43m.\u001b[39;49m\u001b[43mconnect\u001b[49m\u001b[43m(\u001b[49m\n\u001b[1;32m      2\u001b[0m \u001b[43m    \u001b[49m\u001b[43mhost\u001b[49m\u001b[38;5;241;43m=\u001b[39;49m\u001b[38;5;124;43m'\u001b[39;49m\u001b[38;5;124;43mlocalhost\u001b[39;49m\u001b[38;5;124;43m'\u001b[39;49m\u001b[43m,\u001b[49m\n\u001b[1;32m      3\u001b[0m \u001b[43m    \u001b[49m\u001b[43muser\u001b[49m\u001b[38;5;241;43m=\u001b[39;49m\u001b[38;5;124;43m'\u001b[39;49m\u001b[38;5;124;43mroot\u001b[39;49m\u001b[38;5;124;43m'\u001b[39;49m\u001b[43m,\u001b[49m\n\u001b[1;32m      4\u001b[0m \u001b[43m    \u001b[49m\u001b[43mpasswd\u001b[49m\u001b[38;5;241;43m=\u001b[39;49m\u001b[38;5;124;43m'\u001b[39;49m\u001b[38;5;124;43m1234\u001b[39;49m\u001b[38;5;124;43m'\u001b[39;49m\n\u001b[1;32m      5\u001b[0m \u001b[43m)\u001b[49m\n",
      "File \u001b[0;32m~/miniconda3/lib/python3.9/site-packages/mysql/connector/pooling.py:323\u001b[0m, in \u001b[0;36mconnect\u001b[0;34m(*args, **kwargs)\u001b[0m\n\u001b[1;32m    321\u001b[0m \u001b[38;5;28;01mif\u001b[39;00m CMySQLConnection \u001b[38;5;129;01mand\u001b[39;00m \u001b[38;5;129;01mnot\u001b[39;00m use_pure:\n\u001b[1;32m    322\u001b[0m     \u001b[38;5;28;01mreturn\u001b[39;00m CMySQLConnection(\u001b[38;5;241m*\u001b[39margs, \u001b[38;5;241m*\u001b[39m\u001b[38;5;241m*\u001b[39mkwargs)\n\u001b[0;32m--> 323\u001b[0m \u001b[38;5;28;01mreturn\u001b[39;00m \u001b[43mMySQLConnection\u001b[49m\u001b[43m(\u001b[49m\u001b[38;5;241;43m*\u001b[39;49m\u001b[43margs\u001b[49m\u001b[43m,\u001b[49m\u001b[43m \u001b[49m\u001b[38;5;241;43m*\u001b[39;49m\u001b[38;5;241;43m*\u001b[39;49m\u001b[43mkwargs\u001b[49m\u001b[43m)\u001b[49m\n",
      "File \u001b[0;32m~/miniconda3/lib/python3.9/site-packages/mysql/connector/connection.py:185\u001b[0m, in \u001b[0;36mMySQLConnection.__init__\u001b[0;34m(self, **kwargs)\u001b[0m\n\u001b[1;32m    183\u001b[0m \u001b[38;5;28;01mif\u001b[39;00m kwargs:\n\u001b[1;32m    184\u001b[0m     \u001b[38;5;28;01mtry\u001b[39;00m:\n\u001b[0;32m--> 185\u001b[0m         \u001b[38;5;28;43mself\u001b[39;49m\u001b[38;5;241;43m.\u001b[39;49m\u001b[43mconnect\u001b[49m\u001b[43m(\u001b[49m\u001b[38;5;241;43m*\u001b[39;49m\u001b[38;5;241;43m*\u001b[39;49m\u001b[43mkwargs\u001b[49m\u001b[43m)\u001b[49m\n\u001b[1;32m    186\u001b[0m     \u001b[38;5;28;01mexcept\u001b[39;00m \u001b[38;5;167;01mException\u001b[39;00m:\n\u001b[1;32m    187\u001b[0m         \u001b[38;5;66;03m# Tidy-up underlying socket on failure\u001b[39;00m\n\u001b[1;32m    188\u001b[0m         \u001b[38;5;28mself\u001b[39m\u001b[38;5;241m.\u001b[39mclose()\n",
      "File \u001b[0;32m~/miniconda3/lib/python3.9/site-packages/mysql/connector/abstracts.py:1605\u001b[0m, in \u001b[0;36mMySQLConnectionAbstract.connect\u001b[0;34m(self, **kwargs)\u001b[0m\n\u001b[1;32m   1602\u001b[0m     \u001b[38;5;28mself\u001b[39m\u001b[38;5;241m.\u001b[39mconfig(\u001b[38;5;241m*\u001b[39m\u001b[38;5;241m*\u001b[39mkwargs)\n\u001b[1;32m   1604\u001b[0m \u001b[38;5;28mself\u001b[39m\u001b[38;5;241m.\u001b[39mdisconnect()\n\u001b[0;32m-> 1605\u001b[0m \u001b[38;5;28;43mself\u001b[39;49m\u001b[38;5;241;43m.\u001b[39;49m\u001b[43m_open_connection\u001b[49m\u001b[43m(\u001b[49m\u001b[43m)\u001b[49m\n\u001b[1;32m   1607\u001b[0m charset, collation \u001b[38;5;241m=\u001b[39m (\n\u001b[1;32m   1608\u001b[0m     kwargs\u001b[38;5;241m.\u001b[39mpop(\u001b[38;5;124m\"\u001b[39m\u001b[38;5;124mcharset\u001b[39m\u001b[38;5;124m\"\u001b[39m, \u001b[38;5;28;01mNone\u001b[39;00m),\n\u001b[1;32m   1609\u001b[0m     kwargs\u001b[38;5;241m.\u001b[39mpop(\u001b[38;5;124m\"\u001b[39m\u001b[38;5;124mcollation\u001b[39m\u001b[38;5;124m\"\u001b[39m, \u001b[38;5;28;01mNone\u001b[39;00m),\n\u001b[1;32m   1610\u001b[0m )\n\u001b[1;32m   1611\u001b[0m \u001b[38;5;28;01mif\u001b[39;00m charset \u001b[38;5;129;01mor\u001b[39;00m collation:\n",
      "File \u001b[0;32m~/miniconda3/lib/python3.9/site-packages/mysql/connector/connection.py:411\u001b[0m, in \u001b[0;36mMySQLConnection._open_connection\u001b[0;34m(self)\u001b[0m\n\u001b[1;32m    406\u001b[0m     \u001b[38;5;28;01mif\u001b[39;00m \u001b[38;5;28misinstance\u001b[39m(err, (ReadTimeoutError, WriteTimeoutError)):\n\u001b[1;32m    407\u001b[0m         \u001b[38;5;28;01mraise\u001b[39;00m ConnectionTimeoutError(\n\u001b[1;32m    408\u001b[0m             errno\u001b[38;5;241m=\u001b[39merr\u001b[38;5;241m.\u001b[39merrno,\n\u001b[1;32m    409\u001b[0m             msg\u001b[38;5;241m=\u001b[39merr\u001b[38;5;241m.\u001b[39mmsg,\n\u001b[1;32m    410\u001b[0m         ) \u001b[38;5;28;01mfrom\u001b[39;00m \u001b[38;5;21;01merr\u001b[39;00m\n\u001b[0;32m--> 411\u001b[0m     \u001b[38;5;28;01mraise\u001b[39;00m err\n\u001b[1;32m    412\u001b[0m \u001b[38;5;28;01mfinally\u001b[39;00m:\n\u001b[1;32m    413\u001b[0m     \u001b[38;5;66;03m# as the connection is established, set back the read\u001b[39;00m\n\u001b[1;32m    414\u001b[0m     \u001b[38;5;66;03m# and write timeouts to the original value\u001b[39;00m\n\u001b[1;32m    415\u001b[0m     \u001b[38;5;28mself\u001b[39m\u001b[38;5;241m.\u001b[39mread_timeout \u001b[38;5;241m=\u001b[39m stored_read_timeout\n",
      "File \u001b[0;32m~/miniconda3/lib/python3.9/site-packages/mysql/connector/connection.py:382\u001b[0m, in \u001b[0;36mMySQLConnection._open_connection\u001b[0;34m(self)\u001b[0m\n\u001b[1;32m    380\u001b[0m \u001b[38;5;28mself\u001b[39m\u001b[38;5;241m.\u001b[39m_socket \u001b[38;5;241m=\u001b[39m \u001b[38;5;28mself\u001b[39m\u001b[38;5;241m.\u001b[39m_get_connection()\n\u001b[1;32m    381\u001b[0m \u001b[38;5;28;01mtry\u001b[39;00m:\n\u001b[0;32m--> 382\u001b[0m     \u001b[38;5;28;43mself\u001b[39;49m\u001b[38;5;241;43m.\u001b[39;49m\u001b[43m_socket\u001b[49m\u001b[38;5;241;43m.\u001b[39;49m\u001b[43mopen_connection\u001b[49m\u001b[43m(\u001b[49m\u001b[43m)\u001b[49m\n\u001b[1;32m    384\u001b[0m     \u001b[38;5;66;03m# do initial handshake\u001b[39;00m\n\u001b[1;32m    385\u001b[0m     \u001b[38;5;28mself\u001b[39m\u001b[38;5;241m.\u001b[39m_do_handshake()\n",
      "File \u001b[0;32m~/miniconda3/lib/python3.9/site-packages/mysql/connector/network.py:806\u001b[0m, in \u001b[0;36mMySQLTCPSocket.open_connection\u001b[0;34m(self)\u001b[0m\n\u001b[1;32m    797\u001b[0m     \u001b[38;5;28;01mraise\u001b[39;00m ConnectionTimeoutError(\n\u001b[1;32m    798\u001b[0m         errno\u001b[38;5;241m=\u001b[39m\u001b[38;5;241m2003\u001b[39m,\n\u001b[1;32m    799\u001b[0m         values\u001b[38;5;241m=\u001b[39m(\n\u001b[0;32m   (...)\u001b[0m\n\u001b[1;32m    803\u001b[0m         ),\n\u001b[1;32m    804\u001b[0m     ) \u001b[38;5;28;01mfrom\u001b[39;00m \u001b[38;5;21;01merr\u001b[39;00m\n\u001b[1;32m    805\u001b[0m \u001b[38;5;28;01mexcept\u001b[39;00m \u001b[38;5;167;01mIOError\u001b[39;00m \u001b[38;5;28;01mas\u001b[39;00m err:\n\u001b[0;32m--> 806\u001b[0m     \u001b[38;5;28;01mraise\u001b[39;00m InterfaceError(\n\u001b[1;32m    807\u001b[0m         errno\u001b[38;5;241m=\u001b[39m\u001b[38;5;241m2003\u001b[39m,\n\u001b[1;32m    808\u001b[0m         values\u001b[38;5;241m=\u001b[39m(\u001b[38;5;28mself\u001b[39m\u001b[38;5;241m.\u001b[39mserver_host, \u001b[38;5;28mself\u001b[39m\u001b[38;5;241m.\u001b[39mserver_port, _strioerror(err)),\n\u001b[1;32m    809\u001b[0m     ) \u001b[38;5;28;01mfrom\u001b[39;00m \u001b[38;5;21;01merr\u001b[39;00m\n\u001b[1;32m    810\u001b[0m \u001b[38;5;28;01mexcept\u001b[39;00m \u001b[38;5;167;01mException\u001b[39;00m \u001b[38;5;28;01mas\u001b[39;00m err:\n\u001b[1;32m    811\u001b[0m     \u001b[38;5;28;01mraise\u001b[39;00m InterfaceError(\u001b[38;5;28mstr\u001b[39m(err)) \u001b[38;5;28;01mfrom\u001b[39;00m \u001b[38;5;21;01merr\u001b[39;00m\n",
      "\u001b[0;31mInterfaceError\u001b[0m: 2003: Can't connect to MySQL server on 'localhost:3306' (Errno 61: Connection refused)"
     ]
    }
   ],
   "source": [
    "# we need to know where is my server host, name of user and also password otherwise it does not work\n",
    "con1=msql.connect(\n",
    "    host='localhost',\n",
    "    user='root',\n",
    "    passwd='1234'\n",
    ")"
   ]
  },
  {
   "cell_type": "code",
   "execution_count": null,
   "id": "c176b15d",
   "metadata": {},
   "outputs": [],
   "source": [
    "# in rabet rou dorost mikonim\n",
    "cursor1=con1.cursor()"
   ]
  },
  {
   "cell_type": "code",
   "execution_count": null,
   "id": "51bdd5ef",
   "metadata": {},
   "outputs": [],
   "source": [
    "# Halla bayad be sursor begim boro felan kar rou bekon\n",
    "#Firs we make a QUERY\n",
    "query=\"SHOW DATABASES\"\n",
    "cursor1.execute(query)\n",
    "\n",
    "#Halla dakhele in query rou bebinim. each line will be a tuple\n",
    "for item in cursor1:\n",
    "    print(item)\n",
    "\n",
    "# we can also use print(item[0]) So will show the project"
   ]
  },
  {
   "cell_type": "markdown",
   "id": "b12290bd",
   "metadata": {},
   "source": [
    "## Now we want to make a dtabase or project to add to later add data tables etc"
   ]
  },
  {
   "cell_type": "code",
   "execution_count": null,
   "id": "d3c8af46",
   "metadata": {},
   "outputs": [],
   "source": [
    "## MYDATA is in fact the name of database\n",
    "query=\"CREAT DATABASE MYDATA\"\n",
    "cursor1.execute(query)\n",
    "\n"
   ]
  },
  {
   "cell_type": "code",
   "execution_count": null,
   "id": "fc84b285",
   "metadata": {},
   "outputs": [],
   "source": [
    "# NOWE CAN USE SHOW TO SEE THE NEW DATABASE\n",
    "query=\"SHOW DATABASES\"\n",
    "cursor1.execute(query)\n",
    "\n",
    "#Halla dakhele in query rou bebinim. each line will be a tuple\n",
    "for item in cursor1:\n",
    "    print(item[0])\n",
    "\n",
    "## Now it should show MYDATA\n",
    "\n"
   ]
  },
  {
   "cell_type": "markdown",
   "id": "8a254a44",
   "metadata": {},
   "source": [
    "### How to delete a database"
   ]
  },
  {
   "cell_type": "code",
   "execution_count": null,
   "id": "80e0c0e7",
   "metadata": {},
   "outputs": [],
   "source": [
    "query=\"DROP DATABASE MYDATA\"\n",
    "cursor1.execute(query)"
   ]
  },
  {
   "cell_type": "markdown",
   "id": "25a5e77b",
   "metadata": {},
   "source": [
    "## CHECK A DATABASES EXIST OR NOT (GABAL AZ ESME DATA BASE IF NOT EXIST BEZARIM)"
   ]
  },
  {
   "cell_type": "code",
   "execution_count": null,
   "id": "5f0058cd",
   "metadata": {},
   "outputs": [],
   "source": [
    "QUERY='CREAT DATABASE IF NOT EXISTS MYDATA'"
   ]
  },
  {
   "cell_type": "markdown",
   "id": "6a0d647a",
   "metadata": {},
   "source": [
    "### Adding Table"
   ]
  },
  {
   "cell_type": "code",
   "execution_count": null,
   "id": "9ac9f96b",
   "metadata": {},
   "outputs": [],
   "source": [
    "# CREATE TABLE 'table name'(  )beteen brackets we put columns or features labels\n",
    "con1=msql.connect(\n",
    "    host='localhost',\n",
    "    user='root',\n",
    "    passwd='1234',\n",
    "    INJA BAYAD ESME PROJECT HAM BIAAD AGAR BEKHAHIM TABLE BESAZIM YA BEGIRIM\n",
    ")"
   ]
  },
  {
   "cell_type": "code",
   "execution_count": null,
   "id": "e162e309",
   "metadata": {},
   "outputs": [],
   "source": [
    "## make table and columsn and name of columns and their type\n",
    "QUERY='CREAT TABLE  IF NOT EXIST tablename(id INT, name VARCHAR(100), age INT, SSN CHAR(11))'"
   ]
  },
  {
   "cell_type": "code",
   "execution_count": null,
   "id": "781c290a",
   "metadata": {},
   "outputs": [],
   "source": [
    "query='SHOW TABLES'\n",
    "CURSOR1.execute(query)\n",
    "\n",
    "for item in CURSOR1:\n",
    "    print(item[0])\n",
    "\n"
   ]
  }
 ],
 "metadata": {
  "kernelspec": {
   "display_name": "base",
   "language": "python",
   "name": "python3"
  },
  "language_info": {
   "codemirror_mode": {
    "name": "ipython",
    "version": 3
   },
   "file_extension": ".py",
   "mimetype": "text/x-python",
   "name": "python",
   "nbconvert_exporter": "python",
   "pygments_lexer": "ipython3",
   "version": "3.9.12"
  }
 },
 "nbformat": 4,
 "nbformat_minor": 5
}

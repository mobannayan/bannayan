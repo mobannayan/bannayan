{
 "cells": [
  {
   "cell_type": "markdown",
   "id": "51374070",
   "metadata": {},
   "source": [
    "#### A simpel NN when we use time series data\n",
    "\n",
    "#### The code will output the test loss and predictions for the test data. This example demonstrates how to set up, train, evaluate, and use a simple neural network model for regression tasks."
   ]
  },
  {
   "cell_type": "code",
   "execution_count": 1,
   "id": "9e63a988",
   "metadata": {},
   "outputs": [
    {
     "name": "stdout",
     "output_type": "stream",
     "text": [
      "Requirement already satisfied: tensorflow in /Users/mohammad.aval/miniconda3/lib/python3.9/site-packages (2.16.2)\n",
      "Requirement already satisfied: protobuf!=4.21.0,!=4.21.1,!=4.21.2,!=4.21.3,!=4.21.4,!=4.21.5,<5.0.0dev,>=3.20.3 in /Users/mohammad.aval/miniconda3/lib/python3.9/site-packages (from tensorflow) (4.24.4)\n",
      "Requirement already satisfied: wrapt>=1.11.0 in /Users/mohammad.aval/miniconda3/lib/python3.9/site-packages (from tensorflow) (1.15.0)\n",
      "Requirement already satisfied: numpy<2.0.0,>=1.23.5 in /Users/mohammad.aval/miniconda3/lib/python3.9/site-packages (from tensorflow) (1.25.2)\n",
      "Requirement already satisfied: tensorboard<2.17,>=2.16 in /Users/mohammad.aval/miniconda3/lib/python3.9/site-packages (from tensorflow) (2.16.2)\n",
      "Requirement already satisfied: gast!=0.5.0,!=0.5.1,!=0.5.2,>=0.2.1 in /Users/mohammad.aval/miniconda3/lib/python3.9/site-packages (from tensorflow) (0.6.0)\n",
      "Requirement already satisfied: astunparse>=1.6.0 in /Users/mohammad.aval/miniconda3/lib/python3.9/site-packages (from tensorflow) (1.6.3)\n",
      "Requirement already satisfied: requests<3,>=2.21.0 in /Users/mohammad.aval/miniconda3/lib/python3.9/site-packages (from tensorflow) (2.27.1)\n",
      "Requirement already satisfied: h5py>=3.10.0 in /Users/mohammad.aval/miniconda3/lib/python3.9/site-packages (from tensorflow) (3.13.0)\n",
      "Requirement already satisfied: ml-dtypes~=0.3.1 in /Users/mohammad.aval/miniconda3/lib/python3.9/site-packages (from tensorflow) (0.3.2)\n",
      "Requirement already satisfied: keras>=3.0.0 in /Users/mohammad.aval/miniconda3/lib/python3.9/site-packages (from tensorflow) (3.9.2)\n",
      "Requirement already satisfied: setuptools in /Users/mohammad.aval/miniconda3/lib/python3.9/site-packages (from tensorflow) (61.2.0)\n",
      "Requirement already satisfied: flatbuffers>=23.5.26 in /Users/mohammad.aval/miniconda3/lib/python3.9/site-packages (from tensorflow) (25.2.10)\n",
      "Requirement already satisfied: opt-einsum>=2.3.2 in /Users/mohammad.aval/miniconda3/lib/python3.9/site-packages (from tensorflow) (3.4.0)\n",
      "Requirement already satisfied: typing-extensions>=3.6.6 in /Users/mohammad.aval/miniconda3/lib/python3.9/site-packages (from tensorflow) (4.13.2)\n",
      "Requirement already satisfied: tensorflow-io-gcs-filesystem>=0.23.1 in /Users/mohammad.aval/miniconda3/lib/python3.9/site-packages (from tensorflow) (0.37.1)\n",
      "Requirement already satisfied: google-pasta>=0.1.1 in /Users/mohammad.aval/miniconda3/lib/python3.9/site-packages (from tensorflow) (0.2.0)\n",
      "Requirement already satisfied: six>=1.12.0 in /Users/mohammad.aval/miniconda3/lib/python3.9/site-packages (from tensorflow) (1.16.0)\n",
      "Requirement already satisfied: grpcio<2.0,>=1.24.3 in /Users/mohammad.aval/miniconda3/lib/python3.9/site-packages (from tensorflow) (1.59.0)\n",
      "Requirement already satisfied: termcolor>=1.1.0 in /Users/mohammad.aval/miniconda3/lib/python3.9/site-packages (from tensorflow) (3.0.1)\n",
      "Requirement already satisfied: absl-py>=1.0.0 in /Users/mohammad.aval/miniconda3/lib/python3.9/site-packages (from tensorflow) (2.2.2)\n",
      "Requirement already satisfied: packaging in /Users/mohammad.aval/miniconda3/lib/python3.9/site-packages (from tensorflow) (23.0)\n",
      "Requirement already satisfied: libclang>=13.0.0 in /Users/mohammad.aval/miniconda3/lib/python3.9/site-packages (from tensorflow) (18.1.1)\n",
      "Requirement already satisfied: wheel<1.0,>=0.23.0 in /Users/mohammad.aval/miniconda3/lib/python3.9/site-packages (from astunparse>=1.6.0->tensorflow) (0.37.1)\n",
      "Requirement already satisfied: rich in /Users/mohammad.aval/miniconda3/lib/python3.9/site-packages (from keras>=3.0.0->tensorflow) (14.0.0)\n",
      "Requirement already satisfied: namex in /Users/mohammad.aval/miniconda3/lib/python3.9/site-packages (from keras>=3.0.0->tensorflow) (0.0.8)\n",
      "Requirement already satisfied: optree in /Users/mohammad.aval/miniconda3/lib/python3.9/site-packages (from keras>=3.0.0->tensorflow) (0.15.0)\n",
      "Requirement already satisfied: idna<4,>=2.5 in /Users/mohammad.aval/miniconda3/lib/python3.9/site-packages (from requests<3,>=2.21.0->tensorflow) (3.3)\n",
      "Requirement already satisfied: urllib3<1.27,>=1.21.1 in /Users/mohammad.aval/miniconda3/lib/python3.9/site-packages (from requests<3,>=2.21.0->tensorflow) (1.26.20)\n",
      "Requirement already satisfied: charset-normalizer~=2.0.0 in /Users/mohammad.aval/miniconda3/lib/python3.9/site-packages (from requests<3,>=2.21.0->tensorflow) (2.0.4)\n",
      "Requirement already satisfied: certifi>=2017.4.17 in /Users/mohammad.aval/miniconda3/lib/python3.9/site-packages (from requests<3,>=2.21.0->tensorflow) (2022.12.7)\n",
      "Requirement already satisfied: tensorboard-data-server<0.8.0,>=0.7.0 in /Users/mohammad.aval/miniconda3/lib/python3.9/site-packages (from tensorboard<2.17,>=2.16->tensorflow) (0.7.2)\n",
      "Requirement already satisfied: werkzeug>=1.0.1 in /Users/mohammad.aval/miniconda3/lib/python3.9/site-packages (from tensorboard<2.17,>=2.16->tensorflow) (3.1.3)\n",
      "Requirement already satisfied: markdown>=2.6.8 in /Users/mohammad.aval/miniconda3/lib/python3.9/site-packages (from tensorboard<2.17,>=2.16->tensorflow) (3.8)\n",
      "Requirement already satisfied: importlib-metadata>=4.4 in /Users/mohammad.aval/miniconda3/lib/python3.9/site-packages (from markdown>=2.6.8->tensorboard<2.17,>=2.16->tensorflow) (6.0.0)\n",
      "Requirement already satisfied: zipp>=0.5 in /Users/mohammad.aval/miniconda3/lib/python3.9/site-packages (from importlib-metadata>=4.4->markdown>=2.6.8->tensorboard<2.17,>=2.16->tensorflow) (3.11.0)\n",
      "Requirement already satisfied: MarkupSafe>=2.1.1 in /Users/mohammad.aval/miniconda3/lib/python3.9/site-packages (from werkzeug>=1.0.1->tensorboard<2.17,>=2.16->tensorflow) (2.1.2)\n",
      "Requirement already satisfied: markdown-it-py>=2.2.0 in /Users/mohammad.aval/miniconda3/lib/python3.9/site-packages (from rich->keras>=3.0.0->tensorflow) (3.0.0)\n",
      "Requirement already satisfied: pygments<3.0.0,>=2.13.0 in /Users/mohammad.aval/miniconda3/lib/python3.9/site-packages (from rich->keras>=3.0.0->tensorflow) (2.14.0)\n",
      "Requirement already satisfied: mdurl~=0.1 in /Users/mohammad.aval/miniconda3/lib/python3.9/site-packages (from markdown-it-py>=2.2.0->rich->keras>=3.0.0->tensorflow) (0.1.2)\n",
      "Note: you may need to restart the kernel to use updated packages.\n"
     ]
    }
   ],
   "source": [
    "pip install tensorflow"
   ]
  },
  {
   "cell_type": "code",
   "execution_count": 2,
   "id": "ba7bd4d4",
   "metadata": {},
   "outputs": [
    {
     "name": "stderr",
     "output_type": "stream",
     "text": [
      "/Users/mohammad.aval/miniconda3/lib/python3.9/site-packages/requests/__init__.py:102: RequestsDependencyWarning: urllib3 (1.26.20) or chardet (5.2.0)/charset_normalizer (2.0.4) doesn't match a supported version!\n",
      "  warnings.warn(\"urllib3 ({}) or chardet ({})/charset_normalizer ({}) doesn't match a supported \"\n"
     ]
    }
   ],
   "source": [
    "import numpy as np\n",
    "from tensorflow.keras.models import Sequential\n",
    "from tensorflow.keras.layers import Dense\n",
    "from tensorflow.keras.optimizers import Adam"
   ]
  },
  {
   "cell_type": "markdown",
   "id": "d5cc1b15",
   "metadata": {},
   "source": [
    "#### Data Generation: Random data is generated for training (X_train, y_train) and testing (X_test, y_test). Each sample has 10 features, and the target is a single value."
   ]
  },
  {
   "cell_type": "code",
   "execution_count": 3,
   "id": "b81dbfe7",
   "metadata": {},
   "outputs": [],
   "source": [
    "# Generate random data for demonstration\n",
    "np.random.seed(0)\n",
    "X_train = np.random.rand(100, 10)  # 100 samples, 10 features each\n",
    "y_train = np.random.rand(100, 1)   # 100 target values\n"
   ]
  },
  {
   "cell_type": "markdown",
   "id": "4641ae8b",
   "metadata": {},
   "source": [
    "##### Model Definition: The Sequential model consists of:\n",
    "#### Input Layer: A dense layer with 64 units and ReLU activation, accepting input of shape (10,) (i.e., 10 features).\n",
    "##### Output Layer: A dense layer with 1 unit, suitable for regression tasks."
   ]
  },
  {
   "cell_type": "code",
   "execution_count": 4,
   "id": "1eba38ad",
   "metadata": {},
   "outputs": [
    {
     "name": "stderr",
     "output_type": "stream",
     "text": [
      "/Users/mohammad.aval/miniconda3/lib/python3.9/site-packages/keras/src/layers/core/dense.py:87: UserWarning: Do not pass an `input_shape`/`input_dim` argument to a layer. When using Sequential models, prefer using an `Input(shape)` object as the first layer in the model instead.\n",
      "  super().__init__(activity_regularizer=activity_regularizer, **kwargs)\n"
     ]
    }
   ],
   "source": [
    "# Define the model\n",
    "model = Sequential([\n",
    "    Dense(64, activation='relu', input_shape=(10,)),  # Input layer with 64 units\n",
    "    Dense(1)                                           # Output layer with 1 unit\n",
    "])\n",
    "\n"
   ]
  },
  {
   "cell_type": "markdown",
   "id": "b47d1d54",
   "metadata": {},
   "source": [
    "##### Model Compilation: The model is compiled using the Adam optimizer and mean squared error loss, which are standard choices for regression."
   ]
  },
  {
   "cell_type": "code",
   "execution_count": 5,
   "id": "b145fde2",
   "metadata": {},
   "outputs": [],
   "source": [
    "# Compile the model\n",
    "model.compile(optimizer=Adam(), loss='mean_squared_error')"
   ]
  },
  {
   "cell_type": "markdown",
   "id": "01929369",
   "metadata": {},
   "source": [
    "##### Model Training: The model is trained for 10 epochs with a batch size of 10."
   ]
  },
  {
   "cell_type": "code",
   "execution_count": 6,
   "id": "9597725c",
   "metadata": {},
   "outputs": [
    {
     "name": "stdout",
     "output_type": "stream",
     "text": [
      "Epoch 1/10\n",
      "\u001b[1m10/10\u001b[0m \u001b[32m━━━━━━━━━━━━━━━━━━━━\u001b[0m\u001b[37m\u001b[0m \u001b[1m1s\u001b[0m 3ms/step - loss: 0.1342  \n",
      "Epoch 2/10\n",
      "\u001b[1m10/10\u001b[0m \u001b[32m━━━━━━━━━━━━━━━━━━━━\u001b[0m\u001b[37m\u001b[0m \u001b[1m0s\u001b[0m 3ms/step - loss: 0.1205 \n",
      "Epoch 3/10\n",
      "\u001b[1m10/10\u001b[0m \u001b[32m━━━━━━━━━━━━━━━━━━━━\u001b[0m\u001b[37m\u001b[0m \u001b[1m0s\u001b[0m 3ms/step - loss: 0.1077 \n",
      "Epoch 4/10\n",
      "\u001b[1m10/10\u001b[0m \u001b[32m━━━━━━━━━━━━━━━━━━━━\u001b[0m\u001b[37m\u001b[0m \u001b[1m0s\u001b[0m 3ms/step - loss: 0.1076 \n",
      "Epoch 5/10\n",
      "\u001b[1m10/10\u001b[0m \u001b[32m━━━━━━━━━━━━━━━━━━━━\u001b[0m\u001b[37m\u001b[0m \u001b[1m0s\u001b[0m 3ms/step - loss: 0.0986 \n",
      "Epoch 6/10\n",
      "\u001b[1m10/10\u001b[0m \u001b[32m━━━━━━━━━━━━━━━━━━━━\u001b[0m\u001b[37m\u001b[0m \u001b[1m0s\u001b[0m 3ms/step - loss: 0.1138 \n",
      "Epoch 7/10\n",
      "\u001b[1m10/10\u001b[0m \u001b[32m━━━━━━━━━━━━━━━━━━━━\u001b[0m\u001b[37m\u001b[0m \u001b[1m0s\u001b[0m 3ms/step - loss: 0.0985 \n",
      "Epoch 8/10\n",
      "\u001b[1m10/10\u001b[0m \u001b[32m━━━━━━━━━━━━━━━━━━━━\u001b[0m\u001b[37m\u001b[0m \u001b[1m0s\u001b[0m 3ms/step - loss: 0.1045 \n",
      "Epoch 9/10\n",
      "\u001b[1m10/10\u001b[0m \u001b[32m━━━━━━━━━━━━━━━━━━━━\u001b[0m\u001b[37m\u001b[0m \u001b[1m0s\u001b[0m 3ms/step - loss: 0.1071 \n",
      "Epoch 10/10\n",
      "\u001b[1m10/10\u001b[0m \u001b[32m━━━━━━━━━━━━━━━━━━━━\u001b[0m\u001b[37m\u001b[0m \u001b[1m0s\u001b[0m 3ms/step - loss: 0.0932 \n",
      "Test Loss: 0.1038\n",
      "\u001b[1m1/1\u001b[0m \u001b[32m━━━━━━━━━━━━━━━━━━━━\u001b[0m\u001b[37m\u001b[0m \u001b[1m0s\u001b[0m 58ms/step\n",
      "Predictions: [[0.48561537]\n",
      " [0.40208963]\n",
      " [0.65041095]\n",
      " [0.6284272 ]\n",
      " [0.38404644]\n",
      " [0.36547083]\n",
      " [0.46818212]\n",
      " [0.4123147 ]\n",
      " [0.5973557 ]\n",
      " [0.5433118 ]\n",
      " [0.72649133]\n",
      " [0.27974445]\n",
      " [0.64727646]\n",
      " [0.34946844]\n",
      " [0.46753958]\n",
      " [0.6247509 ]\n",
      " [0.5978608 ]\n",
      " [0.627902  ]\n",
      " [0.22332393]\n",
      " [0.3641498 ]]\n"
     ]
    }
   ],
   "source": [
    "# Train the model\n",
    "model.fit(X_train, y_train, epochs=10, batch_size=10)\n",
    "\n",
    "# Generate test data\n",
    "X_test = np.random.rand(20, 10)  # 20 samples, 10 features each\n",
    "y_test = np.random.rand(20, 1)   # 20 target values\n",
    "\n",
    "# Evaluate the model\n",
    "loss = model.evaluate(X_test, y_test, verbose=0)\n",
    "print(f\"Test Loss: {loss:.4f}\")\n",
    "\n",
    "# Make predictions\n",
    "predictions = model.predict(X_test)\n",
    "print(\"Predictions:\", predictions)"
   ]
  }
 ],
 "metadata": {
  "kernelspec": {
   "display_name": "base",
   "language": "python",
   "name": "python3"
  },
  "language_info": {
   "codemirror_mode": {
    "name": "ipython",
    "version": 3
   },
   "file_extension": ".py",
   "mimetype": "text/x-python",
   "name": "python",
   "nbconvert_exporter": "python",
   "pygments_lexer": "ipython3",
   "version": "3.9.12"
  }
 },
 "nbformat": 4,
 "nbformat_minor": 5
}

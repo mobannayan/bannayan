{
 "cells": [
  {
   "cell_type": "code",
   "execution_count": null,
   "id": "c81d1a0b",
   "metadata": {},
   "outputs": [],
   "source": [
    "from sklearn.linear_model import LinearRegression\n",
    "from sklearn.metrics import mean_squared_error, r2_score\n",
    "import numpy as np\n",
    "\n",
    "class SimpleLinearRegressor:\n",
    "    def __init__(self):\n",
    "        # Create the LinearRegression model from scikit-learn\n",
    "        self.model = LinearRegression()\n",
    "    \n",
    "    def fit(self, X, y):\n",
    "        \"\"\"\n",
    "        Train the linear regression model.\n",
    "        :param X: Feature matrix (2D)\n",
    "        :param y: Target values (1D)\n",
    "        \"\"\"\n",
    "        self.model.fit(X, y)\n",
    "        print(\"Model trained.\")\n",
    "    \n",
    "    def predict(self, X):\n",
    "        \"\"\"\n",
    "        Predict using the trained model.\n",
    "        :param X: Feature matrix (2D)\n",
    "        :return: Predicted values\n",
    "        \"\"\"\n",
    "        return self.model.predict(X)\n",
    "    \n",
    "    def evaluate(self, X, y_true):\n",
    "        \"\"\"\n",
    "        Evaluate the model using R² score and MSE.\n",
    "        :param X: Feature matrix (2D)\n",
    "        :param y_true: True target values\n",
    "        :return: Dictionary with R² and MSE\n",
    "        \"\"\"\n",
    "        y_pred = self.predict(X)\n",
    "        r2 = r2_score(y_true, y_pred)\n",
    "        mse = mean_squared_error(y_true, y_pred)\n",
    "        return {\"R2 Score\": r2, \"MSE\": mse}\n",
    "\n",
    "    def get_coefficients(self):\n",
    "        \"\"\"\n",
    "        Get model coefficients and intercept.\n",
    "        :return: (coefficients, intercept)\n",
    "        \"\"\"\n",
    "        return self.model.coef_, self.model.intercept_\n"
   ]
  },
  {
   "cell_type": "code",
   "execution_count": null,
   "id": "2de15533",
   "metadata": {},
   "outputs": [],
   "source": [
    "from sklearn.model_selection import train_test_split\n",
    "from sklearn.datasets import make_regression"
   ]
  },
  {
   "cell_type": "code",
   "execution_count": null,
   "id": "4330ead1",
   "metadata": {},
   "outputs": [],
   "source": [
    "# Generate synthetic regression data\n",
    "X, y = make_regression(n_samples=100, n_features=1, noise=10, random_state=42)\n",
    "\n",
    "# Split into train and test sets\n",
    "X_train, X_test, y_train, y_test = train_test_split(X, y, test_size=0.2, random_state=42)\n",
    "\n",
    "# Initialize and use the SimpleLinearRegressor\n",
    "regressor = SimpleLinearRegressor()\n",
    "regressor.fit(X_train, y_train)\n",
    "\n",
    "# Predict and evaluate\n",
    "predictions = regressor.predict(X_test)\n",
    "evaluation = regressor.evaluate(X_test, y_test)\n",
    "coefficients, intercept = regressor.get_coefficients()\n",
    "\n",
    "# Output results\n",
    "print(\"Evaluation Metrics:\", evaluation)\n",
    "print(\"Model Coefficients:\", coefficients)\n",
    "print(\"Model Intercept:\", intercept)"
   ]
  },
  {
   "cell_type": "code",
   "execution_count": null,
   "id": "8cb3143e",
   "metadata": {},
   "outputs": [],
   "source": []
  }
 ],
 "metadata": {
  "kernelspec": {
   "display_name": "base",
   "language": "python",
   "name": "python3"
  },
  "language_info": {
   "name": "python",
   "version": "3.9.12"
  }
 },
 "nbformat": 4,
 "nbformat_minor": 5
}

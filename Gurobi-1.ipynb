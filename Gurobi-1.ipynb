{
 "cells": [
  {
   "cell_type": "code",
   "execution_count": null,
   "id": "5b7b52d1",
   "metadata": {},
   "outputs": [],
   "source": [
    "from gurobipy import Model, GRB\n",
    "\n",
    "# Create model\n",
    "m = Model(\"crop_planning\")\n",
    "\n",
    "# Variables\n",
    "corn = m.addVar(name=\"corn\", lb=0)\n",
    "soy = m.addVar(name=\"soy\", lb=0)\n",
    "\n",
    "# Objective: Maximize total profit (e.g., $200 per acre for corn, $300 for soy)\n",
    "m.setObjective(200*corn + 300*soy, GRB.MAXIMIZE)\n",
    "\n",
    "# Constraints\n",
    "m.addConstr(corn + soy <= 100, \"land\")          # 100 acres available\n",
    "m.addConstr(2*corn + soy <= 160, \"labor\")       # labor limits\n",
    "\n",
    "# Solve\n",
    "m.optimize()\n",
    "\n",
    "# Print solution\n",
    "for v in m.getVars():\n",
    "    print(f\"{v.varName} = {v.x}\")\n",
    "\n",
    "print(f\"Optimal profit: ${m.objVal}\")\n"
   ]
  }
 ],
 "metadata": {
  "language_info": {
   "name": "python"
  }
 },
 "nbformat": 4,
 "nbformat_minor": 5
}

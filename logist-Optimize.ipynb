{
 "cells": [
  {
   "cell_type": "markdown",
   "id": "8d8eaffb",
   "metadata": {},
   "source": [
    "Batch Gradient Descent (entire dataset per update)\n",
    "→ Covered by LogisticRegression (e.g. solver='lbfgs').\n",
    "\n",
    "Stochastic Gradient Descent (SGD) (1 sample per update)\n",
    "→ Done via SGDClassifier.\n",
    "\n",
    "Mini-Batch Gradient Descent (e.g. 64 samples per update)\n",
    "→ Using SGDClassifier + partial_fit manually."
   ]
  },
  {
   "cell_type": "code",
   "execution_count": 1,
   "id": "2a4ffe14",
   "metadata": {},
   "outputs": [],
   "source": [
    "import pandas as pd\n",
    "import numpy as np\n",
    "import seaborn as sns\n",
    "import matplotlib.pyplot as plt\n",
    "%matplotlib inline"
   ]
  },
  {
   "cell_type": "code",
   "execution_count": 2,
   "id": "164f8762",
   "metadata": {},
   "outputs": [],
   "source": [
    "# ---------- Data ----------\n",
    "data = {\n",
    "    \"pass_id\": np.arange(0, 1000),\n",
    "    \"survive\": np.random.choice(['yes', 'no'], size=1000),\n",
    "    \"pclass\": np.random.choice(['top', 'ave', 'poor'], size=1000),\n",
    "    \"age\": np.random.randint(10, 80, size=1000),\n",
    "    \"name\": [\"Mo_\" + str(i) for i in range(0, 1000)],\n",
    "    \"sex\": np.random.choice(['M', 'F'], size=1000)\n",
    "}\n",
    "df = pd.DataFrame(data)"
   ]
  },
  {
   "cell_type": "code",
   "execution_count": 3,
   "id": "e6fff101",
   "metadata": {},
   "outputs": [
    {
     "data": {
      "text/html": [
       "<div>\n",
       "<style scoped>\n",
       "    .dataframe tbody tr th:only-of-type {\n",
       "        vertical-align: middle;\n",
       "    }\n",
       "\n",
       "    .dataframe tbody tr th {\n",
       "        vertical-align: top;\n",
       "    }\n",
       "\n",
       "    .dataframe thead th {\n",
       "        text-align: right;\n",
       "    }\n",
       "</style>\n",
       "<table border=\"1\" class=\"dataframe\">\n",
       "  <thead>\n",
       "    <tr style=\"text-align: right;\">\n",
       "      <th></th>\n",
       "      <th>pass_id</th>\n",
       "      <th>survive</th>\n",
       "      <th>pclass</th>\n",
       "      <th>age</th>\n",
       "      <th>name</th>\n",
       "      <th>sex</th>\n",
       "    </tr>\n",
       "  </thead>\n",
       "  <tbody>\n",
       "    <tr>\n",
       "      <th>0</th>\n",
       "      <td>0</td>\n",
       "      <td>yes</td>\n",
       "      <td>top</td>\n",
       "      <td>73</td>\n",
       "      <td>Mo_0</td>\n",
       "      <td>F</td>\n",
       "    </tr>\n",
       "    <tr>\n",
       "      <th>1</th>\n",
       "      <td>1</td>\n",
       "      <td>no</td>\n",
       "      <td>ave</td>\n",
       "      <td>61</td>\n",
       "      <td>Mo_1</td>\n",
       "      <td>M</td>\n",
       "    </tr>\n",
       "    <tr>\n",
       "      <th>2</th>\n",
       "      <td>2</td>\n",
       "      <td>yes</td>\n",
       "      <td>poor</td>\n",
       "      <td>28</td>\n",
       "      <td>Mo_2</td>\n",
       "      <td>M</td>\n",
       "    </tr>\n",
       "    <tr>\n",
       "      <th>3</th>\n",
       "      <td>3</td>\n",
       "      <td>no</td>\n",
       "      <td>ave</td>\n",
       "      <td>73</td>\n",
       "      <td>Mo_3</td>\n",
       "      <td>M</td>\n",
       "    </tr>\n",
       "    <tr>\n",
       "      <th>4</th>\n",
       "      <td>4</td>\n",
       "      <td>yes</td>\n",
       "      <td>ave</td>\n",
       "      <td>71</td>\n",
       "      <td>Mo_4</td>\n",
       "      <td>F</td>\n",
       "    </tr>\n",
       "  </tbody>\n",
       "</table>\n",
       "</div>"
      ],
      "text/plain": [
       "   pass_id survive pclass  age  name sex\n",
       "0        0     yes    top   73  Mo_0   F\n",
       "1        1      no    ave   61  Mo_1   M\n",
       "2        2     yes   poor   28  Mo_2   M\n",
       "3        3      no    ave   73  Mo_3   M\n",
       "4        4     yes    ave   71  Mo_4   F"
      ]
     },
     "execution_count": 3,
     "metadata": {},
     "output_type": "execute_result"
    }
   ],
   "source": [
    "df.head()"
   ]
  },
  {
   "cell_type": "code",
   "execution_count": 4,
   "id": "c28fe9cf",
   "metadata": {},
   "outputs": [
    {
     "name": "stdout",
     "output_type": "stream",
     "text": [
      "<class 'pandas.core.frame.DataFrame'>\n",
      "RangeIndex: 1000 entries, 0 to 999\n",
      "Data columns (total 6 columns):\n",
      " #   Column   Non-Null Count  Dtype \n",
      "---  ------   --------------  ----- \n",
      " 0   pass_id  1000 non-null   int32 \n",
      " 1   survive  1000 non-null   object\n",
      " 2   pclass   1000 non-null   object\n",
      " 3   age      1000 non-null   int32 \n",
      " 4   name     1000 non-null   object\n",
      " 5   sex      1000 non-null   object\n",
      "dtypes: int32(2), object(4)\n",
      "memory usage: 39.2+ KB\n"
     ]
    }
   ],
   "source": [
    "df.info()"
   ]
  },
  {
   "cell_type": "code",
   "execution_count": 5,
   "id": "08d4ef20",
   "metadata": {},
   "outputs": [
    {
     "data": {
      "text/html": [
       "<div>\n",
       "<style scoped>\n",
       "    .dataframe tbody tr th:only-of-type {\n",
       "        vertical-align: middle;\n",
       "    }\n",
       "\n",
       "    .dataframe tbody tr th {\n",
       "        vertical-align: top;\n",
       "    }\n",
       "\n",
       "    .dataframe thead th {\n",
       "        text-align: right;\n",
       "    }\n",
       "</style>\n",
       "<table border=\"1\" class=\"dataframe\">\n",
       "  <thead>\n",
       "    <tr style=\"text-align: right;\">\n",
       "      <th></th>\n",
       "      <th>pass_id</th>\n",
       "      <th>age</th>\n",
       "    </tr>\n",
       "  </thead>\n",
       "  <tbody>\n",
       "    <tr>\n",
       "      <th>count</th>\n",
       "      <td>1000.000000</td>\n",
       "      <td>1000.000000</td>\n",
       "    </tr>\n",
       "    <tr>\n",
       "      <th>mean</th>\n",
       "      <td>499.500000</td>\n",
       "      <td>43.984000</td>\n",
       "    </tr>\n",
       "    <tr>\n",
       "      <th>std</th>\n",
       "      <td>288.819436</td>\n",
       "      <td>20.333844</td>\n",
       "    </tr>\n",
       "    <tr>\n",
       "      <th>min</th>\n",
       "      <td>0.000000</td>\n",
       "      <td>10.000000</td>\n",
       "    </tr>\n",
       "    <tr>\n",
       "      <th>25%</th>\n",
       "      <td>249.750000</td>\n",
       "      <td>25.000000</td>\n",
       "    </tr>\n",
       "    <tr>\n",
       "      <th>50%</th>\n",
       "      <td>499.500000</td>\n",
       "      <td>45.000000</td>\n",
       "    </tr>\n",
       "    <tr>\n",
       "      <th>75%</th>\n",
       "      <td>749.250000</td>\n",
       "      <td>61.000000</td>\n",
       "    </tr>\n",
       "    <tr>\n",
       "      <th>max</th>\n",
       "      <td>999.000000</td>\n",
       "      <td>79.000000</td>\n",
       "    </tr>\n",
       "  </tbody>\n",
       "</table>\n",
       "</div>"
      ],
      "text/plain": [
       "           pass_id          age\n",
       "count  1000.000000  1000.000000\n",
       "mean    499.500000    43.984000\n",
       "std     288.819436    20.333844\n",
       "min       0.000000    10.000000\n",
       "25%     249.750000    25.000000\n",
       "50%     499.500000    45.000000\n",
       "75%     749.250000    61.000000\n",
       "max     999.000000    79.000000"
      ]
     },
     "execution_count": 5,
     "metadata": {},
     "output_type": "execute_result"
    }
   ],
   "source": [
    "df.describe()"
   ]
  },
  {
   "cell_type": "code",
   "execution_count": 6,
   "id": "a18f85ab",
   "metadata": {},
   "outputs": [
    {
     "data": {
      "text/plain": [
       "pass_id    0\n",
       "survive    0\n",
       "pclass     0\n",
       "age        0\n",
       "name       0\n",
       "sex        0\n",
       "dtype: int64"
      ]
     },
     "execution_count": 6,
     "metadata": {},
     "output_type": "execute_result"
    }
   ],
   "source": [
    "df.isnull().sum()"
   ]
  },
  {
   "cell_type": "code",
   "execution_count": 10,
   "id": "58d11057",
   "metadata": {},
   "outputs": [
    {
     "data": {
      "text/plain": [
       "<seaborn.axisgrid.FacetGrid at 0x1f6bd3b4220>"
      ]
     },
     "execution_count": 10,
     "metadata": {},
     "output_type": "execute_result"
    },
    {
     "data": {
      "image/png": "[encoded data removed]",
      "text/plain": [
       "<Figure size 360x360 with 1 Axes>"
      ]
     },
     "metadata": {
      "needs_background": "light"
     },
     "output_type": "display_data"
    }
   ],
   "source": [
    "sns.displot(data=df, x='age',kde=True, bins=20)"
   ]
  },
  {
   "cell_type": "code",
   "execution_count": 11,
   "id": "6f1f059b",
   "metadata": {},
   "outputs": [
    {
     "data": {
      "text/plain": [
       "<AxesSubplot:xlabel='pclass', ylabel='age'>"
      ]
     },
     "execution_count": 11,
     "metadata": {},
     "output_type": "execute_result"
    },
    {
     "data": {
      "image/png": "[encoded data removed]",
      "text/plain": [
       "<Figure size 432x288 with 1 Axes>"
      ]
     },
     "metadata": {
      "needs_background": "light"
     },
     "output_type": "display_data"
    }
   ],
   "source": [
    "sns.boxenplot(data=df, x='pclass', y='age')"
   ]
  },
  {
   "cell_type": "code",
   "execution_count": 12,
   "id": "827ded38",
   "metadata": {},
   "outputs": [],
   "source": [
    "# ---------- Preprocessing ----------\n",
    "pclass_mapping = {'poor': 0, 'ave': 1, 'top': 2}\n",
    "df['pclass'] = df['pclass'].map(pclass_mapping)\n",
    "\n",
    "from sklearn.preprocessing import LabelEncoder\n",
    "encod_cols = ['sex', 'survive']\n",
    "for col in encod_cols:\n",
    "    le = LabelEncoder()\n",
    "    df[col] = le.fit_transform(df[col])\n",
    "\n",
    "df.drop(columns='name', inplace=True)\n"
   ]
  },
  {
   "cell_type": "code",
   "execution_count": 13,
   "id": "adf98223",
   "metadata": {},
   "outputs": [],
   "source": [
    "# ---------- Split ----------\n",
    "from sklearn.model_selection import train_test_split\n",
    "x = df.drop('survive', axis=1)\n",
    "y = df['survive']\n",
    "X_train, X_test, y_train, y_test = train_test_split(x, y, test_size=0.2, random_state=123)\n"
   ]
  },
  {
   "cell_type": "code",
   "execution_count": 14,
   "id": "9f6e5b08",
   "metadata": {},
   "outputs": [],
   "source": [
    "from sklearn.metrics import accuracy_score, confusion_matrix, classification_report"
   ]
  },
  {
   "cell_type": "code",
   "execution_count": null,
   "id": "d8780b15",
   "metadata": {},
   "outputs": [
    {
     "name": "stdout",
     "output_type": "stream",
     "text": [
      "✅ Batch Gradient Descent (LogisticRegression):\n",
      "Accuracy: 0.53\n"
     ]
    }
   ],
   "source": [
    "# ---------- 1. Batch Gradient Descent (LogisticRegression) ----------\n",
    "from sklearn.linear_model import LogisticRegression\n",
    "lr_model = LogisticRegression(solver='lbfgs', max_iter=1000)\n",
    "lr_model.fit(X_train, y_train)\n",
    "pred_lr = lr_model.predict(X_test)\n",
    "acc_lr = accuracy_score(y_test, pred_lr)\n",
    "print(\"Batch Gradient Descent (LogisticRegression):\")\n",
    "print(\"Accuracy:\", acc_lr)"
   ]
  },
  {
   "cell_type": "code",
   "execution_count": 23,
   "id": "7dfa348f",
   "metadata": {},
   "outputs": [
    {
     "name": "stdout",
     "output_type": "stream",
     "text": [
      "✅ Stochastic Gradient Descent (SGD - fast version):\n",
      "Accuracy: 0.525\n",
      "Confusion Matrix:\n",
      " [[  0  95]\n",
      " [  0 105]]\n",
      "Classification Report:\n",
      "               precision    recall  f1-score   support\n",
      "\n",
      "           0       0.00      0.00      0.00        95\n",
      "           1       0.53      1.00      0.69       105\n",
      "\n",
      "    accuracy                           0.53       200\n",
      "   macro avg       0.26      0.50      0.34       200\n",
      "weighted avg       0.28      0.53      0.36       200\n",
      "\n"
     ]
    },
    {
     "name": "stderr",
     "output_type": "stream",
     "text": [
      "c:\\Users\\Mo\\anaconda3\\lib\\site-packages\\sklearn\\metrics\\_classification.py:1318: UndefinedMetricWarning: Precision and F-score are ill-defined and being set to 0.0 in labels with no predicted samples. Use `zero_division` parameter to control this behavior.\n",
      "  _warn_prf(average, modifier, msg_start, len(result))\n",
      "c:\\Users\\Mo\\anaconda3\\lib\\site-packages\\sklearn\\metrics\\_classification.py:1318: UndefinedMetricWarning: Precision and F-score are ill-defined and being set to 0.0 in labels with no predicted samples. Use `zero_division` parameter to control this behavior.\n",
      "  _warn_prf(average, modifier, msg_start, len(result))\n",
      "c:\\Users\\Mo\\anaconda3\\lib\\site-packages\\sklearn\\metrics\\_classification.py:1318: UndefinedMetricWarning: Precision and F-score are ill-defined and being set to 0.0 in labels with no predicted samples. Use `zero_division` parameter to control this behavior.\n",
      "  _warn_prf(average, modifier, msg_start, len(result))\n"
     ]
    }
   ],
   "source": [
    "# ---------- 2. Stochastic Gradient Descent (SGDClassifier) ----------\n",
    "from sklearn.linear_model import SGDClassifier\n",
    "\n",
    "# SGD with multiple epochs, learning rate, and stochastic updates\n",
    "sgd_model = SGDClassifier(loss='log', penalty='l2', learning_rate='optimal', max_iter=1000, random_state=123)\n",
    "\n",
    "# This will internally use stochastic updates (1 sample at a time) efficiently\n",
    "sgd_model.fit(X_train, y_train)\n",
    "\n",
    "pred_sgd = sgd_model.predict(X_test)\n",
    "acc_sgd = accuracy_score(y_test, pred_sgd)\n",
    "\n",
    "print(\"✅ Stochastic Gradient Descent (SGD - fast version):\")\n",
    "print(\"Accuracy:\", acc_sgd)\n",
    "print(\"Confusion Matrix:\\n\", confusion_matrix(y_test, pred_sgd))\n",
    "print(\"Classification Report:\\n\", classification_report(y_test, pred_sgd))"
   ]
  },
  {
   "cell_type": "code",
   "execution_count": 24,
   "id": "daebb966",
   "metadata": {},
   "outputs": [
    {
     "name": "stdout",
     "output_type": "stream",
     "text": [
      "Mini-Batch Gradient Descent (Batch size = 32):\n",
      "Accuracy: 0.48\n"
     ]
    }
   ],
   "source": [
    "# ---------- 3. Mini-Batch Gradient Descent (Custom partial_fit loop) ----------\n",
    "mini_model = SGDClassifier(loss='log', penalty='l2', learning_rate='optimal', max_iter=1, random_state=123, warm_start=True)\n",
    "batch_size = 32\n",
    "for _ in range(100):  # epochs\n",
    "    for i in range(0, X_train.shape[0], batch_size):\n",
    "        X_batch = X_train.iloc[i:i+batch_size]\n",
    "        y_batch = y_train.iloc[i:i+batch_size]\n",
    "        mini_model.partial_fit(X_batch, y_batch, classes=np.array([0, 1]))\n",
    "pred_mini = mini_model.predict(X_test)\n",
    "acc_mini = accuracy_score(y_test, pred_mini)\n",
    "print(\"Mini-Batch Gradient Descent (Batch size = 32):\")\n",
    "print(\"Accuracy:\", acc_mini)"
   ]
  },
  {
   "cell_type": "code",
   "execution_count": 25,
   "id": "d226d4b9",
   "metadata": {},
   "outputs": [
    {
     "data": {
      "image/png": "[encoded data removed]",
      "text/plain": [
       "<Figure size 576x360 with 1 Axes>"
      ]
     },
     "metadata": {
      "needs_background": "light"
     },
     "output_type": "display_data"
    }
   ],
   "source": [
    "# ---------- Plot Accuracy Comparison ----------\n",
    "labels = ['Batch (LogReg)', 'SGD (1 sample)', 'Mini-Batch (32)']\n",
    "accuracies = [acc_lr, acc_sgd, acc_mini]\n",
    "\n",
    "plt.figure(figsize=(8,5))\n",
    "sns.barplot(x=labels, y=accuracies)\n",
    "plt.ylabel('Accuracy')\n",
    "plt.title('Comparison of Gradient Descent Types')\n",
    "plt.ylim(0, 1)\n",
    "plt.grid(True)\n",
    "plt.show()"
   ]
  },
  {
   "cell_type": "code",
   "execution_count": 26,
   "id": "d7ac5de7",
   "metadata": {},
   "outputs": [
    {
     "name": "stdout",
     "output_type": "stream",
     "text": [
      "✅ Batch Gradient Descent (LogisticRegression):\n",
      "Accuracy: 0.53\n",
      "Confusion Matrix:\n",
      " [[51 44]\n",
      " [50 55]]\n",
      "Classification Report:\n",
      "               precision    recall  f1-score   support\n",
      "\n",
      "           0       0.50      0.54      0.52        95\n",
      "           1       0.56      0.52      0.54       105\n",
      "\n",
      "    accuracy                           0.53       200\n",
      "   macro avg       0.53      0.53      0.53       200\n",
      "weighted avg       0.53      0.53      0.53       200\n",
      "\n",
      "\n",
      "✅ Stochastic Gradient Descent (SGD - 1 sample):\n",
      "Accuracy: 0.525\n",
      "Confusion Matrix:\n",
      " [[  0  95]\n",
      " [  0 105]]\n",
      "Classification Report:\n",
      "               precision    recall  f1-score   support\n",
      "\n",
      "           0       0.00      0.00      0.00        95\n",
      "           1       0.53      1.00      0.69       105\n",
      "\n",
      "    accuracy                           0.53       200\n",
      "   macro avg       0.26      0.50      0.34       200\n",
      "weighted avg       0.28      0.53      0.36       200\n",
      "\n",
      "\n",
      "✅ Mini-Batch Gradient Descent (Batch size = 32):\n",
      "Accuracy: 0.48\n",
      "Confusion Matrix:\n",
      " [[ 94   1]\n",
      " [103   2]]\n",
      "Classification Report:\n",
      "               precision    recall  f1-score   support\n",
      "\n",
      "           0       0.48      0.99      0.64        95\n",
      "           1       0.67      0.02      0.04       105\n",
      "\n",
      "    accuracy                           0.48       200\n",
      "   macro avg       0.57      0.50      0.34       200\n",
      "weighted avg       0.58      0.48      0.33       200\n",
      "\n"
     ]
    },
    {
     "name": "stderr",
     "output_type": "stream",
     "text": [
      "c:\\Users\\Mo\\anaconda3\\lib\\site-packages\\sklearn\\metrics\\_classification.py:1318: UndefinedMetricWarning: Precision and F-score are ill-defined and being set to 0.0 in labels with no predicted samples. Use `zero_division` parameter to control this behavior.\n",
      "  _warn_prf(average, modifier, msg_start, len(result))\n",
      "c:\\Users\\Mo\\anaconda3\\lib\\site-packages\\sklearn\\metrics\\_classification.py:1318: UndefinedMetricWarning: Precision and F-score are ill-defined and being set to 0.0 in labels with no predicted samples. Use `zero_division` parameter to control this behavior.\n",
      "  _warn_prf(average, modifier, msg_start, len(result))\n",
      "c:\\Users\\Mo\\anaconda3\\lib\\site-packages\\sklearn\\metrics\\_classification.py:1318: UndefinedMetricWarning: Precision and F-score are ill-defined and being set to 0.0 in labels with no predicted samples. Use `zero_division` parameter to control this behavior.\n",
      "  _warn_prf(average, modifier, msg_start, len(result))\n"
     ]
    }
   ],
   "source": [
    "from sklearn.metrics import accuracy_score, confusion_matrix, classification_report\n",
    "\n",
    "# ---------- 1. Batch Gradient Descent (LogisticRegression) ----------\n",
    "print(\"✅ Batch Gradient Descent (LogisticRegression):\")\n",
    "print(\"Accuracy:\", acc_lr)\n",
    "print(\"Confusion Matrix:\\n\", confusion_matrix(y_test, pred_lr))\n",
    "print(\"Classification Report:\\n\", classification_report(y_test, pred_lr))\n",
    "\n",
    "# ---------- 2. Stochastic Gradient Descent (SGDClassifier) ----------\n",
    "print(\"\\n✅ Stochastic Gradient Descent (SGD - 1 sample):\")\n",
    "print(\"Accuracy:\", acc_sgd)\n",
    "print(\"Confusion Matrix:\\n\", confusion_matrix(y_test, pred_sgd))\n",
    "print(\"Classification Report:\\n\", classification_report(y_test, pred_sgd))\n",
    "\n",
    "# ---------- 3. Mini-Batch Gradient Descent (batch size = 32) ----------\n",
    "print(\"\\n✅ Mini-Batch Gradient Descent (Batch size = 32):\")\n",
    "print(\"Accuracy:\", acc_mini)\n",
    "print(\"Confusion Matrix:\\n\", confusion_matrix(y_test, pred_mini))\n",
    "print(\"Classification Report:\\n\", classification_report(y_test, pred_mini))\n"
   ]
  }
 ],
 "metadata": {
  "kernelspec": {
   "display_name": "base",
   "language": "python",
   "name": "python3"
  },
  "language_info": {
   "codemirror_mode": {
    "name": "ipython",
    "version": 3
   },
   "file_extension": ".py",
   "mimetype": "text/x-python",
   "name": "python",
   "nbconvert_exporter": "python",
   "pygments_lexer": "ipython3",
   "version": "3.9.12"
  }
 },
 "nbformat": 4,
 "nbformat_minor": 5
}

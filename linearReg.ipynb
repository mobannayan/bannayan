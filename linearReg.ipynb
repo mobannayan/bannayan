{
 "cells": [
  {
   "cell_type": "code",
   "execution_count": 99,
   "metadata": {},
   "outputs": [],
   "source": [
    "import pandas as pd\n",
    "import numpy as np\n",
    "import matplotlib.pyplot as plt  # Correct import statement\n",
    "from sklearn.model_selection import train_test_split\n",
    "from sklearn import linear_model"
   ]
  },
  {
   "cell_type": "code",
   "execution_count": 104,
   "metadata": {},
   "outputs": [],
   "source": [
    "np.random.seed(0)  # For reproducibility\n",
    "\n",
    "data = {\n",
    "    'name': ['Student_' + str(i) for i in range(1, 31)],\n",
    "    'sex': np.random.choice(['F', 'M'], size=30),  # Categorical variable for sex\n",
    "    'mindset': np.random.choice(['Fair', 'Good', 'Strong', 'Expert'], size=30),  # Categorical variable for mindset\n",
    "    'math_score': np.random.randint(70, 101, size=30),\n",
    "    'bio_score': np.random.randint(70, 101, size=30),\n",
    "    'age': np.random.randint(16, 19, size=30),\n",
    "    'student_job': np.random.choice(['Part-time', 'None'], size=30),\n",
    "    'GP': np.round(np.random.uniform(2.5, 4.0, size=30), 2),\n",
    "    'studytime': np.random.randint(1, 5, size=30)  # Random integer between 1 and 4 hours\n",
    "}\n",
    "\n",
    "# Create a DataFrame\n",
    "df = pd.DataFrame(data)\n",
    "\n",
    "# Save the DataFrame to a CSV file\n",
    "df.to_csv('mydata.csv', index=True)"
   ]
  },
  {
   "cell_type": "code",
   "execution_count": 105,
   "metadata": {},
   "outputs": [
    {
     "data": {
      "text/html": [
       "<div>\n",
       "<style scoped>\n",
       "    .dataframe tbody tr th:only-of-type {\n",
       "        vertical-align: middle;\n",
       "    }\n",
       "\n",
       "    .dataframe tbody tr th {\n",
       "        vertical-align: top;\n",
       "    }\n",
       "\n",
       "    .dataframe thead th {\n",
       "        text-align: right;\n",
       "    }\n",
       "</style>\n",
       "<table border=\"1\" class=\"dataframe\">\n",
       "  <thead>\n",
       "    <tr style=\"text-align: right;\">\n",
       "      <th></th>\n",
       "      <th>name</th>\n",
       "      <th>sex</th>\n",
       "      <th>mindset</th>\n",
       "      <th>math_score</th>\n",
       "      <th>bio_score</th>\n",
       "      <th>age</th>\n",
       "      <th>student_job</th>\n",
       "      <th>GP</th>\n",
       "      <th>studytime</th>\n",
       "    </tr>\n",
       "  </thead>\n",
       "  <tbody>\n",
       "    <tr>\n",
       "      <th>0</th>\n",
       "      <td>Student_1</td>\n",
       "      <td>F</td>\n",
       "      <td>Good</td>\n",
       "      <td>73</td>\n",
       "      <td>81</td>\n",
       "      <td>17</td>\n",
       "      <td>Part-time</td>\n",
       "      <td>3.10</td>\n",
       "      <td>4</td>\n",
       "    </tr>\n",
       "    <tr>\n",
       "      <th>1</th>\n",
       "      <td>Student_2</td>\n",
       "      <td>M</td>\n",
       "      <td>Fair</td>\n",
       "      <td>100</td>\n",
       "      <td>84</td>\n",
       "      <td>17</td>\n",
       "      <td>None</td>\n",
       "      <td>3.33</td>\n",
       "      <td>2</td>\n",
       "    </tr>\n",
       "    <tr>\n",
       "      <th>2</th>\n",
       "      <td>Student_3</td>\n",
       "      <td>M</td>\n",
       "      <td>Expert</td>\n",
       "      <td>81</td>\n",
       "      <td>88</td>\n",
       "      <td>17</td>\n",
       "      <td>Part-time</td>\n",
       "      <td>2.75</td>\n",
       "      <td>3</td>\n",
       "    </tr>\n",
       "    <tr>\n",
       "      <th>3</th>\n",
       "      <td>Student_4</td>\n",
       "      <td>F</td>\n",
       "      <td>Fair</td>\n",
       "      <td>88</td>\n",
       "      <td>97</td>\n",
       "      <td>16</td>\n",
       "      <td>None</td>\n",
       "      <td>3.05</td>\n",
       "      <td>2</td>\n",
       "    </tr>\n",
       "    <tr>\n",
       "      <th>4</th>\n",
       "      <td>Student_5</td>\n",
       "      <td>M</td>\n",
       "      <td>Expert</td>\n",
       "      <td>93</td>\n",
       "      <td>70</td>\n",
       "      <td>17</td>\n",
       "      <td>None</td>\n",
       "      <td>2.72</td>\n",
       "      <td>4</td>\n",
       "    </tr>\n",
       "  </tbody>\n",
       "</table>\n",
       "</div>"
      ],
      "text/plain": [
       "        name sex mindset  math_score  bio_score  age student_job    GP  \\\n",
       "0  Student_1   F    Good          73         81   17   Part-time  3.10   \n",
       "1  Student_2   M    Fair         100         84   17        None  3.33   \n",
       "2  Student_3   M  Expert          81         88   17   Part-time  2.75   \n",
       "3  Student_4   F    Fair          88         97   16        None  3.05   \n",
       "4  Student_5   M  Expert          93         70   17        None  2.72   \n",
       "\n",
       "   studytime  \n",
       "0          4  \n",
       "1          2  \n",
       "2          3  \n",
       "3          2  \n",
       "4          4  "
      ]
     },
     "execution_count": 105,
     "metadata": {},
     "output_type": "execute_result"
    }
   ],
   "source": [
    "df.head()"
   ]
  },
  {
   "cell_type": "code",
   "execution_count": 106,
   "metadata": {},
   "outputs": [
    {
     "data": {
      "text/html": [
       "<div>\n",
       "<style scoped>\n",
       "    .dataframe tbody tr th:only-of-type {\n",
       "        vertical-align: middle;\n",
       "    }\n",
       "\n",
       "    .dataframe tbody tr th {\n",
       "        vertical-align: top;\n",
       "    }\n",
       "\n",
       "    .dataframe thead th {\n",
       "        text-align: right;\n",
       "    }\n",
       "</style>\n",
       "<table border=\"1\" class=\"dataframe\">\n",
       "  <thead>\n",
       "    <tr style=\"text-align: right;\">\n",
       "      <th></th>\n",
       "      <th>age</th>\n",
       "      <th>bio_score</th>\n",
       "      <th>studytime</th>\n",
       "      <th>math_score</th>\n",
       "      <th>GP</th>\n",
       "      <th>sex</th>\n",
       "      <th>mindset</th>\n",
       "    </tr>\n",
       "  </thead>\n",
       "  <tbody>\n",
       "    <tr>\n",
       "      <th>0</th>\n",
       "      <td>17</td>\n",
       "      <td>81</td>\n",
       "      <td>4</td>\n",
       "      <td>73</td>\n",
       "      <td>3.10</td>\n",
       "      <td>F</td>\n",
       "      <td>Good</td>\n",
       "    </tr>\n",
       "    <tr>\n",
       "      <th>1</th>\n",
       "      <td>17</td>\n",
       "      <td>84</td>\n",
       "      <td>2</td>\n",
       "      <td>100</td>\n",
       "      <td>3.33</td>\n",
       "      <td>M</td>\n",
       "      <td>Fair</td>\n",
       "    </tr>\n",
       "    <tr>\n",
       "      <th>2</th>\n",
       "      <td>17</td>\n",
       "      <td>88</td>\n",
       "      <td>3</td>\n",
       "      <td>81</td>\n",
       "      <td>2.75</td>\n",
       "      <td>M</td>\n",
       "      <td>Expert</td>\n",
       "    </tr>\n",
       "    <tr>\n",
       "      <th>3</th>\n",
       "      <td>16</td>\n",
       "      <td>97</td>\n",
       "      <td>2</td>\n",
       "      <td>88</td>\n",
       "      <td>3.05</td>\n",
       "      <td>F</td>\n",
       "      <td>Fair</td>\n",
       "    </tr>\n",
       "    <tr>\n",
       "      <th>4</th>\n",
       "      <td>17</td>\n",
       "      <td>70</td>\n",
       "      <td>4</td>\n",
       "      <td>93</td>\n",
       "      <td>2.72</td>\n",
       "      <td>M</td>\n",
       "      <td>Expert</td>\n",
       "    </tr>\n",
       "    <tr>\n",
       "      <th>5</th>\n",
       "      <td>17</td>\n",
       "      <td>84</td>\n",
       "      <td>2</td>\n",
       "      <td>98</td>\n",
       "      <td>3.35</td>\n",
       "      <td>M</td>\n",
       "      <td>Good</td>\n",
       "    </tr>\n",
       "    <tr>\n",
       "      <th>6</th>\n",
       "      <td>17</td>\n",
       "      <td>73</td>\n",
       "      <td>4</td>\n",
       "      <td>72</td>\n",
       "      <td>3.56</td>\n",
       "      <td>M</td>\n",
       "      <td>Strong</td>\n",
       "    </tr>\n",
       "    <tr>\n",
       "      <th>7</th>\n",
       "      <td>16</td>\n",
       "      <td>91</td>\n",
       "      <td>1</td>\n",
       "      <td>70</td>\n",
       "      <td>2.93</td>\n",
       "      <td>M</td>\n",
       "      <td>Expert</td>\n",
       "    </tr>\n",
       "    <tr>\n",
       "      <th>8</th>\n",
       "      <td>17</td>\n",
       "      <td>82</td>\n",
       "      <td>1</td>\n",
       "      <td>70</td>\n",
       "      <td>3.15</td>\n",
       "      <td>M</td>\n",
       "      <td>Expert</td>\n",
       "    </tr>\n",
       "    <tr>\n",
       "      <th>9</th>\n",
       "      <td>18</td>\n",
       "      <td>95</td>\n",
       "      <td>4</td>\n",
       "      <td>74</td>\n",
       "      <td>3.63</td>\n",
       "      <td>M</td>\n",
       "      <td>Fair</td>\n",
       "    </tr>\n",
       "    <tr>\n",
       "      <th>10</th>\n",
       "      <td>16</td>\n",
       "      <td>80</td>\n",
       "      <td>2</td>\n",
       "      <td>91</td>\n",
       "      <td>3.09</td>\n",
       "      <td>M</td>\n",
       "      <td>Strong</td>\n",
       "    </tr>\n",
       "    <tr>\n",
       "      <th>11</th>\n",
       "      <td>17</td>\n",
       "      <td>90</td>\n",
       "      <td>3</td>\n",
       "      <td>75</td>\n",
       "      <td>3.84</td>\n",
       "      <td>F</td>\n",
       "      <td>Expert</td>\n",
       "    </tr>\n",
       "    <tr>\n",
       "      <th>12</th>\n",
       "      <td>18</td>\n",
       "      <td>81</td>\n",
       "      <td>1</td>\n",
       "      <td>76</td>\n",
       "      <td>3.46</td>\n",
       "      <td>F</td>\n",
       "      <td>Fair</td>\n",
       "    </tr>\n",
       "    <tr>\n",
       "      <th>13</th>\n",
       "      <td>16</td>\n",
       "      <td>74</td>\n",
       "      <td>3</td>\n",
       "      <td>78</td>\n",
       "      <td>3.84</td>\n",
       "      <td>M</td>\n",
       "      <td>Good</td>\n",
       "    </tr>\n",
       "    <tr>\n",
       "      <th>14</th>\n",
       "      <td>18</td>\n",
       "      <td>76</td>\n",
       "      <td>4</td>\n",
       "      <td>90</td>\n",
       "      <td>3.52</td>\n",
       "      <td>F</td>\n",
       "      <td>Expert</td>\n",
       "    </tr>\n",
       "    <tr>\n",
       "      <th>15</th>\n",
       "      <td>16</td>\n",
       "      <td>74</td>\n",
       "      <td>4</td>\n",
       "      <td>87</td>\n",
       "      <td>3.17</td>\n",
       "      <td>F</td>\n",
       "      <td>Good</td>\n",
       "    </tr>\n",
       "    <tr>\n",
       "      <th>16</th>\n",
       "      <td>17</td>\n",
       "      <td>85</td>\n",
       "      <td>3</td>\n",
       "      <td>85</td>\n",
       "      <td>3.97</td>\n",
       "      <td>F</td>\n",
       "      <td>Expert</td>\n",
       "    </tr>\n",
       "    <tr>\n",
       "      <th>17</th>\n",
       "      <td>18</td>\n",
       "      <td>90</td>\n",
       "      <td>4</td>\n",
       "      <td>74</td>\n",
       "      <td>2.67</td>\n",
       "      <td>F</td>\n",
       "      <td>Expert</td>\n",
       "    </tr>\n",
       "    <tr>\n",
       "      <th>18</th>\n",
       "      <td>18</td>\n",
       "      <td>73</td>\n",
       "      <td>2</td>\n",
       "      <td>79</td>\n",
       "      <td>3.65</td>\n",
       "      <td>F</td>\n",
       "      <td>Strong</td>\n",
       "    </tr>\n",
       "    <tr>\n",
       "      <th>19</th>\n",
       "      <td>17</td>\n",
       "      <td>82</td>\n",
       "      <td>2</td>\n",
       "      <td>80</td>\n",
       "      <td>3.12</td>\n",
       "      <td>M</td>\n",
       "      <td>Expert</td>\n",
       "    </tr>\n",
       "    <tr>\n",
       "      <th>20</th>\n",
       "      <td>16</td>\n",
       "      <td>74</td>\n",
       "      <td>2</td>\n",
       "      <td>96</td>\n",
       "      <td>3.51</td>\n",
       "      <td>F</td>\n",
       "      <td>Fair</td>\n",
       "    </tr>\n",
       "    <tr>\n",
       "      <th>21</th>\n",
       "      <td>17</td>\n",
       "      <td>90</td>\n",
       "      <td>4</td>\n",
       "      <td>94</td>\n",
       "      <td>2.87</td>\n",
       "      <td>M</td>\n",
       "      <td>Good</td>\n",
       "    </tr>\n",
       "    <tr>\n",
       "      <th>22</th>\n",
       "      <td>17</td>\n",
       "      <td>78</td>\n",
       "      <td>3</td>\n",
       "      <td>71</td>\n",
       "      <td>2.97</td>\n",
       "      <td>M</td>\n",
       "      <td>Good</td>\n",
       "    </tr>\n",
       "    <tr>\n",
       "      <th>23</th>\n",
       "      <td>16</td>\n",
       "      <td>84</td>\n",
       "      <td>1</td>\n",
       "      <td>71</td>\n",
       "      <td>3.95</td>\n",
       "      <td>F</td>\n",
       "      <td>Good</td>\n",
       "    </tr>\n",
       "    <tr>\n",
       "      <th>24</th>\n",
       "      <td>18</td>\n",
       "      <td>85</td>\n",
       "      <td>1</td>\n",
       "      <td>77</td>\n",
       "      <td>3.38</td>\n",
       "      <td>F</td>\n",
       "      <td>Expert</td>\n",
       "    </tr>\n",
       "    <tr>\n",
       "      <th>25</th>\n",
       "      <td>18</td>\n",
       "      <td>90</td>\n",
       "      <td>2</td>\n",
       "      <td>79</td>\n",
       "      <td>3.49</td>\n",
       "      <td>M</td>\n",
       "      <td>Fair</td>\n",
       "    </tr>\n",
       "    <tr>\n",
       "      <th>26</th>\n",
       "      <td>18</td>\n",
       "      <td>73</td>\n",
       "      <td>1</td>\n",
       "      <td>95</td>\n",
       "      <td>3.30</td>\n",
       "      <td>M</td>\n",
       "      <td>Expert</td>\n",
       "    </tr>\n",
       "    <tr>\n",
       "      <th>27</th>\n",
       "      <td>18</td>\n",
       "      <td>96</td>\n",
       "      <td>4</td>\n",
       "      <td>73</td>\n",
       "      <td>2.85</td>\n",
       "      <td>M</td>\n",
       "      <td>Strong</td>\n",
       "    </tr>\n",
       "    <tr>\n",
       "      <th>28</th>\n",
       "      <td>17</td>\n",
       "      <td>93</td>\n",
       "      <td>3</td>\n",
       "      <td>76</td>\n",
       "      <td>3.09</td>\n",
       "      <td>M</td>\n",
       "      <td>Fair</td>\n",
       "    </tr>\n",
       "    <tr>\n",
       "      <th>29</th>\n",
       "      <td>18</td>\n",
       "      <td>85</td>\n",
       "      <td>4</td>\n",
       "      <td>93</td>\n",
       "      <td>3.43</td>\n",
       "      <td>F</td>\n",
       "      <td>Expert</td>\n",
       "    </tr>\n",
       "  </tbody>\n",
       "</table>\n",
       "</div>"
      ],
      "text/plain": [
       "    age  bio_score  studytime  math_score    GP sex mindset\n",
       "0    17         81          4          73  3.10   F    Good\n",
       "1    17         84          2         100  3.33   M    Fair\n",
       "2    17         88          3          81  2.75   M  Expert\n",
       "3    16         97          2          88  3.05   F    Fair\n",
       "4    17         70          4          93  2.72   M  Expert\n",
       "5    17         84          2          98  3.35   M    Good\n",
       "6    17         73          4          72  3.56   M  Strong\n",
       "7    16         91          1          70  2.93   M  Expert\n",
       "8    17         82          1          70  3.15   M  Expert\n",
       "9    18         95          4          74  3.63   M    Fair\n",
       "10   16         80          2          91  3.09   M  Strong\n",
       "11   17         90          3          75  3.84   F  Expert\n",
       "12   18         81          1          76  3.46   F    Fair\n",
       "13   16         74          3          78  3.84   M    Good\n",
       "14   18         76          4          90  3.52   F  Expert\n",
       "15   16         74          4          87  3.17   F    Good\n",
       "16   17         85          3          85  3.97   F  Expert\n",
       "17   18         90          4          74  2.67   F  Expert\n",
       "18   18         73          2          79  3.65   F  Strong\n",
       "19   17         82          2          80  3.12   M  Expert\n",
       "20   16         74          2          96  3.51   F    Fair\n",
       "21   17         90          4          94  2.87   M    Good\n",
       "22   17         78          3          71  2.97   M    Good\n",
       "23   16         84          1          71  3.95   F    Good\n",
       "24   18         85          1          77  3.38   F  Expert\n",
       "25   18         90          2          79  3.49   M    Fair\n",
       "26   18         73          1          95  3.30   M  Expert\n",
       "27   18         96          4          73  2.85   M  Strong\n",
       "28   17         93          3          76  3.09   M    Fair\n",
       "29   18         85          4          93  3.43   F  Expert"
      ]
     },
     "execution_count": 106,
     "metadata": {},
     "output_type": "execute_result"
    }
   ],
   "source": [
    "df=df[['age','bio_score', 'studytime','math_score', 'GP', 'sex', 'mindset']]\n",
    "df"
   ]
  },
  {
   "cell_type": "code",
   "execution_count": 107,
   "metadata": {},
   "outputs": [
    {
     "data": {
      "text/plain": [
       "array(['Good', 'Fair', 'Expert', 'Strong'], dtype=object)"
      ]
     },
     "execution_count": 107,
     "metadata": {},
     "output_type": "execute_result"
    }
   ],
   "source": [
    "df.mindset.unique()"
   ]
  },
  {
   "cell_type": "code",
   "execution_count": 108,
   "metadata": {},
   "outputs": [],
   "source": [
    "# one way to change categorial to 0 or 1 by code:\n",
    "df['n_sex']=[0 if i=='F' else 1 for i in df['sex']]"
   ]
  },
  {
   "cell_type": "code",
   "execution_count": 109,
   "metadata": {},
   "outputs": [
    {
     "data": {
      "text/html": [
       "<div>\n",
       "<style scoped>\n",
       "    .dataframe tbody tr th:only-of-type {\n",
       "        vertical-align: middle;\n",
       "    }\n",
       "\n",
       "    .dataframe tbody tr th {\n",
       "        vertical-align: top;\n",
       "    }\n",
       "\n",
       "    .dataframe thead th {\n",
       "        text-align: right;\n",
       "    }\n",
       "</style>\n",
       "<table border=\"1\" class=\"dataframe\">\n",
       "  <thead>\n",
       "    <tr style=\"text-align: right;\">\n",
       "      <th></th>\n",
       "      <th>age</th>\n",
       "      <th>bio_score</th>\n",
       "      <th>studytime</th>\n",
       "      <th>math_score</th>\n",
       "      <th>GP</th>\n",
       "      <th>sex</th>\n",
       "      <th>mindset</th>\n",
       "      <th>n_sex</th>\n",
       "    </tr>\n",
       "  </thead>\n",
       "  <tbody>\n",
       "    <tr>\n",
       "      <th>0</th>\n",
       "      <td>17</td>\n",
       "      <td>81</td>\n",
       "      <td>4</td>\n",
       "      <td>73</td>\n",
       "      <td>3.10</td>\n",
       "      <td>F</td>\n",
       "      <td>Good</td>\n",
       "      <td>0</td>\n",
       "    </tr>\n",
       "    <tr>\n",
       "      <th>1</th>\n",
       "      <td>17</td>\n",
       "      <td>84</td>\n",
       "      <td>2</td>\n",
       "      <td>100</td>\n",
       "      <td>3.33</td>\n",
       "      <td>M</td>\n",
       "      <td>Fair</td>\n",
       "      <td>1</td>\n",
       "    </tr>\n",
       "    <tr>\n",
       "      <th>2</th>\n",
       "      <td>17</td>\n",
       "      <td>88</td>\n",
       "      <td>3</td>\n",
       "      <td>81</td>\n",
       "      <td>2.75</td>\n",
       "      <td>M</td>\n",
       "      <td>Expert</td>\n",
       "      <td>1</td>\n",
       "    </tr>\n",
       "    <tr>\n",
       "      <th>3</th>\n",
       "      <td>16</td>\n",
       "      <td>97</td>\n",
       "      <td>2</td>\n",
       "      <td>88</td>\n",
       "      <td>3.05</td>\n",
       "      <td>F</td>\n",
       "      <td>Fair</td>\n",
       "      <td>0</td>\n",
       "    </tr>\n",
       "    <tr>\n",
       "      <th>4</th>\n",
       "      <td>17</td>\n",
       "      <td>70</td>\n",
       "      <td>4</td>\n",
       "      <td>93</td>\n",
       "      <td>2.72</td>\n",
       "      <td>M</td>\n",
       "      <td>Expert</td>\n",
       "      <td>1</td>\n",
       "    </tr>\n",
       "  </tbody>\n",
       "</table>\n",
       "</div>"
      ],
      "text/plain": [
       "   age  bio_score  studytime  math_score    GP sex mindset  n_sex\n",
       "0   17         81          4          73  3.10   F    Good      0\n",
       "1   17         84          2         100  3.33   M    Fair      1\n",
       "2   17         88          3          81  2.75   M  Expert      1\n",
       "3   16         97          2          88  3.05   F    Fair      0\n",
       "4   17         70          4          93  2.72   M  Expert      1"
      ]
     },
     "execution_count": 109,
     "metadata": {},
     "output_type": "execute_result"
    }
   ],
   "source": [
    "df.head()"
   ]
  },
  {
   "cell_type": "code",
   "execution_count": 114,
   "metadata": {},
   "outputs": [],
   "source": [
    "X = df.drop(columns=['GP','sex', 'mindset'])\n",
    "\n",
    "# Define y as the 'GP' column\n",
    "y = df['GP']"
   ]
  },
  {
   "cell_type": "code",
   "execution_count": null,
   "metadata": {},
   "outputs": [],
   "source": [
    "X_train, X_test, y_train, y_test = train_test_split(X,y,test_size=0.1)"
   ]
  },
  {
   "cell_type": "code",
   "execution_count": 116,
   "metadata": {},
   "outputs": [
    {
     "data": {
      "text/plain": [
       "(27, 5)"
      ]
     },
     "execution_count": 116,
     "metadata": {},
     "output_type": "execute_result"
    }
   ],
   "source": [
    "X_train.shape"
   ]
  },
  {
   "cell_type": "code",
   "execution_count": 117,
   "metadata": {},
   "outputs": [],
   "source": [
    "model=linear_model.LinearRegression()\n",
    "model.fit(X_train, y_train)\n",
    "acc=model.score(X_test, y_test)"
   ]
  },
  {
   "cell_type": "code",
   "execution_count": 118,
   "metadata": {},
   "outputs": [
    {
     "name": "stdout",
     "output_type": "stream",
     "text": [
      "0.6662208376592977\n"
     ]
    }
   ],
   "source": [
    "print(acc)"
   ]
  },
  {
   "cell_type": "code",
   "execution_count": 119,
   "metadata": {},
   "outputs": [
    {
     "data": {
      "text/plain": [
       "array([ 0.00051901, -0.00833703, -0.06163764, -0.0042061 , -0.24578515])"
      ]
     },
     "execution_count": 119,
     "metadata": {},
     "output_type": "execute_result"
    }
   ],
   "source": [
    "model.coef_"
   ]
  },
  {
   "cell_type": "code",
   "execution_count": 120,
   "metadata": {},
   "outputs": [
    {
     "data": {
      "text/plain": [
       "4.617483835825149"
      ]
     },
     "execution_count": 120,
     "metadata": {},
     "output_type": "execute_result"
    }
   ],
   "source": [
    "model.intercept_"
   ]
  },
  {
   "cell_type": "code",
   "execution_count": 121,
   "metadata": {},
   "outputs": [
    {
     "name": "stdout",
     "output_type": "stream",
     "text": [
      "Real : 2.87, Predicted: 3.3360643393784635\n",
      "**********************************************\n",
      "Real : 3.52, Predicted: 3.5578576952528747\n",
      "**********************************************\n",
      "Real : 3.33, Predicted: 3.257526941486801\n",
      "**********************************************\n"
     ]
    }
   ],
   "source": [
    "for i in range(len(predicted)):\n",
    "    print(f\"Real : {y_test.iloc[i]}, Predicted: {predicted[i]}\")\n",
    "    print(\"**********************************************\")"
   ]
  },
  {
   "cell_type": "code",
   "execution_count": 122,
   "metadata": {},
   "outputs": [
    {
     "name": "stdout",
     "output_type": "stream",
     "text": [
      "Best accuracy: 0.7863267573435471\n"
     ]
    }
   ],
   "source": [
    "epoch=30\n",
    "best = 0\n",
    "\n",
    "# Loop to find best accuracy\n",
    "for i in range(epoch):\n",
    "    X_train, X_test, y_train, y_test = train_test_split(X, y, test_size=0.1)\n",
    "    model = linear_model.LinearRegression()\n",
    "    model.fit(X_train, y_train)\n",
    "    acc = model.score(X_test, y_test)\n",
    "    if acc > best:  # Correct logic to find the best accuracy\n",
    "        best = acc\n",
    "\n",
    "print(f\"Best accuracy: {best}\")"
   ]
  },
  {
   "cell_type": "markdown",
   "metadata": {},
   "source": [
    "### A new other way to add categorial features"
   ]
  },
  {
   "cell_type": "code",
   "execution_count": 123,
   "metadata": {},
   "outputs": [],
   "source": [
    "from sklearn import preprocessing"
   ]
  },
  {
   "cell_type": "code",
   "execution_count": 129,
   "metadata": {},
   "outputs": [],
   "source": [
    "myPreprocessing=preprocessing.LabelEncoder()\n",
    "sex=myPreprocessing.fit_transform(list(df['sex']))\n",
    "mindset=mypreprocessing.fit_transform(list(df['mindset']))"
   ]
  },
  {
   "cell_type": "code",
   "execution_count": 130,
   "metadata": {},
   "outputs": [
    {
     "data": {
      "text/plain": [
       "array([2, 1, 0, 1, 0, 2, 3, 0, 0, 1, 3, 0, 1, 2, 0, 2, 0, 0, 3, 0, 1, 2,\n",
       "       2, 2, 0, 1, 0, 3, 1, 0])"
      ]
     },
     "execution_count": 130,
     "metadata": {},
     "output_type": "execute_result"
    }
   ],
   "source": [
    "mindset"
   ]
  },
  {
   "cell_type": "code",
   "execution_count": 138,
   "metadata": {},
   "outputs": [],
   "source": [
    "#Now add new sex and mindset to dataframe use zip \n",
    "X = list(zip(df['age'], df['bio_score'], df['studytime'], df['math_score'], mindset, sex))\n",
    "y=df['GP']\n"
   ]
  },
  {
   "cell_type": "code",
   "execution_count": 139,
   "metadata": {},
   "outputs": [
    {
     "data": {
      "text/plain": [
       "-6.611806405150349"
      ]
     },
     "execution_count": 139,
     "metadata": {},
     "output_type": "execute_result"
    }
   ],
   "source": [
    "X_train, X_test, y_train, y_test = train_test_split(X,y,test_size=0.1, random_state=1234)\n",
    "model=linear_model.LinearRegression()\n",
    "model.fit(X_train, y_train)\n",
    "score=model.score(X_test,y_test)\n",
    "score"
   ]
  }
 ],
 "metadata": {
  "kernelspec": {
   "display_name": "base",
   "language": "python",
   "name": "python3"
  },
  "language_info": {
   "codemirror_mode": {
    "name": "ipython",
    "version": 3
   },
   "file_extension": ".py",
   "mimetype": "text/x-python",
   "name": "python",
   "nbconvert_exporter": "python",
   "pygments_lexer": "ipython3",
   "version": "3.9.12"
  }
 },
 "nbformat": 4,
 "nbformat_minor": 2
}

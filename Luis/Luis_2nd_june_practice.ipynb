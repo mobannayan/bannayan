{
 "cells": [
  {
   "cell_type": "code",
   "execution_count": 1,
   "id": "062446c1",
   "metadata": {},
   "outputs": [
    {
     "name": "stdout",
     "output_type": "stream",
     "text": [
      "30\n"
     ]
    }
   ],
   "source": [
    "age = 20\n",
    "age = 30\n",
    "price = 19.95\n",
    "# multiple names\n",
    "first_name= 'Mo'\n",
    "is_online = True\n",
    "print(age)\n"
   ]
  },
  {
   "cell_type": "code",
   "execution_count": 2,
   "id": "9a5a0ff0",
   "metadata": {},
   "outputs": [
    {
     "name": "stdout",
     "output_type": "stream",
     "text": [
      "hello gg\n"
     ]
    }
   ],
   "source": [
    "input('what is your name?')\n",
    "name = input('what is your name?')\n",
    "print('hello '+ name)"
   ]
  },
  {
   "cell_type": "code",
   "execution_count": null,
   "id": "3dea1d45",
   "metadata": {},
   "outputs": [
    {
     "name": "stdout",
     "output_type": "stream",
     "text": [
      "35\n"
     ]
    }
   ],
   "source": [
    "birth_year=input('enter your birth Year: ')\n",
    "#age = 2025-birth_year\n",
    "#print(age)\n",
    "\n",
    "#birth_year as input is string so we need to convert its type\n",
    "age = 2025-int(birth_year)\n",
    "print(age)"
   ]
  },
  {
   "cell_type": "code",
   "execution_count": 1,
   "id": "1b366731",
   "metadata": {},
   "outputs": [
    {
     "name": "stdout",
     "output_type": "stream",
     "text": [
      "1020\n"
     ]
    }
   ],
   "source": [
    "first = input(\"First: \")\n",
    "second = input(\"Second: \")\n",
    "sum = first + second\n",
    "print(sum)"
   ]
  },
  {
   "cell_type": "code",
   "execution_count": 2,
   "id": "35d3b77e",
   "metadata": {},
   "outputs": [
    {
     "name": "stdout",
     "output_type": "stream",
     "text": [
      "30\n"
     ]
    }
   ],
   "source": [
    "first = input(\"First: \")\n",
    "second = input(\"Second: \")\n",
    "sum = int(first) + int(second)\n",
    "print(sum)"
   ]
  },
  {
   "cell_type": "code",
   "execution_count": null,
   "id": "865ba6f5",
   "metadata": {},
   "outputs": [
    {
     "name": "stdout",
     "output_type": "stream",
     "text": [
      "30.299999999999997\n",
      "30 2\n"
     ]
    }
   ],
   "source": [
    "first = input(\"First: \")\n",
    "second = input(\"Second: \")\n",
    "sum = float(first) + float(second)\n",
    "print(sum)\n",
    "#print(round(sum),2)"
   ]
  },
  {
   "cell_type": "code",
   "execution_count": null,
   "id": "fee86833",
   "metadata": {},
   "outputs": [
    {
     "name": "stdout",
     "output_type": "stream",
     "text": [
      "3\n",
      "h4hj4j4\n",
      "False\n"
     ]
    }
   ],
   "source": [
    "course='hghjgjg'\n",
    "# course.\n",
    "print(course.find('j'))\n",
    "#print(course.replace('g','4'))\n",
    "\n",
    "#print('x' in course)"
   ]
  },
  {
   "cell_type": "code",
   "execution_count": 13,
   "id": "659f1fcd",
   "metadata": {},
   "outputs": [
    {
     "name": "stdout",
     "output_type": "stream",
     "text": [
      "3.3333333333333335\n",
      "3\n",
      "1\n"
     ]
    }
   ],
   "source": [
    "print(10/3)\n",
    "print(10//3)\n",
    "print(10%3)"
   ]
  },
  {
   "cell_type": "code",
   "execution_count": null,
   "id": "bc98201e",
   "metadata": {},
   "outputs": [],
   "source": [
    "x=10\n",
    "x=10+3\n",
    "#x+=3"
   ]
  },
  {
   "cell_type": "code",
   "execution_count": 14,
   "id": "2f177eea",
   "metadata": {},
   "outputs": [
    {
     "name": "stdout",
     "output_type": "stream",
     "text": [
      "16\n",
      "26\n"
     ]
    }
   ],
   "source": [
    "x1=10+3*2\n",
    "print(x1)\n",
    "x2=(10+3)*2\n",
    "print(x2)"
   ]
  },
  {
   "cell_type": "markdown",
   "id": "20090e76",
   "metadata": {},
   "source": [
    "Compare"
   ]
  },
  {
   "cell_type": "code",
   "execution_count": 16,
   "id": "e38223fa",
   "metadata": {},
   "outputs": [
    {
     "data": {
      "text/plain": [
       "True"
      ]
     },
     "execution_count": 16,
     "metadata": {},
     "output_type": "execute_result"
    }
   ],
   "source": [
    "3==2\n",
    "\n",
    "3!=2\n"
   ]
  },
  {
   "cell_type": "markdown",
   "id": "e3f836ff",
   "metadata": {},
   "source": [
    "logical operators"
   ]
  },
  {
   "cell_type": "code",
   "execution_count": null,
   "id": "ff997477",
   "metadata": {},
   "outputs": [
    {
     "name": "stdout",
     "output_type": "stream",
     "text": [
      "it is a fine soil\n"
     ]
    }
   ],
   "source": [
    "clay =30\n",
    "if clay>25:\n",
    "    print(\"it is a fine soil\")\n",
    "#shift+tab"
   ]
  },
  {
   "cell_type": "code",
   "execution_count": 18,
   "id": "7f718030",
   "metadata": {},
   "outputs": [],
   "source": [
    "clay =30\n",
    "if clay<25:\n",
    "    print(\"it is a fine soil\")"
   ]
  },
  {
   "cell_type": "code",
   "execution_count": 20,
   "id": "fa39d328",
   "metadata": {},
   "outputs": [
    {
     "name": "stdout",
     "output_type": "stream",
     "text": [
      "done\n"
     ]
    }
   ],
   "source": [
    "if clay>50:\n",
    "    print('it is a fine soil')\n",
    "elif clay>40:\n",
    "    print('again same results')\n",
    "else:\n",
    "    print('done')"
   ]
  },
  {
   "cell_type": "markdown",
   "id": "41221f45",
   "metadata": {},
   "source": [
    "While loops"
   ]
  },
  {
   "cell_type": "code",
   "execution_count": 24,
   "metadata": {},
   "outputs": [
    {
     "name": "stdout",
     "output_type": "stream",
     "text": [
      "*\n",
      "**\n",
      "***\n",
      "****\n",
      "*****\n"
     ]
    }
   ],
   "source": [
    "i = 1\n",
    "while i<=5:\n",
    "    print(i* '*')\n",
    "    i=i+1\n"
   ]
  },
  {
   "cell_type": "code",
   "execution_count": 28,
   "id": "a9bb4bbc",
   "metadata": {},
   "outputs": [
    {
     "name": "stdout",
     "output_type": "stream",
     "text": [
      "['john', 'bob', 'mo', 'yafan']\n",
      "john\n",
      "yafan\n",
      "mo\n"
     ]
    }
   ],
   "source": [
    "names=['john', 'bob', 'mo', 'yafan']\n",
    "print(names)\n",
    "print(names[0])\n",
    "print(names[-1])\n",
    "print(names[-2])"
   ]
  },
  {
   "cell_type": "code",
   "execution_count": 29,
   "id": "0ba65b63",
   "metadata": {},
   "outputs": [
    {
     "data": {
      "text/plain": [
       "['adam', 'bob', 'mo', 'yafan']"
      ]
     },
     "execution_count": 29,
     "metadata": {},
     "output_type": "execute_result"
    }
   ],
   "source": [
    "names[0]='adam'\n",
    "names"
   ]
  },
  {
   "cell_type": "code",
   "execution_count": 30,
   "id": "ae716307",
   "metadata": {},
   "outputs": [
    {
     "data": {
      "text/plain": [
       "['adam', 'bob']"
      ]
     },
     "execution_count": 30,
     "metadata": {},
     "output_type": "execute_result"
    }
   ],
   "source": [
    "names[0:2]"
   ]
  },
  {
   "cell_type": "code",
   "execution_count": 37,
   "id": "6eea8369",
   "metadata": {},
   "outputs": [
    {
     "data": {
      "text/plain": [
       "[1, 2, 3, 4, 5, 6]"
      ]
     },
     "execution_count": 37,
     "metadata": {},
     "output_type": "execute_result"
    }
   ],
   "source": [
    "numbers = [1,2,3,4,5]\n",
    "numbers.append(6)\n",
    "numbers"
   ]
  },
  {
   "cell_type": "code",
   "execution_count": 38,
   "id": "ce350812",
   "metadata": {},
   "outputs": [
    {
     "data": {
      "text/plain": [
       "[-1, 1, 2, 3, 4, 5, 6]"
      ]
     },
     "execution_count": 38,
     "metadata": {},
     "output_type": "execute_result"
    }
   ],
   "source": [
    "#numbers.insert(index, value)\n",
    "numbers.insert(0, -1)\n",
    "numbers"
   ]
  },
  {
   "cell_type": "code",
   "execution_count": 39,
   "id": "0d2768fd",
   "metadata": {},
   "outputs": [
    {
     "data": {
      "text/plain": [
       "[-1, 1, 2, 4, 5, 6]"
      ]
     },
     "execution_count": 39,
     "metadata": {},
     "output_type": "execute_result"
    }
   ],
   "source": [
    "numbers.remove(3)\n",
    "numbers"
   ]
  },
  {
   "cell_type": "code",
   "execution_count": 40,
   "id": "6331a855",
   "metadata": {},
   "outputs": [
    {
     "data": {
      "text/plain": [
       "True"
      ]
     },
     "execution_count": 40,
     "metadata": {},
     "output_type": "execute_result"
    }
   ],
   "source": [
    "#Boolean valu\n",
    "numbers=[1, 2, 3, 4, 5]\n",
    "4 in numbers"
   ]
  },
  {
   "cell_type": "code",
   "execution_count": 41,
   "id": "39a3457d",
   "metadata": {},
   "outputs": [
    {
     "data": {
      "text/plain": [
       "5"
      ]
     },
     "execution_count": 41,
     "metadata": {},
     "output_type": "execute_result"
    }
   ],
   "source": [
    "len(numbers)"
   ]
  },
  {
   "cell_type": "code",
   "execution_count": 44,
   "id": "e12a2252",
   "metadata": {},
   "outputs": [
    {
     "name": "stdout",
     "output_type": "stream",
     "text": [
      "3\n",
      "4\n",
      "5\n",
      "6\n",
      "7\n"
     ]
    }
   ],
   "source": [
    "#for loop\n",
    "numbers = [1, 2, 3, 4, 5]\n",
    "for item in numbers:\n",
    "    x1 = item+2\n",
    "    print(x1)"
   ]
  },
  {
   "cell_type": "code",
   "execution_count": null,
   "id": "7e5ca4aa",
   "metadata": {},
   "outputs": [],
   "source": [
    "#alternate adding 2 and 10\n",
    "numbers = [1, 2, 3, 4, 5]\n",
    "\n",
    "for i, item in enumerate(numbers):\n",
    "    if i % 2 == 0:  # even index (0, 2, 4...)\n",
    "        print(item + 2)\n",
    "    else:  # odd index (1, 3, ...)\n",
    "        print(item + 10)\n",
    "    \n",
    "#i → the index of the current item (e.g., 0 for the first, 1 for the second, etc.)\n",
    "\n",
    "#item → the actual value from the list (e.g., 1, 2, 3...)"
   ]
  },
  {
   "cell_type": "code",
   "execution_count": 47,
   "id": "f8da4144",
   "metadata": {},
   "outputs": [
    {
     "name": "stdout",
     "output_type": "stream",
     "text": [
      "3\n",
      "12\n",
      "4\n",
      "13\n",
      "6\n",
      "15\n",
      "7\n",
      "16\n",
      "9\n",
      "17\n"
     ]
    }
   ],
   "source": [
    "numbers = [1, 2, 2, 3, 4, 5, 5, 6, 7, 7]\n",
    "\n",
    "for i, item in enumerate(numbers):#ou are calculating the remainder when i (the index) is divided by 2.\n",
    "    if i % 2 == 0:\n",
    "        print(item + 2)\n",
    "    else:\n",
    "        print(item + 10)"
   ]
  },
  {
   "cell_type": "code",
   "execution_count": 45,
   "id": "81464c5f",
   "metadata": {},
   "outputs": [
    {
     "name": "stdout",
     "output_type": "stream",
     "text": [
      "[3, 12, 4, 13, 6, 15, 7, 16, 9, 17]\n"
     ]
    }
   ],
   "source": [
    "numbers = [1, 2, 2, 3, 4, 5, 5, 6, 7, 7]\n",
    "new_numbers = []\n",
    "\n",
    "for i, item in enumerate(numbers):\n",
    "    if i % 2 == 0:\n",
    "        new_numbers.append(item + 2)\n",
    "    else:\n",
    "        new_numbers.append(item + 10)\n",
    "\n",
    "print(new_numbers)"
   ]
  },
  {
   "cell_type": "code",
   "execution_count": null,
   "id": "d767bec8",
   "metadata": {},
   "outputs": [
    {
     "data": {
      "text/plain": [
       "[3, 12, 4, 13, 6, 15, 7, 16, 9, 17]"
      ]
     },
     "execution_count": 49,
     "metadata": {},
     "output_type": "execute_result"
    }
   ],
   "source": [
    "# List comprehension\n",
    "numbers = [1, 2, 2, 3, 4, 5, 5, 6, 7, 7]\n",
    "new_numbers = [item + 2 if i % 2 == 0 else item + 10 for i, item in enumerate(numbers)]\n",
    "new_numbers"
   ]
  },
  {
   "cell_type": "code",
   "execution_count": 52,
   "id": "78b05a19",
   "metadata": {},
   "outputs": [
    {
     "name": "stdout",
     "output_type": "stream",
     "text": [
      "0\n",
      "1\n",
      "2\n",
      "3\n",
      "4\n"
     ]
    }
   ],
   "source": [
    "numbers =range(5)\n",
    "for i in numbers:\n",
    "    print(i)\n"
   ]
  },
  {
   "cell_type": "code",
   "execution_count": 53,
   "id": "ed7961ce",
   "metadata": {},
   "outputs": [
    {
     "name": "stdout",
     "output_type": "stream",
     "text": [
      "5\n",
      "6\n",
      "7\n",
      "8\n",
      "9\n"
     ]
    }
   ],
   "source": [
    "#first number to before last number\n",
    "numbers = range(5, 10)\n",
    "for i in numbers:\n",
    "    print(i)"
   ]
  }
 ],
 "metadata": {
  "kernelspec": {
   "display_name": ".venv",
   "language": "python",
   "name": "python3"
  },
  "language_info": {
   "codemirror_mode": {
    "name": "ipython",
    "version": 3
   },
   "file_extension": ".py",
   "mimetype": "text/x-python",
   "name": "python",
   "nbconvert_exporter": "python",
   "pygments_lexer": "ipython3",
   "version": "3.12.6"
  }
 },
 "nbformat": 4,
 "nbformat_minor": 5
}

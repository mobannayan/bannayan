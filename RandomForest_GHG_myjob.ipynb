{
 "cells": [
  {
   "cell_type": "markdown",
   "id": "df98bfa4",
   "metadata": {},
   "source": [
    "Random Forests are not typically optimized using gradient descent like neural networks or linear models. However, we can regularize them by controlling model complexity. Some regularization-like parameters in Random Forest include:\n",
    "\n",
    "    max_depth – limits the depth of each tree.\n",
    "\n",
    "    min_samples_split / min_samples_leaf – ensures each split has a minimum number of samples.\n",
    "\n",
    "    max_features – limits the number of features considered at each split.\n",
    "\n",
    "    n_estimators – more trees reduce variance but increase computational cost.\n",
    "\n",
    "    bootstrap=False – using the whole dataset rather than bootstrapped samples can reduce variance."
   ]
  },
  {
   "cell_type": "markdown",
   "id": "c1e95fe5",
   "metadata": {},
   "source": [
    "# needs: pip install scikit-optimize\n"
   ]
  },
  {
   "cell_type": "code",
   "execution_count": 1,
   "id": "9c2b64e3",
   "metadata": {},
   "outputs": [],
   "source": [
    "import numpy as np\n",
    "import pandas as pd\n",
    "import matplotlib.pyplot as plt\n",
    "from sklearn.ensemble import RandomForestRegressor\n",
    "from sklearn.model_selection import train_test_split, GridSearchCV, RandomizedSearchCV\n",
    "from sklearn.metrics import mean_squared_error, r2_score\n",
    "from sklearn.impute import SimpleImputer\n",
    "from sklearn.preprocessing import StandardScaler\n",
    "from scipy.stats import randint\n",
    "from skopt import BayesSearchCV\n",
    "from skopt.space import Integer, Categorical"
   ]
  },
  {
   "cell_type": "code",
   "execution_count": 2,
   "id": "cc7a37e5",
   "metadata": {},
   "outputs": [],
   "source": [
    "# 1. Generate synthetic dataset\n",
    "np.random.seed(42)\n",
    "n_samples = 1000\n",
    "\n",
    "# Simulated features (soil, weather, fertilizer, etc.)\n",
    "X = pd.DataFrame({\n",
    "    'soil_carbon': np.random.rand(n_samples),\n",
    "    'rainfall': np.random.rand(n_samples) * 100,\n",
    "    'fertilizer_amount': np.random.rand(n_samples) * 50,\n",
    "    'crop_yield': np.random.rand(n_samples) * 10\n",
    "})\n",
    "\n",
    "# Add some missing values\n",
    "X.loc[X.sample(frac=0.1).index, 'rainfall'] = np.nan\n",
    "X.loc[X.sample(frac=0.05).index, 'fertilizer_amount'] = np.nan\n",
    "\n",
    "# Target variable: simulated GHG emissions (kg CO₂-eq/ha)\n",
    "y = (\n",
    "    10 + 5 * X['soil_carbon'] +\n",
    "    0.2 * X['rainfall'].fillna(50) +\n",
    "    0.8 * X['fertilizer_amount'].fillna(25) +\n",
    "    0.1 * X['crop_yield'] +\n",
    "    np.random.normal(0, 2, n_samples)\n",
    ")"
   ]
  },
  {
   "cell_type": "code",
   "execution_count": 3,
   "id": "c586ff89",
   "metadata": {},
   "outputs": [],
   "source": [
    "# 2. Preprocessing\n",
    "imputer = SimpleImputer(strategy='mean')\n",
    "X_imputed = imputer.fit_transform(X)\n",
    "scaler = StandardScaler()\n",
    "X_scaled = scaler.fit_transform(X_imputed)\n",
    "X_train, X_test, y_train, y_test = train_test_split(X_scaled, y, test_size=0.2, random_state=42)\n"
   ]
  },
  {
   "cell_type": "code",
   "execution_count": 4,
   "id": "ee0878b6",
   "metadata": {},
   "outputs": [],
   "source": [
    "# 3. Parameter space\n",
    "param_grid = {\n",
    "    'n_estimators': [100, 200],\n",
    "    'max_depth': [5, 10, None],\n",
    "    'max_features': ['auto', 'sqrt']\n",
    "}\n",
    "param_dist = {\n",
    "    'n_estimators': randint(100, 201),\n",
    "    'max_depth': [5, 10, None],\n",
    "    'max_features': ['auto', 'sqrt']\n",
    "}\n",
    "param_bayes = {\n",
    "    'n_estimators': Integer(100, 200),\n",
    "    'max_depth': Categorical([5, 10, None]),\n",
    "    'max_features': Categorical(['auto', 'sqrt'])\n",
    "}"
   ]
  },
  {
   "cell_type": "code",
   "execution_count": 5,
   "id": "c9057498",
   "metadata": {},
   "outputs": [],
   "source": [
    "# 4. Results dictionary\n",
    "results = {}"
   ]
  },
  {
   "cell_type": "code",
   "execution_count": 6,
   "id": "bc92f701",
   "metadata": {},
   "outputs": [],
   "source": [
    "# 5. GridSearchCV\n",
    "grid = GridSearchCV(RandomForestRegressor(random_state=42), param_grid,\n",
    "                    cv=5, scoring='neg_mean_squared_error', n_jobs=-1)\n",
    "grid.fit(X_train, y_train)\n",
    "y_pred_grid = grid.predict(X_test)\n",
    "results[\"GridSearchCV\"] = {\n",
    "    'MSE': mean_squared_error(y_test, y_pred_grid),\n",
    "    'R2': r2_score(y_test, y_pred_grid)\n",
    "}"
   ]
  },
  {
   "cell_type": "code",
   "execution_count": 7,
   "id": "dba03018",
   "metadata": {},
   "outputs": [],
   "source": [
    "# 6. RandomizedSearchCV\n",
    "random_search = RandomizedSearchCV(RandomForestRegressor(random_state=42),\n",
    "                                   param_distributions=param_dist,\n",
    "                                   n_iter=6,  # total number of combinations in GridSearch\n",
    "                                   cv=5, scoring='neg_mean_squared_error', n_jobs=-1, random_state=42)\n",
    "random_search.fit(X_train, y_train)\n",
    "y_pred_rand = random_search.predict(X_test)\n",
    "results[\"RandomizedSearchCV\"] = {\n",
    "    'MSE': mean_squared_error(y_test, y_pred_rand),\n",
    "    'R2': r2_score(y_test, y_pred_rand)\n",
    "}"
   ]
  },
  {
   "cell_type": "code",
   "execution_count": 8,
   "id": "1be85168",
   "metadata": {},
   "outputs": [],
   "source": [
    "\n",
    "# 7. BayesSearchCV\n",
    "bayes_search = BayesSearchCV(\n",
    "    RandomForestRegressor(random_state=42),\n",
    "    search_spaces=param_bayes,\n",
    "    n_iter=6,\n",
    "    cv=5,\n",
    "    scoring='neg_mean_squared_error',\n",
    "    n_jobs=-1,\n",
    "    random_state=42\n",
    ")\n",
    "bayes_search.fit(X_train, y_train)\n",
    "y_pred_bayes = bayes_search.predict(X_test)\n",
    "results[\"BayesSearchCV\"] = {\n",
    "    'MSE': mean_squared_error(y_test, y_pred_bayes),\n",
    "    'R2': r2_score(y_test, y_pred_bayes)\n",
    "}"
   ]
  },
  {
   "cell_type": "code",
   "execution_count": 9,
   "id": "60a85d92",
   "metadata": {},
   "outputs": [
    {
     "data": {
      "image/png": "[encoded data removed]",
      "text/plain": [
       "<Figure size 648x432 with 1 Axes>"
      ]
     },
     "metadata": {
      "needs_background": "light"
     },
     "output_type": "display_data"
    }
   ],
   "source": [
    "# 8. Plotting\n",
    "labels = list(results.keys())\n",
    "mse_vals = [results[k]['MSE'] for k in labels]\n",
    "r2_vals = [results[k]['R2'] for k in labels]\n",
    "\n",
    "x = np.arange(len(labels))\n",
    "width = 0.35\n",
    "\n",
    "plt.figure(figsize=(9,6))\n",
    "plt.bar(x - width/2, mse_vals, width, label='MSE')\n",
    "plt.bar(x + width/2, r2_vals, width, label='R² Score')\n",
    "plt.xticks(x, labels, rotation=10)\n",
    "plt.ylabel(\"Score\")\n",
    "plt.title(\"Comparison of Search Strategies (RF Tuning)\")\n",
    "plt.legend()\n",
    "plt.tight_layout()\n",
    "plt.show()"
   ]
  },
  {
   "cell_type": "code",
   "execution_count": 10,
   "id": "43ca4201",
   "metadata": {},
   "outputs": [
    {
     "name": "stdout",
     "output_type": "stream",
     "text": [
      "GridSearchCV: MSE = 6.1558, R² = 0.9661\n",
      "RandomizedSearchCV: MSE = 6.1672, R² = 0.9661\n",
      "BayesSearchCV: MSE = 6.1853, R² = 0.9660\n"
     ]
    }
   ],
   "source": [
    "# 9. Print results\n",
    "for k, v in results.items():\n",
    "    print(f\"{k}: MSE = {v['MSE']:.4f}, R² = {v['R2']:.4f}\")"
   ]
  }
 ],
 "metadata": {
  "kernelspec": {
   "display_name": "base",
   "language": "python",
   "name": "python3"
  },
  "language_info": {
   "codemirror_mode": {
    "name": "ipython",
    "version": 3
   },
   "file_extension": ".py",
   "mimetype": "text/x-python",
   "name": "python",
   "nbconvert_exporter": "python",
   "pygments_lexer": "ipython3",
   "version": "3.9.12"
  }
 },
 "nbformat": 4,
 "nbformat_minor": 5
}

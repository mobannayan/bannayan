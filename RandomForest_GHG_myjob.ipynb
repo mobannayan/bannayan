{
 "cells": [
  {
   "cell_type": "code",
   "execution_count": 1,
   "id": "9c2b64e3",
   "metadata": {},
   "outputs": [],
   "source": [
    "import numpy as np\n",
    "import pandas as pd\n",
    "from sklearn.ensemble import RandomForestRegressor\n",
    "from sklearn.model_selection import train_test_split, GridSearchCV\n",
    "from sklearn.metrics import mean_squared_error, r2_score\n",
    "from sklearn.impute import SimpleImputer\n",
    "from sklearn.preprocessing import StandardScaler"
   ]
  },
  {
   "cell_type": "code",
   "execution_count": 2,
   "id": "cc7a37e5",
   "metadata": {},
   "outputs": [],
   "source": [
    "# 1. Generate synthetic dataset\n",
    "np.random.seed(42)\n",
    "n_samples = 1000\n",
    "\n",
    "# Simulated features (soil, weather, fertilizer, etc.)\n",
    "X = pd.DataFrame({\n",
    "    'soil_carbon': np.random.rand(n_samples),\n",
    "    'rainfall': np.random.rand(n_samples) * 100,\n",
    "    'fertilizer_amount': np.random.rand(n_samples) * 50,\n",
    "    'crop_yield': np.random.rand(n_samples) * 10\n",
    "})\n",
    "\n",
    "# Add some missing values\n",
    "X.loc[X.sample(frac=0.1).index, 'rainfall'] = np.nan\n",
    "X.loc[X.sample(frac=0.05).index, 'fertilizer_amount'] = np.nan\n",
    "\n",
    "# Target variable: simulated GHG emissions (kg CO₂-eq/ha)\n",
    "y = (\n",
    "    10 + 5 * X['soil_carbon'] +\n",
    "    0.2 * X['rainfall'].fillna(50) +\n",
    "    0.8 * X['fertilizer_amount'].fillna(25) +\n",
    "    0.1 * X['crop_yield'] +\n",
    "    np.random.normal(0, 2, n_samples)\n",
    ")"
   ]
  },
  {
   "cell_type": "code",
   "execution_count": 3,
   "id": "c586ff89",
   "metadata": {},
   "outputs": [],
   "source": [
    "# 2. Impute missing values\n",
    "imputer = SimpleImputer(strategy='mean')\n",
    "X_imputed = imputer.fit_transform(X)"
   ]
  },
  {
   "cell_type": "code",
   "execution_count": 4,
   "id": "ee0878b6",
   "metadata": {},
   "outputs": [],
   "source": [
    "# 3. Optional: Feature scaling (not critical for RF but can help)\n",
    "scaler = StandardScaler()\n",
    "X_scaled = scaler.fit_transform(X_imputed)"
   ]
  },
  {
   "cell_type": "code",
   "execution_count": 5,
   "id": "c9057498",
   "metadata": {},
   "outputs": [],
   "source": [
    "# 4. Train-test split\n",
    "X_train, X_test, y_train, y_test = train_test_split(X_scaled, y, test_size=0.2)"
   ]
  },
  {
   "cell_type": "code",
   "execution_count": 6,
   "id": "bc92f701",
   "metadata": {},
   "outputs": [],
   "source": [
    "# 5. Define parameter grid for tuning\n",
    "param_grid = {\n",
    "    'n_estimators': [100, 200],\n",
    "    'max_depth': [5, 10, None],\n",
    "    'max_features': ['auto', 'sqrt']\n",
    "}"
   ]
  },
  {
   "cell_type": "code",
   "execution_count": 7,
   "id": "dba03018",
   "metadata": {},
   "outputs": [
    {
     "data": {
      "text/plain": [
       "GridSearchCV(cv=5, estimator=RandomForestRegressor(random_state=42), n_jobs=-1,\n",
       "             param_grid={'max_depth': [5, 10, None],\n",
       "                         'max_features': ['auto', 'sqrt'],\n",
       "                         'n_estimators': [100, 200]},\n",
       "             scoring='neg_mean_squared_error')"
      ]
     },
     "execution_count": 7,
     "metadata": {},
     "output_type": "execute_result"
    }
   ],
   "source": [
    "# 6. Grid Search with cross-validation\n",
    "rf = RandomForestRegressor(random_state=42)\n",
    "grid = GridSearchCV(rf, param_grid, cv=5, scoring='neg_mean_squared_error', n_jobs=-1)\n",
    "grid.fit(X_train, y_train)"
   ]
  },
  {
   "cell_type": "code",
   "execution_count": 8,
   "id": "1be85168",
   "metadata": {},
   "outputs": [
    {
     "name": "stdout",
     "output_type": "stream",
     "text": [
      "Best Parameters: {'max_depth': 10, 'max_features': 'sqrt', 'n_estimators': 200}\n",
      "Mean Squared Error: 5.7006362415471585\n",
      "R² Score: 0.9672228579967123\n"
     ]
    }
   ],
   "source": [
    "# 7. Best model evaluation\n",
    "best_rf = grid.best_estimator_\n",
    "y_pred = best_rf.predict(X_test)\n",
    "\n",
    "mse = mean_squared_error(y_test, y_pred)\n",
    "r2 = r2_score(y_test, y_pred)\n",
    "\n",
    "print(\"Best Parameters:\", grid.best_params_)\n",
    "print(\"Mean Squared Error:\", mse)\n",
    "print(\"R² Score:\", r2)"
   ]
  }
 ],
 "metadata": {
  "kernelspec": {
   "display_name": "base",
   "language": "python",
   "name": "python3"
  },
  "language_info": {
   "codemirror_mode": {
    "name": "ipython",
    "version": 3
   },
   "file_extension": ".py",
   "mimetype": "text/x-python",
   "name": "python",
   "nbconvert_exporter": "python",
   "pygments_lexer": "ipython3",
   "version": "3.9.12"
  }
 },
 "nbformat": 4,
 "nbformat_minor": 5
}

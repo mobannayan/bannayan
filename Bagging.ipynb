{
 "cells": [
  {
   "cell_type": "code",
   "execution_count": 1,
   "id": "ae00e645",
   "metadata": {},
   "outputs": [],
   "source": [
    "from sklearn.datasets import load_breast_cancer\n",
    "from sklearn.tree import DecisionTreeClassifier\n",
    "from sklearn.ensemble import BaggingClassifier\n",
    "from sklearn.model_selection import StratifiedKFold, cross_validate\n",
    "import numpy as np"
   ]
  },
  {
   "cell_type": "code",
   "execution_count": 2,
   "id": "b492d6a3",
   "metadata": {},
   "outputs": [],
   "source": [
    "# Load dataset\n",
    "data = load_breast_cancer()\n",
    "X, y = data.data, data.target"
   ]
  },
  {
   "cell_type": "code",
   "execution_count": 3,
   "id": "f8aac817",
   "metadata": {},
   "outputs": [],
   "source": [
    "# Define bagging classifier with a decision tree as the base estimator\n",
    "bagging_model = BaggingClassifier(\n",
    "    base_estimator=DecisionTreeClassifier(class_weight='balanced'),\n",
    "    n_estimators=100,            # number of bootstrapped trees\n",
    "    bootstrap=True,              # enables sampling with replacement\n",
    "    oob_score=True,              # enables OOB evaluation\n",
    "    random_state=42,             # for reproducibility\n",
    "    n_jobs=-1                    # use all CPU cores\n",
    ")"
   ]
  },
  {
   "cell_type": "code",
   "execution_count": 4,
   "id": "9846192c",
   "metadata": {},
   "outputs": [
    {
     "data": {
      "text/plain": [
       "BaggingClassifier(base_estimator=DecisionTreeClassifier(class_weight='balanced'),\n",
       "                  n_estimators=100, n_jobs=-1, oob_score=True, random_state=42)"
      ]
     },
     "execution_count": 4,
     "metadata": {},
     "output_type": "execute_result"
    }
   ],
   "source": [
    "# Fit the model\n",
    "bagging_model.fit(X, y)"
   ]
  },
  {
   "cell_type": "code",
   "execution_count": 5,
   "id": "bb6d0645",
   "metadata": {},
   "outputs": [
    {
     "name": "stdout",
     "output_type": "stream",
     "text": [
      "OOB Accuracy Estimate: 0.97\n"
     ]
    }
   ],
   "source": [
    "# Print out-of-bag score (optional)\n",
    "print(\"OOB Accuracy Estimate: %.2f\" % bagging_model.oob_score_)"
   ]
  },
  {
   "cell_type": "code",
   "execution_count": 6,
   "id": "d4f51e71",
   "metadata": {},
   "outputs": [
    {
     "name": "stdout",
     "output_type": "stream",
     "text": [
      "Mean Accuracy: 0.96\n",
      "Mean Precision: 0.96\n",
      "Mean Recall: 0.98\n"
     ]
    }
   ],
   "source": [
    "# Cross-validation\n",
    "scoring_metrics = ['accuracy', 'precision', 'recall']\n",
    "cv = StratifiedKFold(n_splits=10, shuffle=True, random_state=42)\n",
    "\n",
    "scores = cross_validate(bagging_model, X, y, cv=cv, scoring=scoring_metrics)\n",
    "\n",
    "# Print performance metrics\n",
    "print('Mean Accuracy: %.2f' % np.mean(scores['test_accuracy']))\n",
    "print('Mean Precision: %.2f' % np.mean(scores['test_precision']))\n",
    "print('Mean Recall: %.2f' % np.mean(scores['test_recall']))"
   ]
  }
 ],
 "metadata": {
  "kernelspec": {
   "display_name": "base",
   "language": "python",
   "name": "python3"
  },
  "language_info": {
   "codemirror_mode": {
    "name": "ipython",
    "version": 3
   },
   "file_extension": ".py",
   "mimetype": "text/x-python",
   "name": "python",
   "nbconvert_exporter": "python",
   "pygments_lexer": "ipython3",
   "version": "3.9.12"
  }
 },
 "nbformat": 4,
 "nbformat_minor": 5
}

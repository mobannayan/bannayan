{
 "cells": [
  {
   "cell_type": "code",
   "execution_count": 3,
   "id": "cfddb8ec",
   "metadata": {},
   "outputs": [],
   "source": [
    "import pandas as pd"
   ]
  },
  {
   "cell_type": "code",
   "execution_count": 4,
   "id": "5cb7f63c",
   "metadata": {},
   "outputs": [
    {
     "name": "stdout",
     "output_type": "stream",
     "text": [
      "42\n"
     ]
    }
   ],
   "source": [
    "_str1=\"i am going to practice! this check numbers\"\n",
    "# count all characters \n",
    "print(len(_str1))"
   ]
  },
  {
   "cell_type": "code",
   "execution_count": 5,
   "id": "a8c5fe2a",
   "metadata": {},
   "outputs": [
    {
     "name": "stdout",
     "output_type": "stream",
     "text": [
      "8\n"
     ]
    }
   ],
   "source": [
    "#count number of words: tedade fazahaye khali + 1\n",
    "print(_str1.count(\" \")+1)"
   ]
  },
  {
   "cell_type": "code",
   "execution_count": 6,
   "id": "39a8d954",
   "metadata": {},
   "outputs": [
    {
     "name": "stdout",
     "output_type": "stream",
     "text": [
      "0\n"
     ]
    }
   ],
   "source": [
    "# count number of sentences, so count number of dots\n",
    "print(_str1.count(\".\"))"
   ]
  },
  {
   "cell_type": "code",
   "execution_count": 7,
   "id": "617a66fb",
   "metadata": {},
   "outputs": [
    {
     "name": "stdout",
     "output_type": "stream",
     "text": [
      "41\n"
     ]
    }
   ],
   "source": [
    "print(len(_str1)-(_str1.count(\".\")+_str1.count(\"!\")))"
   ]
  },
  {
   "cell_type": "code",
   "execution_count": 8,
   "id": "aeadc84b",
   "metadata": {},
   "outputs": [
    {
     "name": "stdout",
     "output_type": "stream",
     "text": [
      "i am going to pBactice! this check numbeBs\n"
     ]
    }
   ],
   "source": [
    "#replace R to B\n",
    "print(_str1.replace(\"r\", \"B\"))"
   ]
  },
  {
   "cell_type": "code",
   "execution_count": 9,
   "id": "8a61c885",
   "metadata": {},
   "outputs": [
    {
     "name": "stdout",
     "output_type": "stream",
     "text": [
      "\n"
     ]
    }
   ],
   "source": [
    "str2=\"I am mo and I am 62 years old\"\n",
    "print()"
   ]
  },
  {
   "cell_type": "code",
   "execution_count": 10,
   "id": "6e4a87c0",
   "metadata": {},
   "outputs": [
    {
     "name": "stdout",
     "output_type": "stream",
     "text": [
      "my name is Fo and I am 34 old.\n"
     ]
    }
   ],
   "source": [
    "name=\"Fo\"\n",
    "age=24\n",
    "print(f\"my name is {name} and I am {age+10} old.\")"
   ]
  },
  {
   "cell_type": "code",
   "execution_count": 11,
   "id": "ffa6a0a3",
   "metadata": {},
   "outputs": [],
   "source": [
    "import datetime"
   ]
  },
  {
   "cell_type": "code",
   "execution_count": 12,
   "id": "cc93476d",
   "metadata": {},
   "outputs": [
    {
     "name": "stdout",
     "output_type": "stream",
     "text": [
      " 2025: 04 20\n"
     ]
    }
   ],
   "source": [
    "today=datetime.datetime.today()\n",
    "print(f\"{today: %Y: %m %d}\")"
   ]
  },
  {
   "cell_type": "code",
   "execution_count": 13,
   "id": "384b4270",
   "metadata": {},
   "outputs": [
    {
     "name": "stdout",
     "output_type": "stream",
     "text": [
      "  Feature       VIF\n",
      "0   const  9.738294\n",
      "1      X1  1.057558\n",
      "2      X2  1.012578\n",
      "3      X3  1.069762\n"
     ]
    }
   ],
   "source": [
    "import pandas as pd\n",
    "import numpy as np\n",
    "from statsmodels.stats.outliers_influence import variance_inflation_factor\n",
    "from statsmodels.tools.tools import add_constant\n",
    "\n",
    "# Sample DataFrame with predictor variables\n",
    "data = {\n",
    "    'X1': np.random.rand(100),\n",
    "    'X2': np.random.rand(100),\n",
    "    'X3': np.random.rand(100)\n",
    "}\n",
    "df = pd.DataFrame(data)\n",
    "\n",
    "# Add a constant column for intercept\n",
    "X = add_constant(df)\n",
    "\n",
    "# Calculate VIF for each predictor\n",
    "vif_data = pd.DataFrame()\n",
    "vif_data['Feature'] = X.columns\n",
    "vif_data['VIF'] = [variance_inflation_factor(X.values, i) for i in range(X.shape[1])]\n",
    "\n",
    "# Display VIF values\n",
    "print(vif_data)"
   ]
  },
  {
   "cell_type": "code",
   "execution_count": 16,
   "id": "99af9769",
   "metadata": {},
   "outputs": [],
   "source": [
    "# Step 1: Create a sample DataFrame with 100 rows and 3 columns\n",
    "data = {\n",
    "    'Column1': range(100),\n",
    "    'Column2': range(100, 200),\n",
    "    'Column3': range(200, 300)\n",
    "}\n",
    "df2 = pd.DataFrame(data)\n",
    "\n",
    "# Step 2: Generate random numbers between 10 and 250\n",
    "# Create an array of floats instead of integers\n",
    "random_numbers = np.random.randint(10, 251, size=100).astype(float)\n",
    "\n"
   ]
  },
  {
   "cell_type": "code",
   "execution_count": 18,
   "id": "790a1847",
   "metadata": {},
   "outputs": [
    {
     "data": {
      "text/html": [
       "<div>\n",
       "<style scoped>\n",
       "    .dataframe tbody tr th:only-of-type {\n",
       "        vertical-align: middle;\n",
       "    }\n",
       "\n",
       "    .dataframe tbody tr th {\n",
       "        vertical-align: top;\n",
       "    }\n",
       "\n",
       "    .dataframe thead th {\n",
       "        text-align: right;\n",
       "    }\n",
       "</style>\n",
       "<table border=\"1\" class=\"dataframe\">\n",
       "  <thead>\n",
       "    <tr style=\"text-align: right;\">\n",
       "      <th></th>\n",
       "      <th>Column1</th>\n",
       "      <th>Column2</th>\n",
       "      <th>Column3</th>\n",
       "      <th>NewColumn</th>\n",
       "    </tr>\n",
       "  </thead>\n",
       "  <tbody>\n",
       "    <tr>\n",
       "      <th>0</th>\n",
       "      <td>0</td>\n",
       "      <td>100</td>\n",
       "      <td>200</td>\n",
       "      <td>203.0</td>\n",
       "    </tr>\n",
       "    <tr>\n",
       "      <th>1</th>\n",
       "      <td>1</td>\n",
       "      <td>101</td>\n",
       "      <td>201</td>\n",
       "      <td>140.0</td>\n",
       "    </tr>\n",
       "    <tr>\n",
       "      <th>2</th>\n",
       "      <td>2</td>\n",
       "      <td>102</td>\n",
       "      <td>202</td>\n",
       "      <td>NaN</td>\n",
       "    </tr>\n",
       "    <tr>\n",
       "      <th>3</th>\n",
       "      <td>3</td>\n",
       "      <td>103</td>\n",
       "      <td>203</td>\n",
       "      <td>250.0</td>\n",
       "    </tr>\n",
       "  </tbody>\n",
       "</table>\n",
       "</div>"
      ],
      "text/plain": [
       "   Column1  Column2  Column3  NewColumn\n",
       "0        0      100      200      203.0\n",
       "1        1      101      201      140.0\n",
       "2        2      102      202        NaN\n",
       "3        3      103      203      250.0"
      ]
     },
     "execution_count": 18,
     "metadata": {},
     "output_type": "execute_result"
    }
   ],
   "source": [
    "# Step 3: Introduce NaN values randomly\n",
    "# Let's say we want to set 10% of the values to NaN\n",
    "num_nan = int(0.1 * len(random_numbers))  # 10% of 100\n",
    "nan_indices = np.random.choice(df.index, num_nan, replace=False)  # Get random indices to set as NaN\n",
    "random_numbers[nan_indices] = np.nan  # Set those indices to NaN\n",
    "\n",
    "# Step 4: Add the new column to the DataFrame\n",
    "df2['NewColumn'] = random_numbers\n",
    "df2.head(4)"
   ]
  },
  {
   "cell_type": "code",
   "execution_count": 27,
   "id": "79a7038e",
   "metadata": {},
   "outputs": [
    {
     "data": {
      "text/html": [
       "<div>\n",
       "<style scoped>\n",
       "    .dataframe tbody tr th:only-of-type {\n",
       "        vertical-align: middle;\n",
       "    }\n",
       "\n",
       "    .dataframe tbody tr th {\n",
       "        vertical-align: top;\n",
       "    }\n",
       "\n",
       "    .dataframe thead th {\n",
       "        text-align: right;\n",
       "    }\n",
       "</style>\n",
       "<table border=\"1\" class=\"dataframe\">\n",
       "  <thead>\n",
       "    <tr style=\"text-align: right;\">\n",
       "      <th></th>\n",
       "      <th>Column1</th>\n",
       "      <th>Column2</th>\n",
       "      <th>Column3</th>\n",
       "      <th>NewColumn</th>\n",
       "    </tr>\n",
       "  </thead>\n",
       "  <tbody>\n",
       "    <tr>\n",
       "      <th>48</th>\n",
       "      <td>48</td>\n",
       "      <td>148</td>\n",
       "      <td>248</td>\n",
       "      <td>157.00</td>\n",
       "    </tr>\n",
       "    <tr>\n",
       "      <th>0</th>\n",
       "      <td>0</td>\n",
       "      <td>100</td>\n",
       "      <td>200</td>\n",
       "      <td>203.00</td>\n",
       "    </tr>\n",
       "    <tr>\n",
       "      <th>67</th>\n",
       "      <td>67</td>\n",
       "      <td>167</td>\n",
       "      <td>267</td>\n",
       "      <td>133.01</td>\n",
       "    </tr>\n",
       "    <tr>\n",
       "      <th>45</th>\n",
       "      <td>45</td>\n",
       "      <td>145</td>\n",
       "      <td>245</td>\n",
       "      <td>237.00</td>\n",
       "    </tr>\n",
       "    <tr>\n",
       "      <th>61</th>\n",
       "      <td>61</td>\n",
       "      <td>161</td>\n",
       "      <td>261</td>\n",
       "      <td>201.00</td>\n",
       "    </tr>\n",
       "  </tbody>\n",
       "</table>\n",
       "</div>"
      ],
      "text/plain": [
       "    Column1  Column2  Column3  NewColumn\n",
       "48       48      148      248     157.00\n",
       "0         0      100      200     203.00\n",
       "67       67      167      267     133.01\n",
       "45       45      145      245     237.00\n",
       "61       61      161      261     201.00"
      ]
     },
     "execution_count": 27,
     "metadata": {},
     "output_type": "execute_result"
    }
   ],
   "source": [
    "\n",
    "df2.fillna(round(df2['NewColumn'].mean(), 2), inplace=True)\n",
    "\n",
    "df2['NewColumn'] = df2['NewColumn'].round(2)\n",
    "df2.sample(5)"
   ]
  },
  {
   "cell_type": "code",
   "execution_count": 29,
   "id": "ea3733ee",
   "metadata": {},
   "outputs": [
    {
     "data": {
      "text/html": [
       "<div>\n",
       "<style scoped>\n",
       "    .dataframe tbody tr th:only-of-type {\n",
       "        vertical-align: middle;\n",
       "    }\n",
       "\n",
       "    .dataframe tbody tr th {\n",
       "        vertical-align: top;\n",
       "    }\n",
       "\n",
       "    .dataframe thead th {\n",
       "        text-align: right;\n",
       "    }\n",
       "</style>\n",
       "<table border=\"1\" class=\"dataframe\">\n",
       "  <thead>\n",
       "    <tr style=\"text-align: right;\">\n",
       "      <th></th>\n",
       "      <th>Column1</th>\n",
       "      <th>Column2</th>\n",
       "      <th>Column3</th>\n",
       "      <th>NewColumn</th>\n",
       "    </tr>\n",
       "  </thead>\n",
       "  <tbody>\n",
       "    <tr>\n",
       "      <th>0</th>\n",
       "      <td>0</td>\n",
       "      <td>100</td>\n",
       "      <td>200</td>\n",
       "      <td>203.00</td>\n",
       "    </tr>\n",
       "    <tr>\n",
       "      <th>1</th>\n",
       "      <td>1</td>\n",
       "      <td>101</td>\n",
       "      <td>201</td>\n",
       "      <td>140.00</td>\n",
       "    </tr>\n",
       "    <tr>\n",
       "      <th>2</th>\n",
       "      <td>2</td>\n",
       "      <td>102</td>\n",
       "      <td>202</td>\n",
       "      <td>133.01</td>\n",
       "    </tr>\n",
       "  </tbody>\n",
       "</table>\n",
       "</div>"
      ],
      "text/plain": [
       "   Column1  Column2  Column3  NewColumn\n",
       "0        0      100      200     203.00\n",
       "1        1      101      201     140.00\n",
       "2        2      102      202     133.01"
      ]
     },
     "execution_count": 29,
     "metadata": {},
     "output_type": "execute_result"
    }
   ],
   "source": [
    "df2.fillna(round(df2['NewColumn'].interpolate(method='linear')))\n",
    "df2.head(3)"
   ]
  },
  {
   "cell_type": "code",
   "execution_count": 30,
   "id": "0443c6ad",
   "metadata": {},
   "outputs": [
    {
     "name": "stdout",
     "output_type": "stream",
     "text": [
      "          Column1     Column2     Column3   NewColumn\n",
      "count  100.000000  100.000000  100.000000  100.000000\n",
      "mean    49.500000  149.500000  249.500000  133.011800\n",
      "std     29.011492   29.011492   29.011492   60.747115\n",
      "min      0.000000  100.000000  200.000000   11.000000\n",
      "25%     24.750000  124.750000  224.750000   99.750000\n",
      "50%     49.500000  149.500000  249.500000  133.010000\n",
      "75%     74.250000  174.250000  274.250000  173.750000\n",
      "max     99.000000  199.000000  299.000000  250.000000\n"
     ]
    }
   ],
   "source": [
    "stat=df2.describe(include='all')\n",
    "print(stat)"
   ]
  }
 ],
 "metadata": {
  "kernelspec": {
   "display_name": "base",
   "language": "python",
   "name": "python3"
  },
  "language_info": {
   "codemirror_mode": {
    "name": "ipython",
    "version": 3
   },
   "file_extension": ".py",
   "mimetype": "text/x-python",
   "name": "python",
   "nbconvert_exporter": "python",
   "pygments_lexer": "ipython3",
   "version": "3.9.12"
  }
 },
 "nbformat": 4,
 "nbformat_minor": 5
}
